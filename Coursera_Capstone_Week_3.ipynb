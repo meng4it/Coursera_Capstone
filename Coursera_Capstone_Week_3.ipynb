{
 "cells": [
  {
   "cell_type": "markdown",
   "id": "1e0e3374-0720-4bbe-9e0c-78fb1f0b25be",
   "metadata": {},
   "source": [
    "## Question 1"
   ]
  },
  {
   "cell_type": "code",
   "execution_count": 2,
   "id": "edf2b53b-2b39-4c83-a0d4-cbf19a30bcce",
   "metadata": {},
   "outputs": [
    {
     "name": "stdout",
     "output_type": "stream",
     "text": [
      "Requirement already satisfied: wikipedia in c:\\users\\mengf\\pycharmprojects\\pythonstudy\\venv\\lib\\site-packages (1.4.0)\n",
      "Requirement already satisfied: requests<3.0.0,>=2.0.0 in c:\\users\\mengf\\pycharmprojects\\pythonstudy\\venv\\lib\\site-packages (from wikipedia) (2.25.1)\n",
      "Requirement already satisfied: beautifulsoup4 in c:\\users\\mengf\\pycharmprojects\\pythonstudy\\venv\\lib\\site-packages (from wikipedia) (4.9.3)\n",
      "Requirement already satisfied: idna<3,>=2.5 in c:\\users\\mengf\\pycharmprojects\\pythonstudy\\venv\\lib\\site-packages (from requests<3.0.0,>=2.0.0->wikipedia) (2.10)\n",
      "Requirement already satisfied: chardet<5,>=3.0.2 in c:\\users\\mengf\\pycharmprojects\\pythonstudy\\venv\\lib\\site-packages (from requests<3.0.0,>=2.0.0->wikipedia) (4.0.0)\n",
      "Requirement already satisfied: urllib3<1.27,>=1.21.1 in c:\\users\\mengf\\pycharmprojects\\pythonstudy\\venv\\lib\\site-packages (from requests<3.0.0,>=2.0.0->wikipedia) (1.26.4)\n",
      "Requirement already satisfied: certifi>=2017.4.17 in c:\\users\\mengf\\pycharmprojects\\pythonstudy\\venv\\lib\\site-packages (from requests<3.0.0,>=2.0.0->wikipedia) (2020.12.5)\n",
      "Requirement already satisfied: soupsieve>1.2 in c:\\users\\mengf\\pycharmprojects\\pythonstudy\\venv\\lib\\site-packages (from beautifulsoup4->wikipedia) (2.2.1)\n",
      "Requirement already satisfied: lxml in c:\\users\\mengf\\pycharmprojects\\pythonstudy\\venv\\lib\\site-packages (4.6.3)\n",
      "Libraries imported.\n"
     ]
    }
   ],
   "source": [
    "!pip install wikipedia\n",
    "import wikipedia as wp\n",
    "import numpy as np # library to handle data in a vectorized manner\n",
    "\n",
    "import pandas as pd # library for data analsysis\n",
    "pd.set_option('display.max_columns', None)\n",
    "pd.set_option('display.max_rows', None)\n",
    "\n",
    "import json # library to handle JSON files\n",
    "\n",
    "#!conda install -c conda-forge geopy --yes # uncomment this line if you haven't completed the Foursquare API lab\n",
    "from geopy.geocoders import Nominatim # convert an address into latitude and longitude values\n",
    "\n",
    "import requests # library to handle requests\n",
    "from pandas.io.json import json_normalize # tranform JSON file into a pandas dataframe\n",
    "\n",
    "# Matplotlib and associated plotting modules\n",
    "import matplotlib.cm as cm\n",
    "import matplotlib.colors as colors\n",
    "\n",
    "# import k-means from clustering stage\n",
    "from sklearn.cluster import KMeans\n",
    "\n",
    "#!conda install -c conda-forge folium=0.5.0 --yes # uncomment this line if you haven't completed the Foursquare API lab\n",
    "import folium # map rendering library\n",
    "\n",
    "!pip install lxml\n",
    "\n",
    "print('Libraries imported.')"
   ]
  },
  {
   "cell_type": "code",
   "execution_count": 3,
   "id": "c53938c1-ff81-455c-96b1-5ed29e258be4",
   "metadata": {},
   "outputs": [
    {
     "name": "stdout",
     "output_type": "stream",
     "text": [
      "Requirement already satisfied: beautifulsoup4 in c:\\users\\mengf\\pycharmprojects\\pythonstudy\\venv\\lib\\site-packages (4.9.3)\n",
      "Requirement already satisfied: soupsieve>1.2 in c:\\users\\mengf\\pycharmprojects\\pythonstudy\\venv\\lib\\site-packages (from beautifulsoup4) (2.2.1)\n"
     ]
    }
   ],
   "source": [
    "!pip install beautifulsoup4"
   ]
  },
  {
   "cell_type": "code",
   "execution_count": 4,
   "id": "02b63f79-7d8d-4f6f-a6ef-cb0aad07cf9e",
   "metadata": {},
   "outputs": [],
   "source": [
    "from bs4 import BeautifulSoup"
   ]
  },
  {
   "cell_type": "markdown",
   "id": "fecf358b-8166-4c94-b098-0a2ea3fc204f",
   "metadata": {},
   "source": [
    "##Download data from the site"
   ]
  },
  {
   "cell_type": "code",
   "execution_count": 5,
   "id": "1272a209-bb11-46f9-aab1-0812f5222e1f",
   "metadata": {},
   "outputs": [],
   "source": [
    "url = 'https://en.wikipedia.org/wiki/List_of_postal_codes_of_Canada:_M'\n",
    "response = requests.get(url)\n",
    "data = response.text\n",
    "soup = BeautifulSoup(data, 'html.parser')\n"
   ]
  },
  {
   "cell_type": "markdown",
   "id": "1b077bd7-dfea-4131-8121-ca4c57cdc869",
   "metadata": {},
   "source": [
    "### Parse the downloaded data"
   ]
  },
  {
   "cell_type": "code",
   "execution_count": 6,
   "id": "64aa76c0-baa9-41b3-8e9c-e85b716797cd",
   "metadata": {
    "tags": []
   },
   "outputs": [],
   "source": [
    "table_contents=[]\n",
    "table=soup.find('table')\n",
    "for row in table.findAll('td'):\n",
    "    cell = {}\n",
    "    if row.span.text=='Not assigned':\n",
    "        pass\n",
    "    else:\n",
    "        cell['PostalCode'] = row.p.text[:3]\n",
    "        cell['Borough'] = (row.span.text).split('(')[0]\n",
    "        cell['Neighborhood'] = (((((row.span.text).split('(')[1]).strip(')')).replace(' /',',')).replace(')',' ')).strip(' ')\n",
    "        table_contents.append(cell)"
   ]
  },
  {
   "cell_type": "markdown",
   "id": "58fb687c-997d-4ea2-ba7f-a967a2814b5c",
   "metadata": {},
   "source": [
    "### Conver the data to data frame"
   ]
  },
  {
   "cell_type": "code",
   "execution_count": 7,
   "id": "a398d787-8bfa-4707-aade-b72ea4bec790",
   "metadata": {},
   "outputs": [],
   "source": [
    "df = pd.DataFrame(table_contents)"
   ]
  },
  {
   "cell_type": "code",
   "execution_count": 34,
   "id": "7fe322a1-3a64-4fba-9830-a9f42ce44624",
   "metadata": {},
   "outputs": [],
   "source": [
    "df['Borough']=df['Borough'].replace({'Downtown TorontoStn A PO Boxes25 The Esplanade':'Downtown Toronto Stn A',\n",
    "                                             'East TorontoBusiness reply mail Processing Centre969 Eastern':'East Toronto Business',\n",
    "                                             'EtobicokeNorthwest':'Etobicoke Northwest','East YorkEast Toronto':'East York/East Toronto',\n",
    "                                             'MississaugaCanada Post Gateway Processing Centre':'Mississauga'})"
   ]
  },
  {
   "cell_type": "code",
   "execution_count": 35,
   "id": "08a5fcd6-123f-4dd8-8489-ae3ffb0404e3",
   "metadata": {},
   "outputs": [
    {
     "data": {
      "text/html": [
       "<div>\n",
       "<style scoped>\n",
       "    .dataframe tbody tr th:only-of-type {\n",
       "        vertical-align: middle;\n",
       "    }\n",
       "\n",
       "    .dataframe tbody tr th {\n",
       "        vertical-align: top;\n",
       "    }\n",
       "\n",
       "    .dataframe thead th {\n",
       "        text-align: right;\n",
       "    }\n",
       "</style>\n",
       "<table border=\"1\" class=\"dataframe\">\n",
       "  <thead>\n",
       "    <tr style=\"text-align: right;\">\n",
       "      <th></th>\n",
       "      <th>PostalCode</th>\n",
       "      <th>Borough</th>\n",
       "      <th>Neighborhood</th>\n",
       "    </tr>\n",
       "  </thead>\n",
       "  <tbody>\n",
       "    <tr>\n",
       "      <th>0</th>\n",
       "      <td>M3A</td>\n",
       "      <td>North York</td>\n",
       "      <td>Parkwoods</td>\n",
       "    </tr>\n",
       "    <tr>\n",
       "      <th>1</th>\n",
       "      <td>M4A</td>\n",
       "      <td>North York</td>\n",
       "      <td>Victoria Village</td>\n",
       "    </tr>\n",
       "    <tr>\n",
       "      <th>2</th>\n",
       "      <td>M5A</td>\n",
       "      <td>Downtown Toronto</td>\n",
       "      <td>Regent Park, Harbourfront</td>\n",
       "    </tr>\n",
       "    <tr>\n",
       "      <th>3</th>\n",
       "      <td>M6A</td>\n",
       "      <td>North York</td>\n",
       "      <td>Lawrence Manor, Lawrence Heights</td>\n",
       "    </tr>\n",
       "    <tr>\n",
       "      <th>4</th>\n",
       "      <td>M7A</td>\n",
       "      <td>Queen's Park</td>\n",
       "      <td>Ontario Provincial Government</td>\n",
       "    </tr>\n",
       "  </tbody>\n",
       "</table>\n",
       "</div>"
      ],
      "text/plain": [
       "  PostalCode           Borough                      Neighborhood\n",
       "0        M3A        North York                         Parkwoods\n",
       "1        M4A        North York                  Victoria Village\n",
       "2        M5A  Downtown Toronto         Regent Park, Harbourfront\n",
       "3        M6A        North York  Lawrence Manor, Lawrence Heights\n",
       "4        M7A      Queen's Park     Ontario Provincial Government"
      ]
     },
     "execution_count": 35,
     "metadata": {},
     "output_type": "execute_result"
    }
   ],
   "source": [
    "df.head()"
   ]
  },
  {
   "cell_type": "code",
   "execution_count": 36,
   "id": "e3ec6c6d-0476-4ce7-99af-43880ac99746",
   "metadata": {},
   "outputs": [
    {
     "data": {
      "text/plain": [
       "(103, 3)"
      ]
     },
     "execution_count": 36,
     "metadata": {},
     "output_type": "execute_result"
    }
   ],
   "source": [
    "df.shape"
   ]
  },
  {
   "cell_type": "code",
   "execution_count": 11,
   "id": "255cf124-8e42-46f2-b910-8643aa782642",
   "metadata": {},
   "outputs": [
    {
     "name": "stdout",
     "output_type": "stream",
     "text": [
      "Successfully Saved!\n"
     ]
    }
   ],
   "source": [
    "\n",
    "#Save data as'Capstone_part1.csv'\n",
    "df.to_csv('Capstone_part1.csv')\n",
    "print('Successfully Saved!')"
   ]
  },
  {
   "cell_type": "markdown",
   "id": "cf4f05ef-1096-4129-8804-5d94008a4211",
   "metadata": {},
   "source": [
    "## Question 2"
   ]
  },
  {
   "cell_type": "code",
   "execution_count": 12,
   "id": "c71b63e0-cbdd-47f1-8def-680571b9bc00",
   "metadata": {},
   "outputs": [
    {
     "data": {
      "text/html": [
       "<div>\n",
       "<style scoped>\n",
       "    .dataframe tbody tr th:only-of-type {\n",
       "        vertical-align: middle;\n",
       "    }\n",
       "\n",
       "    .dataframe tbody tr th {\n",
       "        vertical-align: top;\n",
       "    }\n",
       "\n",
       "    .dataframe thead th {\n",
       "        text-align: right;\n",
       "    }\n",
       "</style>\n",
       "<table border=\"1\" class=\"dataframe\">\n",
       "  <thead>\n",
       "    <tr style=\"text-align: right;\">\n",
       "      <th></th>\n",
       "      <th>Postal Code</th>\n",
       "      <th>Latitude</th>\n",
       "      <th>Longitude</th>\n",
       "    </tr>\n",
       "  </thead>\n",
       "  <tbody>\n",
       "    <tr>\n",
       "      <th>0</th>\n",
       "      <td>M1B</td>\n",
       "      <td>43.806686</td>\n",
       "      <td>-79.194353</td>\n",
       "    </tr>\n",
       "    <tr>\n",
       "      <th>1</th>\n",
       "      <td>M1C</td>\n",
       "      <td>43.784535</td>\n",
       "      <td>-79.160497</td>\n",
       "    </tr>\n",
       "    <tr>\n",
       "      <th>2</th>\n",
       "      <td>M1E</td>\n",
       "      <td>43.763573</td>\n",
       "      <td>-79.188711</td>\n",
       "    </tr>\n",
       "    <tr>\n",
       "      <th>3</th>\n",
       "      <td>M1G</td>\n",
       "      <td>43.770992</td>\n",
       "      <td>-79.216917</td>\n",
       "    </tr>\n",
       "    <tr>\n",
       "      <th>4</th>\n",
       "      <td>M1H</td>\n",
       "      <td>43.773136</td>\n",
       "      <td>-79.239476</td>\n",
       "    </tr>\n",
       "  </tbody>\n",
       "</table>\n",
       "</div>"
      ],
      "text/plain": [
       "  Postal Code   Latitude  Longitude\n",
       "0         M1B  43.806686 -79.194353\n",
       "1         M1C  43.784535 -79.160497\n",
       "2         M1E  43.763573 -79.188711\n",
       "3         M1G  43.770992 -79.216917\n",
       "4         M1H  43.773136 -79.239476"
      ]
     },
     "execution_count": 12,
     "metadata": {},
     "output_type": "execute_result"
    }
   ],
   "source": [
    "# get the data and create the dataframe\n",
    "url='https://cocl.us/Geospatial_data/Geospatial_Coordinates.csv'\n",
    "df_geo=pd.read_csv(url)\n",
    "df_geo.head()"
   ]
  },
  {
   "cell_type": "code",
   "execution_count": 13,
   "id": "266d042c-4321-4988-9de9-45df62c40b34",
   "metadata": {},
   "outputs": [
    {
     "data": {
      "text/html": [
       "<div>\n",
       "<style scoped>\n",
       "    .dataframe tbody tr th:only-of-type {\n",
       "        vertical-align: middle;\n",
       "    }\n",
       "\n",
       "    .dataframe tbody tr th {\n",
       "        vertical-align: top;\n",
       "    }\n",
       "\n",
       "    .dataframe thead th {\n",
       "        text-align: right;\n",
       "    }\n",
       "</style>\n",
       "<table border=\"1\" class=\"dataframe\">\n",
       "  <thead>\n",
       "    <tr style=\"text-align: right;\">\n",
       "      <th></th>\n",
       "      <th>PostalCode</th>\n",
       "      <th>Latitude</th>\n",
       "      <th>Longitude</th>\n",
       "    </tr>\n",
       "  </thead>\n",
       "  <tbody>\n",
       "    <tr>\n",
       "      <th>0</th>\n",
       "      <td>M1B</td>\n",
       "      <td>43.806686</td>\n",
       "      <td>-79.194353</td>\n",
       "    </tr>\n",
       "    <tr>\n",
       "      <th>1</th>\n",
       "      <td>M1C</td>\n",
       "      <td>43.784535</td>\n",
       "      <td>-79.160497</td>\n",
       "    </tr>\n",
       "    <tr>\n",
       "      <th>2</th>\n",
       "      <td>M1E</td>\n",
       "      <td>43.763573</td>\n",
       "      <td>-79.188711</td>\n",
       "    </tr>\n",
       "    <tr>\n",
       "      <th>3</th>\n",
       "      <td>M1G</td>\n",
       "      <td>43.770992</td>\n",
       "      <td>-79.216917</td>\n",
       "    </tr>\n",
       "    <tr>\n",
       "      <th>4</th>\n",
       "      <td>M1H</td>\n",
       "      <td>43.773136</td>\n",
       "      <td>-79.239476</td>\n",
       "    </tr>\n",
       "  </tbody>\n",
       "</table>\n",
       "</div>"
      ],
      "text/plain": [
       "  PostalCode   Latitude  Longitude\n",
       "0        M1B  43.806686 -79.194353\n",
       "1        M1C  43.784535 -79.160497\n",
       "2        M1E  43.763573 -79.188711\n",
       "3        M1G  43.770992 -79.216917\n",
       "4        M1H  43.773136 -79.239476"
      ]
     },
     "execution_count": 13,
     "metadata": {},
     "output_type": "execute_result"
    }
   ],
   "source": [
    "df_geo = df_geo.rename(columns = {'Postal Code':'PostalCode'})\n",
    "df_geo.head()"
   ]
  },
  {
   "cell_type": "code",
   "execution_count": 14,
   "id": "40aa10a8-7636-4206-a16b-1f1a6de27135",
   "metadata": {},
   "outputs": [
    {
     "data": {
      "text/html": [
       "<div>\n",
       "<style scoped>\n",
       "    .dataframe tbody tr th:only-of-type {\n",
       "        vertical-align: middle;\n",
       "    }\n",
       "\n",
       "    .dataframe tbody tr th {\n",
       "        vertical-align: top;\n",
       "    }\n",
       "\n",
       "    .dataframe thead th {\n",
       "        text-align: right;\n",
       "    }\n",
       "</style>\n",
       "<table border=\"1\" class=\"dataframe\">\n",
       "  <thead>\n",
       "    <tr style=\"text-align: right;\">\n",
       "      <th></th>\n",
       "      <th>Unnamed: 0</th>\n",
       "      <th>PostalCode</th>\n",
       "      <th>Borough</th>\n",
       "      <th>Neighborhood</th>\n",
       "    </tr>\n",
       "  </thead>\n",
       "  <tbody>\n",
       "    <tr>\n",
       "      <th>0</th>\n",
       "      <td>0</td>\n",
       "      <td>M3A</td>\n",
       "      <td>North York</td>\n",
       "      <td>Parkwoods</td>\n",
       "    </tr>\n",
       "    <tr>\n",
       "      <th>1</th>\n",
       "      <td>1</td>\n",
       "      <td>M4A</td>\n",
       "      <td>North York</td>\n",
       "      <td>Victoria Village</td>\n",
       "    </tr>\n",
       "    <tr>\n",
       "      <th>2</th>\n",
       "      <td>2</td>\n",
       "      <td>M5A</td>\n",
       "      <td>Downtown Toronto</td>\n",
       "      <td>Regent Park, Harbourfront</td>\n",
       "    </tr>\n",
       "    <tr>\n",
       "      <th>3</th>\n",
       "      <td>3</td>\n",
       "      <td>M6A</td>\n",
       "      <td>North York</td>\n",
       "      <td>Lawrence Manor, Lawrence Heights</td>\n",
       "    </tr>\n",
       "    <tr>\n",
       "      <th>4</th>\n",
       "      <td>4</td>\n",
       "      <td>M7A</td>\n",
       "      <td>Queen's Park</td>\n",
       "      <td>Ontario Provincial Government</td>\n",
       "    </tr>\n",
       "  </tbody>\n",
       "</table>\n",
       "</div>"
      ],
      "text/plain": [
       "   Unnamed: 0 PostalCode           Borough                      Neighborhood\n",
       "0           0        M3A        North York                         Parkwoods\n",
       "1           1        M4A        North York                  Victoria Village\n",
       "2           2        M5A  Downtown Toronto         Regent Park, Harbourfront\n",
       "3           3        M6A        North York  Lawrence Manor, Lawrence Heights\n",
       "4           4        M7A      Queen's Park     Ontario Provincial Government"
      ]
     },
     "execution_count": 14,
     "metadata": {},
     "output_type": "execute_result"
    }
   ],
   "source": [
    "#We upload the first dataset where we save it as csv file in part 1\n",
    "df3=pd.read_csv('Capstone_part1.csv')\n",
    "df3.head()"
   ]
  },
  {
   "cell_type": "code",
   "execution_count": 15,
   "id": "cda65135-01c4-4b98-b6d5-f84cab7c77f1",
   "metadata": {},
   "outputs": [
    {
     "data": {
      "text/html": [
       "<div>\n",
       "<style scoped>\n",
       "    .dataframe tbody tr th:only-of-type {\n",
       "        vertical-align: middle;\n",
       "    }\n",
       "\n",
       "    .dataframe tbody tr th {\n",
       "        vertical-align: top;\n",
       "    }\n",
       "\n",
       "    .dataframe thead th {\n",
       "        text-align: right;\n",
       "    }\n",
       "</style>\n",
       "<table border=\"1\" class=\"dataframe\">\n",
       "  <thead>\n",
       "    <tr style=\"text-align: right;\">\n",
       "      <th></th>\n",
       "      <th>Unnamed: 0</th>\n",
       "      <th>PostalCode</th>\n",
       "      <th>Borough</th>\n",
       "      <th>Neighborhood</th>\n",
       "      <th>Latitude</th>\n",
       "      <th>Longitude</th>\n",
       "    </tr>\n",
       "  </thead>\n",
       "  <tbody>\n",
       "    <tr>\n",
       "      <th>0</th>\n",
       "      <td>0</td>\n",
       "      <td>M3A</td>\n",
       "      <td>North York</td>\n",
       "      <td>Parkwoods</td>\n",
       "      <td>43.753259</td>\n",
       "      <td>-79.329656</td>\n",
       "    </tr>\n",
       "    <tr>\n",
       "      <th>1</th>\n",
       "      <td>1</td>\n",
       "      <td>M4A</td>\n",
       "      <td>North York</td>\n",
       "      <td>Victoria Village</td>\n",
       "      <td>43.725882</td>\n",
       "      <td>-79.315572</td>\n",
       "    </tr>\n",
       "    <tr>\n",
       "      <th>2</th>\n",
       "      <td>2</td>\n",
       "      <td>M5A</td>\n",
       "      <td>Downtown Toronto</td>\n",
       "      <td>Regent Park, Harbourfront</td>\n",
       "      <td>43.654260</td>\n",
       "      <td>-79.360636</td>\n",
       "    </tr>\n",
       "    <tr>\n",
       "      <th>3</th>\n",
       "      <td>3</td>\n",
       "      <td>M6A</td>\n",
       "      <td>North York</td>\n",
       "      <td>Lawrence Manor, Lawrence Heights</td>\n",
       "      <td>43.718518</td>\n",
       "      <td>-79.464763</td>\n",
       "    </tr>\n",
       "    <tr>\n",
       "      <th>4</th>\n",
       "      <td>4</td>\n",
       "      <td>M7A</td>\n",
       "      <td>Queen's Park</td>\n",
       "      <td>Ontario Provincial Government</td>\n",
       "      <td>43.662301</td>\n",
       "      <td>-79.389494</td>\n",
       "    </tr>\n",
       "  </tbody>\n",
       "</table>\n",
       "</div>"
      ],
      "text/plain": [
       "   Unnamed: 0 PostalCode           Borough                      Neighborhood  \\\n",
       "0           0        M3A        North York                         Parkwoods   \n",
       "1           1        M4A        North York                  Victoria Village   \n",
       "2           2        M5A  Downtown Toronto         Regent Park, Harbourfront   \n",
       "3           3        M6A        North York  Lawrence Manor, Lawrence Heights   \n",
       "4           4        M7A      Queen's Park     Ontario Provincial Government   \n",
       "\n",
       "    Latitude  Longitude  \n",
       "0  43.753259 -79.329656  \n",
       "1  43.725882 -79.315572  \n",
       "2  43.654260 -79.360636  \n",
       "3  43.718518 -79.464763  \n",
       "4  43.662301 -79.389494  "
      ]
     },
     "execution_count": 15,
     "metadata": {},
     "output_type": "execute_result"
    }
   ],
   "source": [
    "df3 = pd.merge(df3, df_geo, on = 'PostalCode')\n",
    "df3.head()"
   ]
  },
  {
   "cell_type": "code",
   "execution_count": 16,
   "id": "bb07030c-a9aa-490e-89bf-3440416a9b02",
   "metadata": {},
   "outputs": [
    {
     "data": {
      "text/plain": [
       "(103, 6)"
      ]
     },
     "execution_count": 16,
     "metadata": {},
     "output_type": "execute_result"
    }
   ],
   "source": [
    "df3.shape"
   ]
  },
  {
   "cell_type": "code",
   "execution_count": 19,
   "id": "992112bf-2cc5-4b81-b3f0-2ccd72a8974f",
   "metadata": {},
   "outputs": [],
   "source": [
    "df3 = df3.drop(columns=[\"Unnamed: 0\"])"
   ]
  },
  {
   "cell_type": "code",
   "execution_count": 23,
   "id": "21d7a3ae-0f28-4d7d-87e8-0c2b02b2a838",
   "metadata": {},
   "outputs": [
    {
     "data": {
      "text/html": [
       "<div>\n",
       "<style scoped>\n",
       "    .dataframe tbody tr th:only-of-type {\n",
       "        vertical-align: middle;\n",
       "    }\n",
       "\n",
       "    .dataframe tbody tr th {\n",
       "        vertical-align: top;\n",
       "    }\n",
       "\n",
       "    .dataframe thead th {\n",
       "        text-align: right;\n",
       "    }\n",
       "</style>\n",
       "<table border=\"1\" class=\"dataframe\">\n",
       "  <thead>\n",
       "    <tr style=\"text-align: right;\">\n",
       "      <th></th>\n",
       "      <th>PostalCode</th>\n",
       "      <th>Borough</th>\n",
       "      <th>Neighborhood</th>\n",
       "      <th>Latitude</th>\n",
       "      <th>Longitude</th>\n",
       "    </tr>\n",
       "  </thead>\n",
       "  <tbody>\n",
       "    <tr>\n",
       "      <th>0</th>\n",
       "      <td>M3A</td>\n",
       "      <td>North York</td>\n",
       "      <td>Parkwoods</td>\n",
       "      <td>43.753259</td>\n",
       "      <td>-79.329656</td>\n",
       "    </tr>\n",
       "    <tr>\n",
       "      <th>1</th>\n",
       "      <td>M4A</td>\n",
       "      <td>North York</td>\n",
       "      <td>Victoria Village</td>\n",
       "      <td>43.725882</td>\n",
       "      <td>-79.315572</td>\n",
       "    </tr>\n",
       "    <tr>\n",
       "      <th>2</th>\n",
       "      <td>M5A</td>\n",
       "      <td>Downtown Toronto</td>\n",
       "      <td>Regent Park, Harbourfront</td>\n",
       "      <td>43.654260</td>\n",
       "      <td>-79.360636</td>\n",
       "    </tr>\n",
       "    <tr>\n",
       "      <th>3</th>\n",
       "      <td>M6A</td>\n",
       "      <td>North York</td>\n",
       "      <td>Lawrence Manor, Lawrence Heights</td>\n",
       "      <td>43.718518</td>\n",
       "      <td>-79.464763</td>\n",
       "    </tr>\n",
       "    <tr>\n",
       "      <th>4</th>\n",
       "      <td>M7A</td>\n",
       "      <td>Queen's Park</td>\n",
       "      <td>Ontario Provincial Government</td>\n",
       "      <td>43.662301</td>\n",
       "      <td>-79.389494</td>\n",
       "    </tr>\n",
       "  </tbody>\n",
       "</table>\n",
       "</div>"
      ],
      "text/plain": [
       "  PostalCode           Borough                      Neighborhood   Latitude  \\\n",
       "0        M3A        North York                         Parkwoods  43.753259   \n",
       "1        M4A        North York                  Victoria Village  43.725882   \n",
       "2        M5A  Downtown Toronto         Regent Park, Harbourfront  43.654260   \n",
       "3        M6A        North York  Lawrence Manor, Lawrence Heights  43.718518   \n",
       "4        M7A      Queen's Park     Ontario Provincial Government  43.662301   \n",
       "\n",
       "   Longitude  \n",
       "0 -79.329656  \n",
       "1 -79.315572  \n",
       "2 -79.360636  \n",
       "3 -79.464763  \n",
       "4 -79.389494  "
      ]
     },
     "execution_count": 23,
     "metadata": {},
     "output_type": "execute_result"
    }
   ],
   "source": [
    "df3.head()"
   ]
  },
  {
   "cell_type": "code",
   "execution_count": 21,
   "id": "18c8284c-9f5b-4f32-9847-883f568594b1",
   "metadata": {},
   "outputs": [
    {
     "name": "stdout",
     "output_type": "stream",
     "text": [
      "Successfully Saved!\n"
     ]
    }
   ],
   "source": [
    "#Save data as'Capstone_part2.csv'\n",
    "df3.to_csv('Capstone_part2.csv', index=False)\n",
    "print('Successfully Saved!')"
   ]
  },
  {
   "cell_type": "markdown",
   "id": "a6190d33-dc04-4a62-83b1-c73df84f3f12",
   "metadata": {},
   "source": [
    "## Question 3"
   ]
  },
  {
   "cell_type": "code",
   "execution_count": 22,
   "id": "5d7751cd-b283-4056-956a-775c28816944",
   "metadata": {},
   "outputs": [],
   "source": [
    "import pandas as pd\n",
    "import numpy as np\n",
    "from geopy.geocoders import Nominatim\n",
    "import folium\n",
    "import matplotlib.cm as cm\n",
    "import matplotlib.colors as colors"
   ]
  },
  {
   "cell_type": "code",
   "execution_count": 42,
   "id": "fd7fd964-71e3-40df-a9f7-1f34852c73f0",
   "metadata": {},
   "outputs": [
    {
     "name": "stdout",
     "output_type": "stream",
     "text": [
      "Successfully Read!\n"
     ]
    },
    {
     "data": {
      "text/html": [
       "<div>\n",
       "<style scoped>\n",
       "    .dataframe tbody tr th:only-of-type {\n",
       "        vertical-align: middle;\n",
       "    }\n",
       "\n",
       "    .dataframe tbody tr th {\n",
       "        vertical-align: top;\n",
       "    }\n",
       "\n",
       "    .dataframe thead th {\n",
       "        text-align: right;\n",
       "    }\n",
       "</style>\n",
       "<table border=\"1\" class=\"dataframe\">\n",
       "  <thead>\n",
       "    <tr style=\"text-align: right;\">\n",
       "      <th></th>\n",
       "      <th>PostalCode</th>\n",
       "      <th>Borough</th>\n",
       "      <th>Neighborhood</th>\n",
       "      <th>Latitude</th>\n",
       "      <th>Longitude</th>\n",
       "    </tr>\n",
       "  </thead>\n",
       "  <tbody>\n",
       "    <tr>\n",
       "      <th>0</th>\n",
       "      <td>M3A</td>\n",
       "      <td>North York</td>\n",
       "      <td>Parkwoods</td>\n",
       "      <td>43.753259</td>\n",
       "      <td>-79.329656</td>\n",
       "    </tr>\n",
       "    <tr>\n",
       "      <th>1</th>\n",
       "      <td>M4A</td>\n",
       "      <td>North York</td>\n",
       "      <td>Victoria Village</td>\n",
       "      <td>43.725882</td>\n",
       "      <td>-79.315572</td>\n",
       "    </tr>\n",
       "    <tr>\n",
       "      <th>2</th>\n",
       "      <td>M5A</td>\n",
       "      <td>Downtown Toronto</td>\n",
       "      <td>Regent Park, Harbourfront</td>\n",
       "      <td>43.654260</td>\n",
       "      <td>-79.360636</td>\n",
       "    </tr>\n",
       "    <tr>\n",
       "      <th>3</th>\n",
       "      <td>M6A</td>\n",
       "      <td>North York</td>\n",
       "      <td>Lawrence Manor, Lawrence Heights</td>\n",
       "      <td>43.718518</td>\n",
       "      <td>-79.464763</td>\n",
       "    </tr>\n",
       "    <tr>\n",
       "      <th>4</th>\n",
       "      <td>M7A</td>\n",
       "      <td>Queen's Park</td>\n",
       "      <td>Ontario Provincial Government</td>\n",
       "      <td>43.662301</td>\n",
       "      <td>-79.389494</td>\n",
       "    </tr>\n",
       "  </tbody>\n",
       "</table>\n",
       "</div>"
      ],
      "text/plain": [
       "  PostalCode           Borough                      Neighborhood   Latitude  \\\n",
       "0        M3A        North York                         Parkwoods  43.753259   \n",
       "1        M4A        North York                  Victoria Village  43.725882   \n",
       "2        M5A  Downtown Toronto         Regent Park, Harbourfront  43.654260   \n",
       "3        M6A        North York  Lawrence Manor, Lawrence Heights  43.718518   \n",
       "4        M7A      Queen's Park     Ontario Provincial Government  43.662301   \n",
       "\n",
       "   Longitude  \n",
       "0 -79.329656  \n",
       "1 -79.315572  \n",
       "2 -79.360636  \n",
       "3 -79.464763  \n",
       "4 -79.389494  "
      ]
     },
     "execution_count": 42,
     "metadata": {},
     "output_type": "execute_result"
    }
   ],
   "source": [
    "#Save data as'Capstone_part2.csv'\n",
    "df3 = pd.read_csv('Capstone_part2.csv')\n",
    "print('Successfully Read!')\n",
    "df3.head()"
   ]
  },
  {
   "cell_type": "markdown",
   "id": "9e3dd7d0-2e58-47e7-9a1f-72f3760a0e0b",
   "metadata": {},
   "source": [
    "#### Select keyword Toronto in Borough"
   ]
  },
  {
   "cell_type": "code",
   "execution_count": 26,
   "id": "d320a5a8-6926-4aaa-bc34-f43f37d216ef",
   "metadata": {},
   "outputs": [
    {
     "data": {
      "text/html": [
       "<div>\n",
       "<style scoped>\n",
       "    .dataframe tbody tr th:only-of-type {\n",
       "        vertical-align: middle;\n",
       "    }\n",
       "\n",
       "    .dataframe tbody tr th {\n",
       "        vertical-align: top;\n",
       "    }\n",
       "\n",
       "    .dataframe thead th {\n",
       "        text-align: right;\n",
       "    }\n",
       "</style>\n",
       "<table border=\"1\" class=\"dataframe\">\n",
       "  <thead>\n",
       "    <tr style=\"text-align: right;\">\n",
       "      <th></th>\n",
       "      <th>PostalCode</th>\n",
       "      <th>Borough</th>\n",
       "      <th>Neighborhood</th>\n",
       "      <th>Latitude</th>\n",
       "      <th>Longitude</th>\n",
       "    </tr>\n",
       "  </thead>\n",
       "  <tbody>\n",
       "    <tr>\n",
       "      <th>0</th>\n",
       "      <td>M5A</td>\n",
       "      <td>Downtown Toronto</td>\n",
       "      <td>Regent Park, Harbourfront</td>\n",
       "      <td>43.654260</td>\n",
       "      <td>-79.360636</td>\n",
       "    </tr>\n",
       "    <tr>\n",
       "      <th>1</th>\n",
       "      <td>M5B</td>\n",
       "      <td>Downtown Toronto</td>\n",
       "      <td>Garden District, Ryerson</td>\n",
       "      <td>43.657162</td>\n",
       "      <td>-79.378937</td>\n",
       "    </tr>\n",
       "    <tr>\n",
       "      <th>2</th>\n",
       "      <td>M5C</td>\n",
       "      <td>Downtown Toronto</td>\n",
       "      <td>St. James Town</td>\n",
       "      <td>43.651494</td>\n",
       "      <td>-79.375418</td>\n",
       "    </tr>\n",
       "    <tr>\n",
       "      <th>3</th>\n",
       "      <td>M4E</td>\n",
       "      <td>East Toronto</td>\n",
       "      <td>The Beaches</td>\n",
       "      <td>43.676357</td>\n",
       "      <td>-79.293031</td>\n",
       "    </tr>\n",
       "    <tr>\n",
       "      <th>4</th>\n",
       "      <td>M5E</td>\n",
       "      <td>Downtown Toronto</td>\n",
       "      <td>Berczy Park</td>\n",
       "      <td>43.644771</td>\n",
       "      <td>-79.373306</td>\n",
       "    </tr>\n",
       "  </tbody>\n",
       "</table>\n",
       "</div>"
      ],
      "text/plain": [
       "  PostalCode           Borough               Neighborhood   Latitude  \\\n",
       "0        M5A  Downtown Toronto  Regent Park, Harbourfront  43.654260   \n",
       "1        M5B  Downtown Toronto   Garden District, Ryerson  43.657162   \n",
       "2        M5C  Downtown Toronto             St. James Town  43.651494   \n",
       "3        M4E      East Toronto                The Beaches  43.676357   \n",
       "4        M5E  Downtown Toronto                Berczy Park  43.644771   \n",
       "\n",
       "   Longitude  \n",
       "0 -79.360636  \n",
       "1 -79.378937  \n",
       "2 -79.375418  \n",
       "3 -79.293031  \n",
       "4 -79.373306  "
      ]
     },
     "execution_count": 26,
     "metadata": {},
     "output_type": "execute_result"
    }
   ],
   "source": [
    "df4 = df3[df3[\"Borough\"].str.contains(\"Toronto\")]\n",
    "df5 = df4.reset_index(drop=True)\n",
    "df5.head()"
   ]
  },
  {
   "cell_type": "code",
   "execution_count": 27,
   "id": "a463e04e-04ba-443b-9dd0-217cc8e2e047",
   "metadata": {},
   "outputs": [
    {
     "data": {
      "text/plain": [
       "(39, 5)"
      ]
     },
     "execution_count": 27,
     "metadata": {},
     "output_type": "execute_result"
    }
   ],
   "source": [
    "df5.shape"
   ]
  },
  {
   "cell_type": "code",
   "execution_count": 28,
   "id": "b52a09f0-b73d-4269-89ef-2c86421e8baa",
   "metadata": {},
   "outputs": [
    {
     "data": {
      "text/plain": [
       "Downtown Toronto          17\n",
       "Central Toronto            9\n",
       "West Toronto               6\n",
       "East Toronto               4\n",
       "East York/East Toronto     1\n",
       "East Toronto Business      1\n",
       "Downtown Toronto Stn A     1\n",
       "Name: Borough, dtype: int64"
      ]
     },
     "execution_count": 28,
     "metadata": {},
     "output_type": "execute_result"
    }
   ],
   "source": [
    "df5[\"Borough\"].value_counts()"
   ]
  },
  {
   "cell_type": "code",
   "execution_count": 30,
   "id": "0bcab838-564c-4a91-840c-21453da67900",
   "metadata": {},
   "outputs": [
    {
     "data": {
      "text/html": [
       "<div>\n",
       "<style scoped>\n",
       "    .dataframe tbody tr th:only-of-type {\n",
       "        vertical-align: middle;\n",
       "    }\n",
       "\n",
       "    .dataframe tbody tr th {\n",
       "        vertical-align: top;\n",
       "    }\n",
       "\n",
       "    .dataframe thead th {\n",
       "        text-align: right;\n",
       "    }\n",
       "</style>\n",
       "<table border=\"1\" class=\"dataframe\">\n",
       "  <thead>\n",
       "    <tr style=\"text-align: right;\">\n",
       "      <th></th>\n",
       "      <th>PostalCode</th>\n",
       "      <th>Borough</th>\n",
       "      <th>Neighborhood</th>\n",
       "      <th>Latitude</th>\n",
       "      <th>Longitude</th>\n",
       "      <th>Label</th>\n",
       "    </tr>\n",
       "  </thead>\n",
       "  <tbody>\n",
       "    <tr>\n",
       "      <th>0</th>\n",
       "      <td>M5A</td>\n",
       "      <td>Downtown Toronto</td>\n",
       "      <td>Regent Park, Harbourfront</td>\n",
       "      <td>43.654260</td>\n",
       "      <td>-79.360636</td>\n",
       "      <td>1</td>\n",
       "    </tr>\n",
       "    <tr>\n",
       "      <th>1</th>\n",
       "      <td>M5B</td>\n",
       "      <td>Downtown Toronto</td>\n",
       "      <td>Garden District, Ryerson</td>\n",
       "      <td>43.657162</td>\n",
       "      <td>-79.378937</td>\n",
       "      <td>1</td>\n",
       "    </tr>\n",
       "    <tr>\n",
       "      <th>2</th>\n",
       "      <td>M5C</td>\n",
       "      <td>Downtown Toronto</td>\n",
       "      <td>St. James Town</td>\n",
       "      <td>43.651494</td>\n",
       "      <td>-79.375418</td>\n",
       "      <td>1</td>\n",
       "    </tr>\n",
       "    <tr>\n",
       "      <th>3</th>\n",
       "      <td>M4E</td>\n",
       "      <td>East Toronto</td>\n",
       "      <td>The Beaches</td>\n",
       "      <td>43.676357</td>\n",
       "      <td>-79.293031</td>\n",
       "      <td>4</td>\n",
       "    </tr>\n",
       "    <tr>\n",
       "      <th>4</th>\n",
       "      <td>M5E</td>\n",
       "      <td>Downtown Toronto</td>\n",
       "      <td>Berczy Park</td>\n",
       "      <td>43.644771</td>\n",
       "      <td>-79.373306</td>\n",
       "      <td>1</td>\n",
       "    </tr>\n",
       "  </tbody>\n",
       "</table>\n",
       "</div>"
      ],
      "text/plain": [
       "  PostalCode           Borough               Neighborhood   Latitude  \\\n",
       "0        M5A  Downtown Toronto  Regent Park, Harbourfront  43.654260   \n",
       "1        M5B  Downtown Toronto   Garden District, Ryerson  43.657162   \n",
       "2        M5C  Downtown Toronto             St. James Town  43.651494   \n",
       "3        M4E      East Toronto                The Beaches  43.676357   \n",
       "4        M5E  Downtown Toronto                Berczy Park  43.644771   \n",
       "\n",
       "   Longitude Label  \n",
       "0 -79.360636     1  \n",
       "1 -79.378937     1  \n",
       "2 -79.375418     1  \n",
       "3 -79.293031     4  \n",
       "4 -79.373306     1  "
      ]
     },
     "execution_count": 30,
     "metadata": {},
     "output_type": "execute_result"
    }
   ],
   "source": [
    "df5[\"Label\"] = df5[\"Borough\"].replace(to_replace=['Downtown Toronto', 'Central Toronto', 'West Toronto', 'East Toronto'], value=[1,2,3,4], inplace=False)\n",
    "df5.head()"
   ]
  },
  {
   "cell_type": "code",
   "execution_count": 31,
   "id": "53d156ed-57cf-4ce2-a22a-23928bcbb80f",
   "metadata": {
    "tags": []
   },
   "outputs": [
    {
     "name": "stdout",
     "output_type": "stream",
     "text": [
      "The geograpical coordinate of Toronto are 43.6534817, -79.3839347.\n"
     ]
    }
   ],
   "source": [
    "address = 'Toronto'\n",
    "geolocator = Nominatim(user_agent=\"toronto_explorer\")\n",
    "location = geolocator.geocode(address)\n",
    "latitude = location.latitude\n",
    "longitude = location.longitude\n",
    "print(f'The geograpical coordinate of Toronto are {latitude}, {longitude}.')"
   ]
  },
  {
   "cell_type": "code",
   "execution_count": 52,
   "id": "29c5ac71-2f95-4862-8a84-cdc899300afe",
   "metadata": {},
   "outputs": [],
   "source": [
    "#for set the cluster number as label number\n",
    "kclusters=len(df5.Label.unique())\n",
    "\n",
    "# create map\n",
    "map_toronto = folium.Map(location=[latitude, longitude], zoom_start=11)\n",
    "\n",
    "# add markers to the map\n",
    "markers_colors = []\n",
    "for lat, lon in zip(df5['Latitude'], df5['Longitude']):\n",
    "    label = folium.Popup(str(df5['Borough']), parse_html=True)\n",
    "    folium.CircleMarker(\n",
    "        [lat, lon],\n",
    "        radius=5,\n",
    "        popup=label,\n",
    "        color='blue',\n",
    "        fill=True,\n",
    "        fill_color='blue',\n",
    "        fill_opacity=0.4).add_to(map_toronto)"
   ]
  },
  {
   "cell_type": "code",
   "execution_count": 53,
   "id": "9f40025f-858e-443d-9c06-2e52b75dc081",
   "metadata": {},
   "outputs": [
    {
     "data": {
      "text/html": [
       "<div style=\"width:100%;\"><div style=\"position:relative;width:100%;height:0;padding-bottom:60%;\"><span style=\"color:#565656\">Make this Notebook Trusted to load map: File -> Trust Notebook</span><iframe src=\"about:blank\" style=\"position:absolute;width:100%;height:100%;left:0;top:0;border:none !important;\" data-html=%3C%21DOCTYPE%20html%3E%0A%3Chead%3E%20%20%20%20%0A%20%20%20%20%3Cmeta%20http-equiv%3D%22content-type%22%20content%3D%22text/html%3B%20charset%3DUTF-8%22%20/%3E%0A%20%20%20%20%0A%20%20%20%20%20%20%20%20%3Cscript%3E%0A%20%20%20%20%20%20%20%20%20%20%20%20L_NO_TOUCH%20%3D%20false%3B%0A%20%20%20%20%20%20%20%20%20%20%20%20L_DISABLE_3D%20%3D%20false%3B%0A%20%20%20%20%20%20%20%20%3C/script%3E%0A%20%20%20%20%0A%20%20%20%20%3Cstyle%3Ehtml%2C%20body%20%7Bwidth%3A%20100%25%3Bheight%3A%20100%25%3Bmargin%3A%200%3Bpadding%3A%200%3B%7D%3C/style%3E%0A%20%20%20%20%3Cstyle%3E%23map%20%7Bposition%3Aabsolute%3Btop%3A0%3Bbottom%3A0%3Bright%3A0%3Bleft%3A0%3B%7D%3C/style%3E%0A%20%20%20%20%3Cscript%20src%3D%22https%3A//cdn.jsdelivr.net/npm/leaflet%401.6.0/dist/leaflet.js%22%3E%3C/script%3E%0A%20%20%20%20%3Cscript%20src%3D%22https%3A//code.jquery.com/jquery-1.12.4.min.js%22%3E%3C/script%3E%0A%20%20%20%20%3Cscript%20src%3D%22https%3A//maxcdn.bootstrapcdn.com/bootstrap/3.2.0/js/bootstrap.min.js%22%3E%3C/script%3E%0A%20%20%20%20%3Cscript%20src%3D%22https%3A//cdnjs.cloudflare.com/ajax/libs/Leaflet.awesome-markers/2.0.2/leaflet.awesome-markers.js%22%3E%3C/script%3E%0A%20%20%20%20%3Clink%20rel%3D%22stylesheet%22%20href%3D%22https%3A//cdn.jsdelivr.net/npm/leaflet%401.6.0/dist/leaflet.css%22/%3E%0A%20%20%20%20%3Clink%20rel%3D%22stylesheet%22%20href%3D%22https%3A//maxcdn.bootstrapcdn.com/bootstrap/3.2.0/css/bootstrap.min.css%22/%3E%0A%20%20%20%20%3Clink%20rel%3D%22stylesheet%22%20href%3D%22https%3A//maxcdn.bootstrapcdn.com/bootstrap/3.2.0/css/bootstrap-theme.min.css%22/%3E%0A%20%20%20%20%3Clink%20rel%3D%22stylesheet%22%20href%3D%22https%3A//maxcdn.bootstrapcdn.com/font-awesome/4.6.3/css/font-awesome.min.css%22/%3E%0A%20%20%20%20%3Clink%20rel%3D%22stylesheet%22%20href%3D%22https%3A//cdnjs.cloudflare.com/ajax/libs/Leaflet.awesome-markers/2.0.2/leaflet.awesome-markers.css%22/%3E%0A%20%20%20%20%3Clink%20rel%3D%22stylesheet%22%20href%3D%22https%3A//cdn.jsdelivr.net/gh/python-visualization/folium/folium/templates/leaflet.awesome.rotate.min.css%22/%3E%0A%20%20%20%20%0A%20%20%20%20%20%20%20%20%20%20%20%20%3Cmeta%20name%3D%22viewport%22%20content%3D%22width%3Ddevice-width%2C%0A%20%20%20%20%20%20%20%20%20%20%20%20%20%20%20%20initial-scale%3D1.0%2C%20maximum-scale%3D1.0%2C%20user-scalable%3Dno%22%20/%3E%0A%20%20%20%20%20%20%20%20%20%20%20%20%3Cstyle%3E%0A%20%20%20%20%20%20%20%20%20%20%20%20%20%20%20%20%23map_8530485182ab4fce80bb58b0080c8971%20%7B%0A%20%20%20%20%20%20%20%20%20%20%20%20%20%20%20%20%20%20%20%20position%3A%20relative%3B%0A%20%20%20%20%20%20%20%20%20%20%20%20%20%20%20%20%20%20%20%20width%3A%20100.0%25%3B%0A%20%20%20%20%20%20%20%20%20%20%20%20%20%20%20%20%20%20%20%20height%3A%20100.0%25%3B%0A%20%20%20%20%20%20%20%20%20%20%20%20%20%20%20%20%20%20%20%20left%3A%200.0%25%3B%0A%20%20%20%20%20%20%20%20%20%20%20%20%20%20%20%20%20%20%20%20top%3A%200.0%25%3B%0A%20%20%20%20%20%20%20%20%20%20%20%20%20%20%20%20%7D%0A%20%20%20%20%20%20%20%20%20%20%20%20%3C/style%3E%0A%20%20%20%20%20%20%20%20%0A%3C/head%3E%0A%3Cbody%3E%20%20%20%20%0A%20%20%20%20%0A%20%20%20%20%20%20%20%20%20%20%20%20%3Cdiv%20class%3D%22folium-map%22%20id%3D%22map_8530485182ab4fce80bb58b0080c8971%22%20%3E%3C/div%3E%0A%20%20%20%20%20%20%20%20%0A%3C/body%3E%0A%3Cscript%3E%20%20%20%20%0A%20%20%20%20%0A%20%20%20%20%20%20%20%20%20%20%20%20var%20map_8530485182ab4fce80bb58b0080c8971%20%3D%20L.map%28%0A%20%20%20%20%20%20%20%20%20%20%20%20%20%20%20%20%22map_8530485182ab4fce80bb58b0080c8971%22%2C%0A%20%20%20%20%20%20%20%20%20%20%20%20%20%20%20%20%7B%0A%20%20%20%20%20%20%20%20%20%20%20%20%20%20%20%20%20%20%20%20center%3A%20%5B43.6534817%2C%20-79.3839347%5D%2C%0A%20%20%20%20%20%20%20%20%20%20%20%20%20%20%20%20%20%20%20%20crs%3A%20L.CRS.EPSG3857%2C%0A%20%20%20%20%20%20%20%20%20%20%20%20%20%20%20%20%20%20%20%20zoom%3A%2011%2C%0A%20%20%20%20%20%20%20%20%20%20%20%20%20%20%20%20%20%20%20%20zoomControl%3A%20true%2C%0A%20%20%20%20%20%20%20%20%20%20%20%20%20%20%20%20%20%20%20%20preferCanvas%3A%20false%2C%0A%20%20%20%20%20%20%20%20%20%20%20%20%20%20%20%20%7D%0A%20%20%20%20%20%20%20%20%20%20%20%20%29%3B%0A%0A%20%20%20%20%20%20%20%20%20%20%20%20%0A%0A%20%20%20%20%20%20%20%20%0A%20%20%20%20%0A%20%20%20%20%20%20%20%20%20%20%20%20var%20tile_layer_a5814329103444f4be2d9ce695779ab1%20%3D%20L.tileLayer%28%0A%20%20%20%20%20%20%20%20%20%20%20%20%20%20%20%20%22https%3A//%7Bs%7D.tile.openstreetmap.org/%7Bz%7D/%7Bx%7D/%7By%7D.png%22%2C%0A%20%20%20%20%20%20%20%20%20%20%20%20%20%20%20%20%7B%22attribution%22%3A%20%22Data%20by%20%5Cu0026copy%3B%20%5Cu003ca%20href%3D%5C%22http%3A//openstreetmap.org%5C%22%5Cu003eOpenStreetMap%5Cu003c/a%5Cu003e%2C%20under%20%5Cu003ca%20href%3D%5C%22http%3A//www.openstreetmap.org/copyright%5C%22%5Cu003eODbL%5Cu003c/a%5Cu003e.%22%2C%20%22detectRetina%22%3A%20false%2C%20%22maxNativeZoom%22%3A%2018%2C%20%22maxZoom%22%3A%2018%2C%20%22minZoom%22%3A%200%2C%20%22noWrap%22%3A%20false%2C%20%22opacity%22%3A%201%2C%20%22subdomains%22%3A%20%22abc%22%2C%20%22tms%22%3A%20false%7D%0A%20%20%20%20%20%20%20%20%20%20%20%20%29.addTo%28map_8530485182ab4fce80bb58b0080c8971%29%3B%0A%20%20%20%20%20%20%20%20%0A%20%20%20%20%0A%20%20%20%20%20%20%20%20%20%20%20%20var%20circle_marker_2412925982864e0f803932e1af5ac66e%20%3D%20L.circleMarker%28%0A%20%20%20%20%20%20%20%20%20%20%20%20%20%20%20%20%5B43.6542599%2C%20-79.3606359%5D%2C%0A%20%20%20%20%20%20%20%20%20%20%20%20%20%20%20%20%7B%22bubblingMouseEvents%22%3A%20true%2C%20%22color%22%3A%20%22blue%22%2C%20%22dashArray%22%3A%20null%2C%20%22dashOffset%22%3A%20null%2C%20%22fill%22%3A%20true%2C%20%22fillColor%22%3A%20%22blue%22%2C%20%22fillOpacity%22%3A%200.4%2C%20%22fillRule%22%3A%20%22evenodd%22%2C%20%22lineCap%22%3A%20%22round%22%2C%20%22lineJoin%22%3A%20%22round%22%2C%20%22opacity%22%3A%201.0%2C%20%22radius%22%3A%205%2C%20%22stroke%22%3A%20true%2C%20%22weight%22%3A%203%7D%0A%20%20%20%20%20%20%20%20%20%20%20%20%29.addTo%28map_8530485182ab4fce80bb58b0080c8971%29%3B%0A%20%20%20%20%20%20%20%20%0A%20%20%20%20%0A%20%20%20%20%20%20%20%20var%20popup_555997e99ea84fea88729cedac903380%20%3D%20L.popup%28%7B%22maxWidth%22%3A%20%22100%25%22%7D%29%3B%0A%0A%20%20%20%20%20%20%20%20%0A%20%20%20%20%20%20%20%20%20%20%20%20var%20html_cc888eefbe2040b49b715d209f117318%20%3D%20%24%28%60%3Cdiv%20id%3D%22html_cc888eefbe2040b49b715d209f117318%22%20style%3D%22width%3A%20100.0%25%3B%20height%3A%20100.0%25%3B%22%3E0%20%20%20%20%20%20%20%20%20%20%20Downtown%20Toronto%201%20%20%20%20%20%20%20%20%20%20%20Downtown%20Toronto%202%20%20%20%20%20%20%20%20%20%20%20Downtown%20Toronto%203%20%20%20%20%20%20%20%20%20%20%20%20%20%20%20East%20Toronto%204%20%20%20%20%20%20%20%20%20%20%20Downtown%20Toronto%205%20%20%20%20%20%20%20%20%20%20%20Downtown%20Toronto%206%20%20%20%20%20%20%20%20%20%20%20Downtown%20Toronto%207%20%20%20%20%20%20%20%20%20%20%20Downtown%20Toronto%208%20%20%20%20%20%20%20%20%20%20%20%20%20%20%20West%20Toronto%209%20%20%20%20%20East%20York/East%20Toronto%2010%20%20%20%20%20%20%20%20%20%20Downtown%20Toronto%2011%20%20%20%20%20%20%20%20%20%20%20%20%20%20West%20Toronto%2012%20%20%20%20%20%20%20%20%20%20%20%20%20%20East%20Toronto%2013%20%20%20%20%20%20%20%20%20%20Downtown%20Toronto%2014%20%20%20%20%20%20%20%20%20%20%20%20%20%20West%20Toronto%2015%20%20%20%20%20%20%20%20%20%20%20%20%20%20East%20Toronto%2016%20%20%20%20%20%20%20%20%20%20Downtown%20Toronto%2017%20%20%20%20%20%20%20%20%20%20%20%20%20%20East%20Toronto%2018%20%20%20%20%20%20%20%20%20%20%20Central%20Toronto%2019%20%20%20%20%20%20%20%20%20%20%20Central%20Toronto%2020%20%20%20%20%20%20%20%20%20%20%20Central%20Toronto%2021%20%20%20%20%20%20%20%20%20%20%20Central%20Toronto%2022%20%20%20%20%20%20%20%20%20%20%20%20%20%20West%20Toronto%2023%20%20%20%20%20%20%20%20%20%20%20Central%20Toronto%2024%20%20%20%20%20%20%20%20%20%20%20Central%20Toronto%2025%20%20%20%20%20%20%20%20%20%20%20%20%20%20West%20Toronto%2026%20%20%20%20%20%20%20%20%20%20%20Central%20Toronto%2027%20%20%20%20%20%20%20%20%20%20Downtown%20Toronto%2028%20%20%20%20%20%20%20%20%20%20%20%20%20%20West%20Toronto%2029%20%20%20%20%20%20%20%20%20%20%20Central%20Toronto%2030%20%20%20%20%20%20%20%20%20%20Downtown%20Toronto%2031%20%20%20%20%20%20%20%20%20%20%20Central%20Toronto%2032%20%20%20%20%20%20%20%20%20%20Downtown%20Toronto%2033%20%20%20%20%20%20%20%20%20%20Downtown%20Toronto%2034%20%20%20%20Downtown%20Toronto%20Stn%20A%2035%20%20%20%20%20%20%20%20%20%20Downtown%20Toronto%2036%20%20%20%20%20%20%20%20%20%20Downtown%20Toronto%2037%20%20%20%20%20%20%20%20%20%20Downtown%20Toronto%2038%20%20%20%20%20East%20Toronto%20Business%20Name%3A%20Borough%2C%20dtype%3A%20object%3C/div%3E%60%29%5B0%5D%3B%0A%20%20%20%20%20%20%20%20%20%20%20%20popup_555997e99ea84fea88729cedac903380.setContent%28html_cc888eefbe2040b49b715d209f117318%29%3B%0A%20%20%20%20%20%20%20%20%0A%0A%20%20%20%20%20%20%20%20circle_marker_2412925982864e0f803932e1af5ac66e.bindPopup%28popup_555997e99ea84fea88729cedac903380%29%0A%20%20%20%20%20%20%20%20%3B%0A%0A%20%20%20%20%20%20%20%20%0A%20%20%20%20%0A%20%20%20%20%0A%20%20%20%20%20%20%20%20%20%20%20%20var%20circle_marker_e729f450c7344e0ba6da45cc37badf84%20%3D%20L.circleMarker%28%0A%20%20%20%20%20%20%20%20%20%20%20%20%20%20%20%20%5B43.6571618%2C%20-79.3789371%5D%2C%0A%20%20%20%20%20%20%20%20%20%20%20%20%20%20%20%20%7B%22bubblingMouseEvents%22%3A%20true%2C%20%22color%22%3A%20%22blue%22%2C%20%22dashArray%22%3A%20null%2C%20%22dashOffset%22%3A%20null%2C%20%22fill%22%3A%20true%2C%20%22fillColor%22%3A%20%22blue%22%2C%20%22fillOpacity%22%3A%200.4%2C%20%22fillRule%22%3A%20%22evenodd%22%2C%20%22lineCap%22%3A%20%22round%22%2C%20%22lineJoin%22%3A%20%22round%22%2C%20%22opacity%22%3A%201.0%2C%20%22radius%22%3A%205%2C%20%22stroke%22%3A%20true%2C%20%22weight%22%3A%203%7D%0A%20%20%20%20%20%20%20%20%20%20%20%20%29.addTo%28map_8530485182ab4fce80bb58b0080c8971%29%3B%0A%20%20%20%20%20%20%20%20%0A%20%20%20%20%0A%20%20%20%20%20%20%20%20var%20popup_e194fc516cf947358e263d9314d1deac%20%3D%20L.popup%28%7B%22maxWidth%22%3A%20%22100%25%22%7D%29%3B%0A%0A%20%20%20%20%20%20%20%20%0A%20%20%20%20%20%20%20%20%20%20%20%20var%20html_f1a2430e148143fb8de73e2bbe3f22b9%20%3D%20%24%28%60%3Cdiv%20id%3D%22html_f1a2430e148143fb8de73e2bbe3f22b9%22%20style%3D%22width%3A%20100.0%25%3B%20height%3A%20100.0%25%3B%22%3E0%20%20%20%20%20%20%20%20%20%20%20Downtown%20Toronto%201%20%20%20%20%20%20%20%20%20%20%20Downtown%20Toronto%202%20%20%20%20%20%20%20%20%20%20%20Downtown%20Toronto%203%20%20%20%20%20%20%20%20%20%20%20%20%20%20%20East%20Toronto%204%20%20%20%20%20%20%20%20%20%20%20Downtown%20Toronto%205%20%20%20%20%20%20%20%20%20%20%20Downtown%20Toronto%206%20%20%20%20%20%20%20%20%20%20%20Downtown%20Toronto%207%20%20%20%20%20%20%20%20%20%20%20Downtown%20Toronto%208%20%20%20%20%20%20%20%20%20%20%20%20%20%20%20West%20Toronto%209%20%20%20%20%20East%20York/East%20Toronto%2010%20%20%20%20%20%20%20%20%20%20Downtown%20Toronto%2011%20%20%20%20%20%20%20%20%20%20%20%20%20%20West%20Toronto%2012%20%20%20%20%20%20%20%20%20%20%20%20%20%20East%20Toronto%2013%20%20%20%20%20%20%20%20%20%20Downtown%20Toronto%2014%20%20%20%20%20%20%20%20%20%20%20%20%20%20West%20Toronto%2015%20%20%20%20%20%20%20%20%20%20%20%20%20%20East%20Toronto%2016%20%20%20%20%20%20%20%20%20%20Downtown%20Toronto%2017%20%20%20%20%20%20%20%20%20%20%20%20%20%20East%20Toronto%2018%20%20%20%20%20%20%20%20%20%20%20Central%20Toronto%2019%20%20%20%20%20%20%20%20%20%20%20Central%20Toronto%2020%20%20%20%20%20%20%20%20%20%20%20Central%20Toronto%2021%20%20%20%20%20%20%20%20%20%20%20Central%20Toronto%2022%20%20%20%20%20%20%20%20%20%20%20%20%20%20West%20Toronto%2023%20%20%20%20%20%20%20%20%20%20%20Central%20Toronto%2024%20%20%20%20%20%20%20%20%20%20%20Central%20Toronto%2025%20%20%20%20%20%20%20%20%20%20%20%20%20%20West%20Toronto%2026%20%20%20%20%20%20%20%20%20%20%20Central%20Toronto%2027%20%20%20%20%20%20%20%20%20%20Downtown%20Toronto%2028%20%20%20%20%20%20%20%20%20%20%20%20%20%20West%20Toronto%2029%20%20%20%20%20%20%20%20%20%20%20Central%20Toronto%2030%20%20%20%20%20%20%20%20%20%20Downtown%20Toronto%2031%20%20%20%20%20%20%20%20%20%20%20Central%20Toronto%2032%20%20%20%20%20%20%20%20%20%20Downtown%20Toronto%2033%20%20%20%20%20%20%20%20%20%20Downtown%20Toronto%2034%20%20%20%20Downtown%20Toronto%20Stn%20A%2035%20%20%20%20%20%20%20%20%20%20Downtown%20Toronto%2036%20%20%20%20%20%20%20%20%20%20Downtown%20Toronto%2037%20%20%20%20%20%20%20%20%20%20Downtown%20Toronto%2038%20%20%20%20%20East%20Toronto%20Business%20Name%3A%20Borough%2C%20dtype%3A%20object%3C/div%3E%60%29%5B0%5D%3B%0A%20%20%20%20%20%20%20%20%20%20%20%20popup_e194fc516cf947358e263d9314d1deac.setContent%28html_f1a2430e148143fb8de73e2bbe3f22b9%29%3B%0A%20%20%20%20%20%20%20%20%0A%0A%20%20%20%20%20%20%20%20circle_marker_e729f450c7344e0ba6da45cc37badf84.bindPopup%28popup_e194fc516cf947358e263d9314d1deac%29%0A%20%20%20%20%20%20%20%20%3B%0A%0A%20%20%20%20%20%20%20%20%0A%20%20%20%20%0A%20%20%20%20%0A%20%20%20%20%20%20%20%20%20%20%20%20var%20circle_marker_48e27163e7df4eb787a0925deebd37af%20%3D%20L.circleMarker%28%0A%20%20%20%20%20%20%20%20%20%20%20%20%20%20%20%20%5B43.6514939%2C%20-79.3754179%5D%2C%0A%20%20%20%20%20%20%20%20%20%20%20%20%20%20%20%20%7B%22bubblingMouseEvents%22%3A%20true%2C%20%22color%22%3A%20%22blue%22%2C%20%22dashArray%22%3A%20null%2C%20%22dashOffset%22%3A%20null%2C%20%22fill%22%3A%20true%2C%20%22fillColor%22%3A%20%22blue%22%2C%20%22fillOpacity%22%3A%200.4%2C%20%22fillRule%22%3A%20%22evenodd%22%2C%20%22lineCap%22%3A%20%22round%22%2C%20%22lineJoin%22%3A%20%22round%22%2C%20%22opacity%22%3A%201.0%2C%20%22radius%22%3A%205%2C%20%22stroke%22%3A%20true%2C%20%22weight%22%3A%203%7D%0A%20%20%20%20%20%20%20%20%20%20%20%20%29.addTo%28map_8530485182ab4fce80bb58b0080c8971%29%3B%0A%20%20%20%20%20%20%20%20%0A%20%20%20%20%0A%20%20%20%20%20%20%20%20var%20popup_f994beccdbd8484a8b9d22004bd1a9a8%20%3D%20L.popup%28%7B%22maxWidth%22%3A%20%22100%25%22%7D%29%3B%0A%0A%20%20%20%20%20%20%20%20%0A%20%20%20%20%20%20%20%20%20%20%20%20var%20html_44b3ce74eb6040769820c9814d95c4b6%20%3D%20%24%28%60%3Cdiv%20id%3D%22html_44b3ce74eb6040769820c9814d95c4b6%22%20style%3D%22width%3A%20100.0%25%3B%20height%3A%20100.0%25%3B%22%3E0%20%20%20%20%20%20%20%20%20%20%20Downtown%20Toronto%201%20%20%20%20%20%20%20%20%20%20%20Downtown%20Toronto%202%20%20%20%20%20%20%20%20%20%20%20Downtown%20Toronto%203%20%20%20%20%20%20%20%20%20%20%20%20%20%20%20East%20Toronto%204%20%20%20%20%20%20%20%20%20%20%20Downtown%20Toronto%205%20%20%20%20%20%20%20%20%20%20%20Downtown%20Toronto%206%20%20%20%20%20%20%20%20%20%20%20Downtown%20Toronto%207%20%20%20%20%20%20%20%20%20%20%20Downtown%20Toronto%208%20%20%20%20%20%20%20%20%20%20%20%20%20%20%20West%20Toronto%209%20%20%20%20%20East%20York/East%20Toronto%2010%20%20%20%20%20%20%20%20%20%20Downtown%20Toronto%2011%20%20%20%20%20%20%20%20%20%20%20%20%20%20West%20Toronto%2012%20%20%20%20%20%20%20%20%20%20%20%20%20%20East%20Toronto%2013%20%20%20%20%20%20%20%20%20%20Downtown%20Toronto%2014%20%20%20%20%20%20%20%20%20%20%20%20%20%20West%20Toronto%2015%20%20%20%20%20%20%20%20%20%20%20%20%20%20East%20Toronto%2016%20%20%20%20%20%20%20%20%20%20Downtown%20Toronto%2017%20%20%20%20%20%20%20%20%20%20%20%20%20%20East%20Toronto%2018%20%20%20%20%20%20%20%20%20%20%20Central%20Toronto%2019%20%20%20%20%20%20%20%20%20%20%20Central%20Toronto%2020%20%20%20%20%20%20%20%20%20%20%20Central%20Toronto%2021%20%20%20%20%20%20%20%20%20%20%20Central%20Toronto%2022%20%20%20%20%20%20%20%20%20%20%20%20%20%20West%20Toronto%2023%20%20%20%20%20%20%20%20%20%20%20Central%20Toronto%2024%20%20%20%20%20%20%20%20%20%20%20Central%20Toronto%2025%20%20%20%20%20%20%20%20%20%20%20%20%20%20West%20Toronto%2026%20%20%20%20%20%20%20%20%20%20%20Central%20Toronto%2027%20%20%20%20%20%20%20%20%20%20Downtown%20Toronto%2028%20%20%20%20%20%20%20%20%20%20%20%20%20%20West%20Toronto%2029%20%20%20%20%20%20%20%20%20%20%20Central%20Toronto%2030%20%20%20%20%20%20%20%20%20%20Downtown%20Toronto%2031%20%20%20%20%20%20%20%20%20%20%20Central%20Toronto%2032%20%20%20%20%20%20%20%20%20%20Downtown%20Toronto%2033%20%20%20%20%20%20%20%20%20%20Downtown%20Toronto%2034%20%20%20%20Downtown%20Toronto%20Stn%20A%2035%20%20%20%20%20%20%20%20%20%20Downtown%20Toronto%2036%20%20%20%20%20%20%20%20%20%20Downtown%20Toronto%2037%20%20%20%20%20%20%20%20%20%20Downtown%20Toronto%2038%20%20%20%20%20East%20Toronto%20Business%20Name%3A%20Borough%2C%20dtype%3A%20object%3C/div%3E%60%29%5B0%5D%3B%0A%20%20%20%20%20%20%20%20%20%20%20%20popup_f994beccdbd8484a8b9d22004bd1a9a8.setContent%28html_44b3ce74eb6040769820c9814d95c4b6%29%3B%0A%20%20%20%20%20%20%20%20%0A%0A%20%20%20%20%20%20%20%20circle_marker_48e27163e7df4eb787a0925deebd37af.bindPopup%28popup_f994beccdbd8484a8b9d22004bd1a9a8%29%0A%20%20%20%20%20%20%20%20%3B%0A%0A%20%20%20%20%20%20%20%20%0A%20%20%20%20%0A%20%20%20%20%0A%20%20%20%20%20%20%20%20%20%20%20%20var%20circle_marker_6f683338e10948fda24555e12638af7b%20%3D%20L.circleMarker%28%0A%20%20%20%20%20%20%20%20%20%20%20%20%20%20%20%20%5B43.6763574%2C%20-79.2930312%5D%2C%0A%20%20%20%20%20%20%20%20%20%20%20%20%20%20%20%20%7B%22bubblingMouseEvents%22%3A%20true%2C%20%22color%22%3A%20%22blue%22%2C%20%22dashArray%22%3A%20null%2C%20%22dashOffset%22%3A%20null%2C%20%22fill%22%3A%20true%2C%20%22fillColor%22%3A%20%22blue%22%2C%20%22fillOpacity%22%3A%200.4%2C%20%22fillRule%22%3A%20%22evenodd%22%2C%20%22lineCap%22%3A%20%22round%22%2C%20%22lineJoin%22%3A%20%22round%22%2C%20%22opacity%22%3A%201.0%2C%20%22radius%22%3A%205%2C%20%22stroke%22%3A%20true%2C%20%22weight%22%3A%203%7D%0A%20%20%20%20%20%20%20%20%20%20%20%20%29.addTo%28map_8530485182ab4fce80bb58b0080c8971%29%3B%0A%20%20%20%20%20%20%20%20%0A%20%20%20%20%0A%20%20%20%20%20%20%20%20var%20popup_bfddaa0ff7074184bb33b9d0b651023d%20%3D%20L.popup%28%7B%22maxWidth%22%3A%20%22100%25%22%7D%29%3B%0A%0A%20%20%20%20%20%20%20%20%0A%20%20%20%20%20%20%20%20%20%20%20%20var%20html_f3f35c8a83604f6391acfb6da3c7aaa2%20%3D%20%24%28%60%3Cdiv%20id%3D%22html_f3f35c8a83604f6391acfb6da3c7aaa2%22%20style%3D%22width%3A%20100.0%25%3B%20height%3A%20100.0%25%3B%22%3E0%20%20%20%20%20%20%20%20%20%20%20Downtown%20Toronto%201%20%20%20%20%20%20%20%20%20%20%20Downtown%20Toronto%202%20%20%20%20%20%20%20%20%20%20%20Downtown%20Toronto%203%20%20%20%20%20%20%20%20%20%20%20%20%20%20%20East%20Toronto%204%20%20%20%20%20%20%20%20%20%20%20Downtown%20Toronto%205%20%20%20%20%20%20%20%20%20%20%20Downtown%20Toronto%206%20%20%20%20%20%20%20%20%20%20%20Downtown%20Toronto%207%20%20%20%20%20%20%20%20%20%20%20Downtown%20Toronto%208%20%20%20%20%20%20%20%20%20%20%20%20%20%20%20West%20Toronto%209%20%20%20%20%20East%20York/East%20Toronto%2010%20%20%20%20%20%20%20%20%20%20Downtown%20Toronto%2011%20%20%20%20%20%20%20%20%20%20%20%20%20%20West%20Toronto%2012%20%20%20%20%20%20%20%20%20%20%20%20%20%20East%20Toronto%2013%20%20%20%20%20%20%20%20%20%20Downtown%20Toronto%2014%20%20%20%20%20%20%20%20%20%20%20%20%20%20West%20Toronto%2015%20%20%20%20%20%20%20%20%20%20%20%20%20%20East%20Toronto%2016%20%20%20%20%20%20%20%20%20%20Downtown%20Toronto%2017%20%20%20%20%20%20%20%20%20%20%20%20%20%20East%20Toronto%2018%20%20%20%20%20%20%20%20%20%20%20Central%20Toronto%2019%20%20%20%20%20%20%20%20%20%20%20Central%20Toronto%2020%20%20%20%20%20%20%20%20%20%20%20Central%20Toronto%2021%20%20%20%20%20%20%20%20%20%20%20Central%20Toronto%2022%20%20%20%20%20%20%20%20%20%20%20%20%20%20West%20Toronto%2023%20%20%20%20%20%20%20%20%20%20%20Central%20Toronto%2024%20%20%20%20%20%20%20%20%20%20%20Central%20Toronto%2025%20%20%20%20%20%20%20%20%20%20%20%20%20%20West%20Toronto%2026%20%20%20%20%20%20%20%20%20%20%20Central%20Toronto%2027%20%20%20%20%20%20%20%20%20%20Downtown%20Toronto%2028%20%20%20%20%20%20%20%20%20%20%20%20%20%20West%20Toronto%2029%20%20%20%20%20%20%20%20%20%20%20Central%20Toronto%2030%20%20%20%20%20%20%20%20%20%20Downtown%20Toronto%2031%20%20%20%20%20%20%20%20%20%20%20Central%20Toronto%2032%20%20%20%20%20%20%20%20%20%20Downtown%20Toronto%2033%20%20%20%20%20%20%20%20%20%20Downtown%20Toronto%2034%20%20%20%20Downtown%20Toronto%20Stn%20A%2035%20%20%20%20%20%20%20%20%20%20Downtown%20Toronto%2036%20%20%20%20%20%20%20%20%20%20Downtown%20Toronto%2037%20%20%20%20%20%20%20%20%20%20Downtown%20Toronto%2038%20%20%20%20%20East%20Toronto%20Business%20Name%3A%20Borough%2C%20dtype%3A%20object%3C/div%3E%60%29%5B0%5D%3B%0A%20%20%20%20%20%20%20%20%20%20%20%20popup_bfddaa0ff7074184bb33b9d0b651023d.setContent%28html_f3f35c8a83604f6391acfb6da3c7aaa2%29%3B%0A%20%20%20%20%20%20%20%20%0A%0A%20%20%20%20%20%20%20%20circle_marker_6f683338e10948fda24555e12638af7b.bindPopup%28popup_bfddaa0ff7074184bb33b9d0b651023d%29%0A%20%20%20%20%20%20%20%20%3B%0A%0A%20%20%20%20%20%20%20%20%0A%20%20%20%20%0A%20%20%20%20%0A%20%20%20%20%20%20%20%20%20%20%20%20var%20circle_marker_b22603f0d6674e0da166f5efc300158b%20%3D%20L.circleMarker%28%0A%20%20%20%20%20%20%20%20%20%20%20%20%20%20%20%20%5B43.6447708%2C%20-79.3733064%5D%2C%0A%20%20%20%20%20%20%20%20%20%20%20%20%20%20%20%20%7B%22bubblingMouseEvents%22%3A%20true%2C%20%22color%22%3A%20%22blue%22%2C%20%22dashArray%22%3A%20null%2C%20%22dashOffset%22%3A%20null%2C%20%22fill%22%3A%20true%2C%20%22fillColor%22%3A%20%22blue%22%2C%20%22fillOpacity%22%3A%200.4%2C%20%22fillRule%22%3A%20%22evenodd%22%2C%20%22lineCap%22%3A%20%22round%22%2C%20%22lineJoin%22%3A%20%22round%22%2C%20%22opacity%22%3A%201.0%2C%20%22radius%22%3A%205%2C%20%22stroke%22%3A%20true%2C%20%22weight%22%3A%203%7D%0A%20%20%20%20%20%20%20%20%20%20%20%20%29.addTo%28map_8530485182ab4fce80bb58b0080c8971%29%3B%0A%20%20%20%20%20%20%20%20%0A%20%20%20%20%0A%20%20%20%20%20%20%20%20var%20popup_971a122248f14894903b7c581b09a3db%20%3D%20L.popup%28%7B%22maxWidth%22%3A%20%22100%25%22%7D%29%3B%0A%0A%20%20%20%20%20%20%20%20%0A%20%20%20%20%20%20%20%20%20%20%20%20var%20html_8fcd8c431122446eb3f4633ec42a7d63%20%3D%20%24%28%60%3Cdiv%20id%3D%22html_8fcd8c431122446eb3f4633ec42a7d63%22%20style%3D%22width%3A%20100.0%25%3B%20height%3A%20100.0%25%3B%22%3E0%20%20%20%20%20%20%20%20%20%20%20Downtown%20Toronto%201%20%20%20%20%20%20%20%20%20%20%20Downtown%20Toronto%202%20%20%20%20%20%20%20%20%20%20%20Downtown%20Toronto%203%20%20%20%20%20%20%20%20%20%20%20%20%20%20%20East%20Toronto%204%20%20%20%20%20%20%20%20%20%20%20Downtown%20Toronto%205%20%20%20%20%20%20%20%20%20%20%20Downtown%20Toronto%206%20%20%20%20%20%20%20%20%20%20%20Downtown%20Toronto%207%20%20%20%20%20%20%20%20%20%20%20Downtown%20Toronto%208%20%20%20%20%20%20%20%20%20%20%20%20%20%20%20West%20Toronto%209%20%20%20%20%20East%20York/East%20Toronto%2010%20%20%20%20%20%20%20%20%20%20Downtown%20Toronto%2011%20%20%20%20%20%20%20%20%20%20%20%20%20%20West%20Toronto%2012%20%20%20%20%20%20%20%20%20%20%20%20%20%20East%20Toronto%2013%20%20%20%20%20%20%20%20%20%20Downtown%20Toronto%2014%20%20%20%20%20%20%20%20%20%20%20%20%20%20West%20Toronto%2015%20%20%20%20%20%20%20%20%20%20%20%20%20%20East%20Toronto%2016%20%20%20%20%20%20%20%20%20%20Downtown%20Toronto%2017%20%20%20%20%20%20%20%20%20%20%20%20%20%20East%20Toronto%2018%20%20%20%20%20%20%20%20%20%20%20Central%20Toronto%2019%20%20%20%20%20%20%20%20%20%20%20Central%20Toronto%2020%20%20%20%20%20%20%20%20%20%20%20Central%20Toronto%2021%20%20%20%20%20%20%20%20%20%20%20Central%20Toronto%2022%20%20%20%20%20%20%20%20%20%20%20%20%20%20West%20Toronto%2023%20%20%20%20%20%20%20%20%20%20%20Central%20Toronto%2024%20%20%20%20%20%20%20%20%20%20%20Central%20Toronto%2025%20%20%20%20%20%20%20%20%20%20%20%20%20%20West%20Toronto%2026%20%20%20%20%20%20%20%20%20%20%20Central%20Toronto%2027%20%20%20%20%20%20%20%20%20%20Downtown%20Toronto%2028%20%20%20%20%20%20%20%20%20%20%20%20%20%20West%20Toronto%2029%20%20%20%20%20%20%20%20%20%20%20Central%20Toronto%2030%20%20%20%20%20%20%20%20%20%20Downtown%20Toronto%2031%20%20%20%20%20%20%20%20%20%20%20Central%20Toronto%2032%20%20%20%20%20%20%20%20%20%20Downtown%20Toronto%2033%20%20%20%20%20%20%20%20%20%20Downtown%20Toronto%2034%20%20%20%20Downtown%20Toronto%20Stn%20A%2035%20%20%20%20%20%20%20%20%20%20Downtown%20Toronto%2036%20%20%20%20%20%20%20%20%20%20Downtown%20Toronto%2037%20%20%20%20%20%20%20%20%20%20Downtown%20Toronto%2038%20%20%20%20%20East%20Toronto%20Business%20Name%3A%20Borough%2C%20dtype%3A%20object%3C/div%3E%60%29%5B0%5D%3B%0A%20%20%20%20%20%20%20%20%20%20%20%20popup_971a122248f14894903b7c581b09a3db.setContent%28html_8fcd8c431122446eb3f4633ec42a7d63%29%3B%0A%20%20%20%20%20%20%20%20%0A%0A%20%20%20%20%20%20%20%20circle_marker_b22603f0d6674e0da166f5efc300158b.bindPopup%28popup_971a122248f14894903b7c581b09a3db%29%0A%20%20%20%20%20%20%20%20%3B%0A%0A%20%20%20%20%20%20%20%20%0A%20%20%20%20%0A%20%20%20%20%0A%20%20%20%20%20%20%20%20%20%20%20%20var%20circle_marker_0e78f2c905ce4675956d492eee6bffe2%20%3D%20L.circleMarker%28%0A%20%20%20%20%20%20%20%20%20%20%20%20%20%20%20%20%5B43.6579524%2C%20-79.3873826%5D%2C%0A%20%20%20%20%20%20%20%20%20%20%20%20%20%20%20%20%7B%22bubblingMouseEvents%22%3A%20true%2C%20%22color%22%3A%20%22blue%22%2C%20%22dashArray%22%3A%20null%2C%20%22dashOffset%22%3A%20null%2C%20%22fill%22%3A%20true%2C%20%22fillColor%22%3A%20%22blue%22%2C%20%22fillOpacity%22%3A%200.4%2C%20%22fillRule%22%3A%20%22evenodd%22%2C%20%22lineCap%22%3A%20%22round%22%2C%20%22lineJoin%22%3A%20%22round%22%2C%20%22opacity%22%3A%201.0%2C%20%22radius%22%3A%205%2C%20%22stroke%22%3A%20true%2C%20%22weight%22%3A%203%7D%0A%20%20%20%20%20%20%20%20%20%20%20%20%29.addTo%28map_8530485182ab4fce80bb58b0080c8971%29%3B%0A%20%20%20%20%20%20%20%20%0A%20%20%20%20%0A%20%20%20%20%20%20%20%20var%20popup_47ab21d4db214a33bba85796324537dc%20%3D%20L.popup%28%7B%22maxWidth%22%3A%20%22100%25%22%7D%29%3B%0A%0A%20%20%20%20%20%20%20%20%0A%20%20%20%20%20%20%20%20%20%20%20%20var%20html_282a1442d91d457685bc7179a08b3e81%20%3D%20%24%28%60%3Cdiv%20id%3D%22html_282a1442d91d457685bc7179a08b3e81%22%20style%3D%22width%3A%20100.0%25%3B%20height%3A%20100.0%25%3B%22%3E0%20%20%20%20%20%20%20%20%20%20%20Downtown%20Toronto%201%20%20%20%20%20%20%20%20%20%20%20Downtown%20Toronto%202%20%20%20%20%20%20%20%20%20%20%20Downtown%20Toronto%203%20%20%20%20%20%20%20%20%20%20%20%20%20%20%20East%20Toronto%204%20%20%20%20%20%20%20%20%20%20%20Downtown%20Toronto%205%20%20%20%20%20%20%20%20%20%20%20Downtown%20Toronto%206%20%20%20%20%20%20%20%20%20%20%20Downtown%20Toronto%207%20%20%20%20%20%20%20%20%20%20%20Downtown%20Toronto%208%20%20%20%20%20%20%20%20%20%20%20%20%20%20%20West%20Toronto%209%20%20%20%20%20East%20York/East%20Toronto%2010%20%20%20%20%20%20%20%20%20%20Downtown%20Toronto%2011%20%20%20%20%20%20%20%20%20%20%20%20%20%20West%20Toronto%2012%20%20%20%20%20%20%20%20%20%20%20%20%20%20East%20Toronto%2013%20%20%20%20%20%20%20%20%20%20Downtown%20Toronto%2014%20%20%20%20%20%20%20%20%20%20%20%20%20%20West%20Toronto%2015%20%20%20%20%20%20%20%20%20%20%20%20%20%20East%20Toronto%2016%20%20%20%20%20%20%20%20%20%20Downtown%20Toronto%2017%20%20%20%20%20%20%20%20%20%20%20%20%20%20East%20Toronto%2018%20%20%20%20%20%20%20%20%20%20%20Central%20Toronto%2019%20%20%20%20%20%20%20%20%20%20%20Central%20Toronto%2020%20%20%20%20%20%20%20%20%20%20%20Central%20Toronto%2021%20%20%20%20%20%20%20%20%20%20%20Central%20Toronto%2022%20%20%20%20%20%20%20%20%20%20%20%20%20%20West%20Toronto%2023%20%20%20%20%20%20%20%20%20%20%20Central%20Toronto%2024%20%20%20%20%20%20%20%20%20%20%20Central%20Toronto%2025%20%20%20%20%20%20%20%20%20%20%20%20%20%20West%20Toronto%2026%20%20%20%20%20%20%20%20%20%20%20Central%20Toronto%2027%20%20%20%20%20%20%20%20%20%20Downtown%20Toronto%2028%20%20%20%20%20%20%20%20%20%20%20%20%20%20West%20Toronto%2029%20%20%20%20%20%20%20%20%20%20%20Central%20Toronto%2030%20%20%20%20%20%20%20%20%20%20Downtown%20Toronto%2031%20%20%20%20%20%20%20%20%20%20%20Central%20Toronto%2032%20%20%20%20%20%20%20%20%20%20Downtown%20Toronto%2033%20%20%20%20%20%20%20%20%20%20Downtown%20Toronto%2034%20%20%20%20Downtown%20Toronto%20Stn%20A%2035%20%20%20%20%20%20%20%20%20%20Downtown%20Toronto%2036%20%20%20%20%20%20%20%20%20%20Downtown%20Toronto%2037%20%20%20%20%20%20%20%20%20%20Downtown%20Toronto%2038%20%20%20%20%20East%20Toronto%20Business%20Name%3A%20Borough%2C%20dtype%3A%20object%3C/div%3E%60%29%5B0%5D%3B%0A%20%20%20%20%20%20%20%20%20%20%20%20popup_47ab21d4db214a33bba85796324537dc.setContent%28html_282a1442d91d457685bc7179a08b3e81%29%3B%0A%20%20%20%20%20%20%20%20%0A%0A%20%20%20%20%20%20%20%20circle_marker_0e78f2c905ce4675956d492eee6bffe2.bindPopup%28popup_47ab21d4db214a33bba85796324537dc%29%0A%20%20%20%20%20%20%20%20%3B%0A%0A%20%20%20%20%20%20%20%20%0A%20%20%20%20%0A%20%20%20%20%0A%20%20%20%20%20%20%20%20%20%20%20%20var%20circle_marker_c19af4cbe73f42458b17b16ac0c7a63a%20%3D%20L.circleMarker%28%0A%20%20%20%20%20%20%20%20%20%20%20%20%20%20%20%20%5B43.669542%2C%20-79.4225637%5D%2C%0A%20%20%20%20%20%20%20%20%20%20%20%20%20%20%20%20%7B%22bubblingMouseEvents%22%3A%20true%2C%20%22color%22%3A%20%22blue%22%2C%20%22dashArray%22%3A%20null%2C%20%22dashOffset%22%3A%20null%2C%20%22fill%22%3A%20true%2C%20%22fillColor%22%3A%20%22blue%22%2C%20%22fillOpacity%22%3A%200.4%2C%20%22fillRule%22%3A%20%22evenodd%22%2C%20%22lineCap%22%3A%20%22round%22%2C%20%22lineJoin%22%3A%20%22round%22%2C%20%22opacity%22%3A%201.0%2C%20%22radius%22%3A%205%2C%20%22stroke%22%3A%20true%2C%20%22weight%22%3A%203%7D%0A%20%20%20%20%20%20%20%20%20%20%20%20%29.addTo%28map_8530485182ab4fce80bb58b0080c8971%29%3B%0A%20%20%20%20%20%20%20%20%0A%20%20%20%20%0A%20%20%20%20%20%20%20%20var%20popup_8ee1c3cce73b47bda3dacb589cc44858%20%3D%20L.popup%28%7B%22maxWidth%22%3A%20%22100%25%22%7D%29%3B%0A%0A%20%20%20%20%20%20%20%20%0A%20%20%20%20%20%20%20%20%20%20%20%20var%20html_258a1bca0b314a9f8c8c3567f3a4cdaf%20%3D%20%24%28%60%3Cdiv%20id%3D%22html_258a1bca0b314a9f8c8c3567f3a4cdaf%22%20style%3D%22width%3A%20100.0%25%3B%20height%3A%20100.0%25%3B%22%3E0%20%20%20%20%20%20%20%20%20%20%20Downtown%20Toronto%201%20%20%20%20%20%20%20%20%20%20%20Downtown%20Toronto%202%20%20%20%20%20%20%20%20%20%20%20Downtown%20Toronto%203%20%20%20%20%20%20%20%20%20%20%20%20%20%20%20East%20Toronto%204%20%20%20%20%20%20%20%20%20%20%20Downtown%20Toronto%205%20%20%20%20%20%20%20%20%20%20%20Downtown%20Toronto%206%20%20%20%20%20%20%20%20%20%20%20Downtown%20Toronto%207%20%20%20%20%20%20%20%20%20%20%20Downtown%20Toronto%208%20%20%20%20%20%20%20%20%20%20%20%20%20%20%20West%20Toronto%209%20%20%20%20%20East%20York/East%20Toronto%2010%20%20%20%20%20%20%20%20%20%20Downtown%20Toronto%2011%20%20%20%20%20%20%20%20%20%20%20%20%20%20West%20Toronto%2012%20%20%20%20%20%20%20%20%20%20%20%20%20%20East%20Toronto%2013%20%20%20%20%20%20%20%20%20%20Downtown%20Toronto%2014%20%20%20%20%20%20%20%20%20%20%20%20%20%20West%20Toronto%2015%20%20%20%20%20%20%20%20%20%20%20%20%20%20East%20Toronto%2016%20%20%20%20%20%20%20%20%20%20Downtown%20Toronto%2017%20%20%20%20%20%20%20%20%20%20%20%20%20%20East%20Toronto%2018%20%20%20%20%20%20%20%20%20%20%20Central%20Toronto%2019%20%20%20%20%20%20%20%20%20%20%20Central%20Toronto%2020%20%20%20%20%20%20%20%20%20%20%20Central%20Toronto%2021%20%20%20%20%20%20%20%20%20%20%20Central%20Toronto%2022%20%20%20%20%20%20%20%20%20%20%20%20%20%20West%20Toronto%2023%20%20%20%20%20%20%20%20%20%20%20Central%20Toronto%2024%20%20%20%20%20%20%20%20%20%20%20Central%20Toronto%2025%20%20%20%20%20%20%20%20%20%20%20%20%20%20West%20Toronto%2026%20%20%20%20%20%20%20%20%20%20%20Central%20Toronto%2027%20%20%20%20%20%20%20%20%20%20Downtown%20Toronto%2028%20%20%20%20%20%20%20%20%20%20%20%20%20%20West%20Toronto%2029%20%20%20%20%20%20%20%20%20%20%20Central%20Toronto%2030%20%20%20%20%20%20%20%20%20%20Downtown%20Toronto%2031%20%20%20%20%20%20%20%20%20%20%20Central%20Toronto%2032%20%20%20%20%20%20%20%20%20%20Downtown%20Toronto%2033%20%20%20%20%20%20%20%20%20%20Downtown%20Toronto%2034%20%20%20%20Downtown%20Toronto%20Stn%20A%2035%20%20%20%20%20%20%20%20%20%20Downtown%20Toronto%2036%20%20%20%20%20%20%20%20%20%20Downtown%20Toronto%2037%20%20%20%20%20%20%20%20%20%20Downtown%20Toronto%2038%20%20%20%20%20East%20Toronto%20Business%20Name%3A%20Borough%2C%20dtype%3A%20object%3C/div%3E%60%29%5B0%5D%3B%0A%20%20%20%20%20%20%20%20%20%20%20%20popup_8ee1c3cce73b47bda3dacb589cc44858.setContent%28html_258a1bca0b314a9f8c8c3567f3a4cdaf%29%3B%0A%20%20%20%20%20%20%20%20%0A%0A%20%20%20%20%20%20%20%20circle_marker_c19af4cbe73f42458b17b16ac0c7a63a.bindPopup%28popup_8ee1c3cce73b47bda3dacb589cc44858%29%0A%20%20%20%20%20%20%20%20%3B%0A%0A%20%20%20%20%20%20%20%20%0A%20%20%20%20%0A%20%20%20%20%0A%20%20%20%20%20%20%20%20%20%20%20%20var%20circle_marker_5868240d114b42c0abeb58614eccc49c%20%3D%20L.circleMarker%28%0A%20%20%20%20%20%20%20%20%20%20%20%20%20%20%20%20%5B43.6505712%2C%20-79.3845675%5D%2C%0A%20%20%20%20%20%20%20%20%20%20%20%20%20%20%20%20%7B%22bubblingMouseEvents%22%3A%20true%2C%20%22color%22%3A%20%22blue%22%2C%20%22dashArray%22%3A%20null%2C%20%22dashOffset%22%3A%20null%2C%20%22fill%22%3A%20true%2C%20%22fillColor%22%3A%20%22blue%22%2C%20%22fillOpacity%22%3A%200.4%2C%20%22fillRule%22%3A%20%22evenodd%22%2C%20%22lineCap%22%3A%20%22round%22%2C%20%22lineJoin%22%3A%20%22round%22%2C%20%22opacity%22%3A%201.0%2C%20%22radius%22%3A%205%2C%20%22stroke%22%3A%20true%2C%20%22weight%22%3A%203%7D%0A%20%20%20%20%20%20%20%20%20%20%20%20%29.addTo%28map_8530485182ab4fce80bb58b0080c8971%29%3B%0A%20%20%20%20%20%20%20%20%0A%20%20%20%20%0A%20%20%20%20%20%20%20%20var%20popup_93ee66983c3f4ef2a18117cbbb0e2304%20%3D%20L.popup%28%7B%22maxWidth%22%3A%20%22100%25%22%7D%29%3B%0A%0A%20%20%20%20%20%20%20%20%0A%20%20%20%20%20%20%20%20%20%20%20%20var%20html_2ade45bff62e4cb09620198990548b7c%20%3D%20%24%28%60%3Cdiv%20id%3D%22html_2ade45bff62e4cb09620198990548b7c%22%20style%3D%22width%3A%20100.0%25%3B%20height%3A%20100.0%25%3B%22%3E0%20%20%20%20%20%20%20%20%20%20%20Downtown%20Toronto%201%20%20%20%20%20%20%20%20%20%20%20Downtown%20Toronto%202%20%20%20%20%20%20%20%20%20%20%20Downtown%20Toronto%203%20%20%20%20%20%20%20%20%20%20%20%20%20%20%20East%20Toronto%204%20%20%20%20%20%20%20%20%20%20%20Downtown%20Toronto%205%20%20%20%20%20%20%20%20%20%20%20Downtown%20Toronto%206%20%20%20%20%20%20%20%20%20%20%20Downtown%20Toronto%207%20%20%20%20%20%20%20%20%20%20%20Downtown%20Toronto%208%20%20%20%20%20%20%20%20%20%20%20%20%20%20%20West%20Toronto%209%20%20%20%20%20East%20York/East%20Toronto%2010%20%20%20%20%20%20%20%20%20%20Downtown%20Toronto%2011%20%20%20%20%20%20%20%20%20%20%20%20%20%20West%20Toronto%2012%20%20%20%20%20%20%20%20%20%20%20%20%20%20East%20Toronto%2013%20%20%20%20%20%20%20%20%20%20Downtown%20Toronto%2014%20%20%20%20%20%20%20%20%20%20%20%20%20%20West%20Toronto%2015%20%20%20%20%20%20%20%20%20%20%20%20%20%20East%20Toronto%2016%20%20%20%20%20%20%20%20%20%20Downtown%20Toronto%2017%20%20%20%20%20%20%20%20%20%20%20%20%20%20East%20Toronto%2018%20%20%20%20%20%20%20%20%20%20%20Central%20Toronto%2019%20%20%20%20%20%20%20%20%20%20%20Central%20Toronto%2020%20%20%20%20%20%20%20%20%20%20%20Central%20Toronto%2021%20%20%20%20%20%20%20%20%20%20%20Central%20Toronto%2022%20%20%20%20%20%20%20%20%20%20%20%20%20%20West%20Toronto%2023%20%20%20%20%20%20%20%20%20%20%20Central%20Toronto%2024%20%20%20%20%20%20%20%20%20%20%20Central%20Toronto%2025%20%20%20%20%20%20%20%20%20%20%20%20%20%20West%20Toronto%2026%20%20%20%20%20%20%20%20%20%20%20Central%20Toronto%2027%20%20%20%20%20%20%20%20%20%20Downtown%20Toronto%2028%20%20%20%20%20%20%20%20%20%20%20%20%20%20West%20Toronto%2029%20%20%20%20%20%20%20%20%20%20%20Central%20Toronto%2030%20%20%20%20%20%20%20%20%20%20Downtown%20Toronto%2031%20%20%20%20%20%20%20%20%20%20%20Central%20Toronto%2032%20%20%20%20%20%20%20%20%20%20Downtown%20Toronto%2033%20%20%20%20%20%20%20%20%20%20Downtown%20Toronto%2034%20%20%20%20Downtown%20Toronto%20Stn%20A%2035%20%20%20%20%20%20%20%20%20%20Downtown%20Toronto%2036%20%20%20%20%20%20%20%20%20%20Downtown%20Toronto%2037%20%20%20%20%20%20%20%20%20%20Downtown%20Toronto%2038%20%20%20%20%20East%20Toronto%20Business%20Name%3A%20Borough%2C%20dtype%3A%20object%3C/div%3E%60%29%5B0%5D%3B%0A%20%20%20%20%20%20%20%20%20%20%20%20popup_93ee66983c3f4ef2a18117cbbb0e2304.setContent%28html_2ade45bff62e4cb09620198990548b7c%29%3B%0A%20%20%20%20%20%20%20%20%0A%0A%20%20%20%20%20%20%20%20circle_marker_5868240d114b42c0abeb58614eccc49c.bindPopup%28popup_93ee66983c3f4ef2a18117cbbb0e2304%29%0A%20%20%20%20%20%20%20%20%3B%0A%0A%20%20%20%20%20%20%20%20%0A%20%20%20%20%0A%20%20%20%20%0A%20%20%20%20%20%20%20%20%20%20%20%20var%20circle_marker_be6a35d68ccd4710b631ce1160d6bbf5%20%3D%20L.circleMarker%28%0A%20%20%20%20%20%20%20%20%20%20%20%20%20%20%20%20%5B43.6690051%2C%20-79.4422593%5D%2C%0A%20%20%20%20%20%20%20%20%20%20%20%20%20%20%20%20%7B%22bubblingMouseEvents%22%3A%20true%2C%20%22color%22%3A%20%22blue%22%2C%20%22dashArray%22%3A%20null%2C%20%22dashOffset%22%3A%20null%2C%20%22fill%22%3A%20true%2C%20%22fillColor%22%3A%20%22blue%22%2C%20%22fillOpacity%22%3A%200.4%2C%20%22fillRule%22%3A%20%22evenodd%22%2C%20%22lineCap%22%3A%20%22round%22%2C%20%22lineJoin%22%3A%20%22round%22%2C%20%22opacity%22%3A%201.0%2C%20%22radius%22%3A%205%2C%20%22stroke%22%3A%20true%2C%20%22weight%22%3A%203%7D%0A%20%20%20%20%20%20%20%20%20%20%20%20%29.addTo%28map_8530485182ab4fce80bb58b0080c8971%29%3B%0A%20%20%20%20%20%20%20%20%0A%20%20%20%20%0A%20%20%20%20%20%20%20%20var%20popup_9debe6c31aa34cf4b2b3003e225e44be%20%3D%20L.popup%28%7B%22maxWidth%22%3A%20%22100%25%22%7D%29%3B%0A%0A%20%20%20%20%20%20%20%20%0A%20%20%20%20%20%20%20%20%20%20%20%20var%20html_98a41bbcfd0b4c348aeeeb3c49574e7d%20%3D%20%24%28%60%3Cdiv%20id%3D%22html_98a41bbcfd0b4c348aeeeb3c49574e7d%22%20style%3D%22width%3A%20100.0%25%3B%20height%3A%20100.0%25%3B%22%3E0%20%20%20%20%20%20%20%20%20%20%20Downtown%20Toronto%201%20%20%20%20%20%20%20%20%20%20%20Downtown%20Toronto%202%20%20%20%20%20%20%20%20%20%20%20Downtown%20Toronto%203%20%20%20%20%20%20%20%20%20%20%20%20%20%20%20East%20Toronto%204%20%20%20%20%20%20%20%20%20%20%20Downtown%20Toronto%205%20%20%20%20%20%20%20%20%20%20%20Downtown%20Toronto%206%20%20%20%20%20%20%20%20%20%20%20Downtown%20Toronto%207%20%20%20%20%20%20%20%20%20%20%20Downtown%20Toronto%208%20%20%20%20%20%20%20%20%20%20%20%20%20%20%20West%20Toronto%209%20%20%20%20%20East%20York/East%20Toronto%2010%20%20%20%20%20%20%20%20%20%20Downtown%20Toronto%2011%20%20%20%20%20%20%20%20%20%20%20%20%20%20West%20Toronto%2012%20%20%20%20%20%20%20%20%20%20%20%20%20%20East%20Toronto%2013%20%20%20%20%20%20%20%20%20%20Downtown%20Toronto%2014%20%20%20%20%20%20%20%20%20%20%20%20%20%20West%20Toronto%2015%20%20%20%20%20%20%20%20%20%20%20%20%20%20East%20Toronto%2016%20%20%20%20%20%20%20%20%20%20Downtown%20Toronto%2017%20%20%20%20%20%20%20%20%20%20%20%20%20%20East%20Toronto%2018%20%20%20%20%20%20%20%20%20%20%20Central%20Toronto%2019%20%20%20%20%20%20%20%20%20%20%20Central%20Toronto%2020%20%20%20%20%20%20%20%20%20%20%20Central%20Toronto%2021%20%20%20%20%20%20%20%20%20%20%20Central%20Toronto%2022%20%20%20%20%20%20%20%20%20%20%20%20%20%20West%20Toronto%2023%20%20%20%20%20%20%20%20%20%20%20Central%20Toronto%2024%20%20%20%20%20%20%20%20%20%20%20Central%20Toronto%2025%20%20%20%20%20%20%20%20%20%20%20%20%20%20West%20Toronto%2026%20%20%20%20%20%20%20%20%20%20%20Central%20Toronto%2027%20%20%20%20%20%20%20%20%20%20Downtown%20Toronto%2028%20%20%20%20%20%20%20%20%20%20%20%20%20%20West%20Toronto%2029%20%20%20%20%20%20%20%20%20%20%20Central%20Toronto%2030%20%20%20%20%20%20%20%20%20%20Downtown%20Toronto%2031%20%20%20%20%20%20%20%20%20%20%20Central%20Toronto%2032%20%20%20%20%20%20%20%20%20%20Downtown%20Toronto%2033%20%20%20%20%20%20%20%20%20%20Downtown%20Toronto%2034%20%20%20%20Downtown%20Toronto%20Stn%20A%2035%20%20%20%20%20%20%20%20%20%20Downtown%20Toronto%2036%20%20%20%20%20%20%20%20%20%20Downtown%20Toronto%2037%20%20%20%20%20%20%20%20%20%20Downtown%20Toronto%2038%20%20%20%20%20East%20Toronto%20Business%20Name%3A%20Borough%2C%20dtype%3A%20object%3C/div%3E%60%29%5B0%5D%3B%0A%20%20%20%20%20%20%20%20%20%20%20%20popup_9debe6c31aa34cf4b2b3003e225e44be.setContent%28html_98a41bbcfd0b4c348aeeeb3c49574e7d%29%3B%0A%20%20%20%20%20%20%20%20%0A%0A%20%20%20%20%20%20%20%20circle_marker_be6a35d68ccd4710b631ce1160d6bbf5.bindPopup%28popup_9debe6c31aa34cf4b2b3003e225e44be%29%0A%20%20%20%20%20%20%20%20%3B%0A%0A%20%20%20%20%20%20%20%20%0A%20%20%20%20%0A%20%20%20%20%0A%20%20%20%20%20%20%20%20%20%20%20%20var%20circle_marker_e74e66cd72534122905baad768c6bb42%20%3D%20L.circleMarker%28%0A%20%20%20%20%20%20%20%20%20%20%20%20%20%20%20%20%5B43.685347%2C%20-79.3381065%5D%2C%0A%20%20%20%20%20%20%20%20%20%20%20%20%20%20%20%20%7B%22bubblingMouseEvents%22%3A%20true%2C%20%22color%22%3A%20%22blue%22%2C%20%22dashArray%22%3A%20null%2C%20%22dashOffset%22%3A%20null%2C%20%22fill%22%3A%20true%2C%20%22fillColor%22%3A%20%22blue%22%2C%20%22fillOpacity%22%3A%200.4%2C%20%22fillRule%22%3A%20%22evenodd%22%2C%20%22lineCap%22%3A%20%22round%22%2C%20%22lineJoin%22%3A%20%22round%22%2C%20%22opacity%22%3A%201.0%2C%20%22radius%22%3A%205%2C%20%22stroke%22%3A%20true%2C%20%22weight%22%3A%203%7D%0A%20%20%20%20%20%20%20%20%20%20%20%20%29.addTo%28map_8530485182ab4fce80bb58b0080c8971%29%3B%0A%20%20%20%20%20%20%20%20%0A%20%20%20%20%0A%20%20%20%20%20%20%20%20var%20popup_f1d06efec19149208d38b6922788c39f%20%3D%20L.popup%28%7B%22maxWidth%22%3A%20%22100%25%22%7D%29%3B%0A%0A%20%20%20%20%20%20%20%20%0A%20%20%20%20%20%20%20%20%20%20%20%20var%20html_adda2e761c70470b8af4b84bc2e75e46%20%3D%20%24%28%60%3Cdiv%20id%3D%22html_adda2e761c70470b8af4b84bc2e75e46%22%20style%3D%22width%3A%20100.0%25%3B%20height%3A%20100.0%25%3B%22%3E0%20%20%20%20%20%20%20%20%20%20%20Downtown%20Toronto%201%20%20%20%20%20%20%20%20%20%20%20Downtown%20Toronto%202%20%20%20%20%20%20%20%20%20%20%20Downtown%20Toronto%203%20%20%20%20%20%20%20%20%20%20%20%20%20%20%20East%20Toronto%204%20%20%20%20%20%20%20%20%20%20%20Downtown%20Toronto%205%20%20%20%20%20%20%20%20%20%20%20Downtown%20Toronto%206%20%20%20%20%20%20%20%20%20%20%20Downtown%20Toronto%207%20%20%20%20%20%20%20%20%20%20%20Downtown%20Toronto%208%20%20%20%20%20%20%20%20%20%20%20%20%20%20%20West%20Toronto%209%20%20%20%20%20East%20York/East%20Toronto%2010%20%20%20%20%20%20%20%20%20%20Downtown%20Toronto%2011%20%20%20%20%20%20%20%20%20%20%20%20%20%20West%20Toronto%2012%20%20%20%20%20%20%20%20%20%20%20%20%20%20East%20Toronto%2013%20%20%20%20%20%20%20%20%20%20Downtown%20Toronto%2014%20%20%20%20%20%20%20%20%20%20%20%20%20%20West%20Toronto%2015%20%20%20%20%20%20%20%20%20%20%20%20%20%20East%20Toronto%2016%20%20%20%20%20%20%20%20%20%20Downtown%20Toronto%2017%20%20%20%20%20%20%20%20%20%20%20%20%20%20East%20Toronto%2018%20%20%20%20%20%20%20%20%20%20%20Central%20Toronto%2019%20%20%20%20%20%20%20%20%20%20%20Central%20Toronto%2020%20%20%20%20%20%20%20%20%20%20%20Central%20Toronto%2021%20%20%20%20%20%20%20%20%20%20%20Central%20Toronto%2022%20%20%20%20%20%20%20%20%20%20%20%20%20%20West%20Toronto%2023%20%20%20%20%20%20%20%20%20%20%20Central%20Toronto%2024%20%20%20%20%20%20%20%20%20%20%20Central%20Toronto%2025%20%20%20%20%20%20%20%20%20%20%20%20%20%20West%20Toronto%2026%20%20%20%20%20%20%20%20%20%20%20Central%20Toronto%2027%20%20%20%20%20%20%20%20%20%20Downtown%20Toronto%2028%20%20%20%20%20%20%20%20%20%20%20%20%20%20West%20Toronto%2029%20%20%20%20%20%20%20%20%20%20%20Central%20Toronto%2030%20%20%20%20%20%20%20%20%20%20Downtown%20Toronto%2031%20%20%20%20%20%20%20%20%20%20%20Central%20Toronto%2032%20%20%20%20%20%20%20%20%20%20Downtown%20Toronto%2033%20%20%20%20%20%20%20%20%20%20Downtown%20Toronto%2034%20%20%20%20Downtown%20Toronto%20Stn%20A%2035%20%20%20%20%20%20%20%20%20%20Downtown%20Toronto%2036%20%20%20%20%20%20%20%20%20%20Downtown%20Toronto%2037%20%20%20%20%20%20%20%20%20%20Downtown%20Toronto%2038%20%20%20%20%20East%20Toronto%20Business%20Name%3A%20Borough%2C%20dtype%3A%20object%3C/div%3E%60%29%5B0%5D%3B%0A%20%20%20%20%20%20%20%20%20%20%20%20popup_f1d06efec19149208d38b6922788c39f.setContent%28html_adda2e761c70470b8af4b84bc2e75e46%29%3B%0A%20%20%20%20%20%20%20%20%0A%0A%20%20%20%20%20%20%20%20circle_marker_e74e66cd72534122905baad768c6bb42.bindPopup%28popup_f1d06efec19149208d38b6922788c39f%29%0A%20%20%20%20%20%20%20%20%3B%0A%0A%20%20%20%20%20%20%20%20%0A%20%20%20%20%0A%20%20%20%20%0A%20%20%20%20%20%20%20%20%20%20%20%20var%20circle_marker_cbf369a1dbca4bf4b3419c9915cb38fa%20%3D%20L.circleMarker%28%0A%20%20%20%20%20%20%20%20%20%20%20%20%20%20%20%20%5B43.6408157%2C%20-79.3817523%5D%2C%0A%20%20%20%20%20%20%20%20%20%20%20%20%20%20%20%20%7B%22bubblingMouseEvents%22%3A%20true%2C%20%22color%22%3A%20%22blue%22%2C%20%22dashArray%22%3A%20null%2C%20%22dashOffset%22%3A%20null%2C%20%22fill%22%3A%20true%2C%20%22fillColor%22%3A%20%22blue%22%2C%20%22fillOpacity%22%3A%200.4%2C%20%22fillRule%22%3A%20%22evenodd%22%2C%20%22lineCap%22%3A%20%22round%22%2C%20%22lineJoin%22%3A%20%22round%22%2C%20%22opacity%22%3A%201.0%2C%20%22radius%22%3A%205%2C%20%22stroke%22%3A%20true%2C%20%22weight%22%3A%203%7D%0A%20%20%20%20%20%20%20%20%20%20%20%20%29.addTo%28map_8530485182ab4fce80bb58b0080c8971%29%3B%0A%20%20%20%20%20%20%20%20%0A%20%20%20%20%0A%20%20%20%20%20%20%20%20var%20popup_8fec66f97f69421a86494c1ee0d74ee0%20%3D%20L.popup%28%7B%22maxWidth%22%3A%20%22100%25%22%7D%29%3B%0A%0A%20%20%20%20%20%20%20%20%0A%20%20%20%20%20%20%20%20%20%20%20%20var%20html_eabaacfa99b74738849483927d679f7b%20%3D%20%24%28%60%3Cdiv%20id%3D%22html_eabaacfa99b74738849483927d679f7b%22%20style%3D%22width%3A%20100.0%25%3B%20height%3A%20100.0%25%3B%22%3E0%20%20%20%20%20%20%20%20%20%20%20Downtown%20Toronto%201%20%20%20%20%20%20%20%20%20%20%20Downtown%20Toronto%202%20%20%20%20%20%20%20%20%20%20%20Downtown%20Toronto%203%20%20%20%20%20%20%20%20%20%20%20%20%20%20%20East%20Toronto%204%20%20%20%20%20%20%20%20%20%20%20Downtown%20Toronto%205%20%20%20%20%20%20%20%20%20%20%20Downtown%20Toronto%206%20%20%20%20%20%20%20%20%20%20%20Downtown%20Toronto%207%20%20%20%20%20%20%20%20%20%20%20Downtown%20Toronto%208%20%20%20%20%20%20%20%20%20%20%20%20%20%20%20West%20Toronto%209%20%20%20%20%20East%20York/East%20Toronto%2010%20%20%20%20%20%20%20%20%20%20Downtown%20Toronto%2011%20%20%20%20%20%20%20%20%20%20%20%20%20%20West%20Toronto%2012%20%20%20%20%20%20%20%20%20%20%20%20%20%20East%20Toronto%2013%20%20%20%20%20%20%20%20%20%20Downtown%20Toronto%2014%20%20%20%20%20%20%20%20%20%20%20%20%20%20West%20Toronto%2015%20%20%20%20%20%20%20%20%20%20%20%20%20%20East%20Toronto%2016%20%20%20%20%20%20%20%20%20%20Downtown%20Toronto%2017%20%20%20%20%20%20%20%20%20%20%20%20%20%20East%20Toronto%2018%20%20%20%20%20%20%20%20%20%20%20Central%20Toronto%2019%20%20%20%20%20%20%20%20%20%20%20Central%20Toronto%2020%20%20%20%20%20%20%20%20%20%20%20Central%20Toronto%2021%20%20%20%20%20%20%20%20%20%20%20Central%20Toronto%2022%20%20%20%20%20%20%20%20%20%20%20%20%20%20West%20Toronto%2023%20%20%20%20%20%20%20%20%20%20%20Central%20Toronto%2024%20%20%20%20%20%20%20%20%20%20%20Central%20Toronto%2025%20%20%20%20%20%20%20%20%20%20%20%20%20%20West%20Toronto%2026%20%20%20%20%20%20%20%20%20%20%20Central%20Toronto%2027%20%20%20%20%20%20%20%20%20%20Downtown%20Toronto%2028%20%20%20%20%20%20%20%20%20%20%20%20%20%20West%20Toronto%2029%20%20%20%20%20%20%20%20%20%20%20Central%20Toronto%2030%20%20%20%20%20%20%20%20%20%20Downtown%20Toronto%2031%20%20%20%20%20%20%20%20%20%20%20Central%20Toronto%2032%20%20%20%20%20%20%20%20%20%20Downtown%20Toronto%2033%20%20%20%20%20%20%20%20%20%20Downtown%20Toronto%2034%20%20%20%20Downtown%20Toronto%20Stn%20A%2035%20%20%20%20%20%20%20%20%20%20Downtown%20Toronto%2036%20%20%20%20%20%20%20%20%20%20Downtown%20Toronto%2037%20%20%20%20%20%20%20%20%20%20Downtown%20Toronto%2038%20%20%20%20%20East%20Toronto%20Business%20Name%3A%20Borough%2C%20dtype%3A%20object%3C/div%3E%60%29%5B0%5D%3B%0A%20%20%20%20%20%20%20%20%20%20%20%20popup_8fec66f97f69421a86494c1ee0d74ee0.setContent%28html_eabaacfa99b74738849483927d679f7b%29%3B%0A%20%20%20%20%20%20%20%20%0A%0A%20%20%20%20%20%20%20%20circle_marker_cbf369a1dbca4bf4b3419c9915cb38fa.bindPopup%28popup_8fec66f97f69421a86494c1ee0d74ee0%29%0A%20%20%20%20%20%20%20%20%3B%0A%0A%20%20%20%20%20%20%20%20%0A%20%20%20%20%0A%20%20%20%20%0A%20%20%20%20%20%20%20%20%20%20%20%20var%20circle_marker_5904a6db5a1d4b24b1e70fdcbc518610%20%3D%20L.circleMarker%28%0A%20%20%20%20%20%20%20%20%20%20%20%20%20%20%20%20%5B43.6479267%2C%20-79.4197497%5D%2C%0A%20%20%20%20%20%20%20%20%20%20%20%20%20%20%20%20%7B%22bubblingMouseEvents%22%3A%20true%2C%20%22color%22%3A%20%22blue%22%2C%20%22dashArray%22%3A%20null%2C%20%22dashOffset%22%3A%20null%2C%20%22fill%22%3A%20true%2C%20%22fillColor%22%3A%20%22blue%22%2C%20%22fillOpacity%22%3A%200.4%2C%20%22fillRule%22%3A%20%22evenodd%22%2C%20%22lineCap%22%3A%20%22round%22%2C%20%22lineJoin%22%3A%20%22round%22%2C%20%22opacity%22%3A%201.0%2C%20%22radius%22%3A%205%2C%20%22stroke%22%3A%20true%2C%20%22weight%22%3A%203%7D%0A%20%20%20%20%20%20%20%20%20%20%20%20%29.addTo%28map_8530485182ab4fce80bb58b0080c8971%29%3B%0A%20%20%20%20%20%20%20%20%0A%20%20%20%20%0A%20%20%20%20%20%20%20%20var%20popup_c80e4d54ccee463abd636d3a722cda83%20%3D%20L.popup%28%7B%22maxWidth%22%3A%20%22100%25%22%7D%29%3B%0A%0A%20%20%20%20%20%20%20%20%0A%20%20%20%20%20%20%20%20%20%20%20%20var%20html_cce5e89f04164f2fbb0d6f1c18c49439%20%3D%20%24%28%60%3Cdiv%20id%3D%22html_cce5e89f04164f2fbb0d6f1c18c49439%22%20style%3D%22width%3A%20100.0%25%3B%20height%3A%20100.0%25%3B%22%3E0%20%20%20%20%20%20%20%20%20%20%20Downtown%20Toronto%201%20%20%20%20%20%20%20%20%20%20%20Downtown%20Toronto%202%20%20%20%20%20%20%20%20%20%20%20Downtown%20Toronto%203%20%20%20%20%20%20%20%20%20%20%20%20%20%20%20East%20Toronto%204%20%20%20%20%20%20%20%20%20%20%20Downtown%20Toronto%205%20%20%20%20%20%20%20%20%20%20%20Downtown%20Toronto%206%20%20%20%20%20%20%20%20%20%20%20Downtown%20Toronto%207%20%20%20%20%20%20%20%20%20%20%20Downtown%20Toronto%208%20%20%20%20%20%20%20%20%20%20%20%20%20%20%20West%20Toronto%209%20%20%20%20%20East%20York/East%20Toronto%2010%20%20%20%20%20%20%20%20%20%20Downtown%20Toronto%2011%20%20%20%20%20%20%20%20%20%20%20%20%20%20West%20Toronto%2012%20%20%20%20%20%20%20%20%20%20%20%20%20%20East%20Toronto%2013%20%20%20%20%20%20%20%20%20%20Downtown%20Toronto%2014%20%20%20%20%20%20%20%20%20%20%20%20%20%20West%20Toronto%2015%20%20%20%20%20%20%20%20%20%20%20%20%20%20East%20Toronto%2016%20%20%20%20%20%20%20%20%20%20Downtown%20Toronto%2017%20%20%20%20%20%20%20%20%20%20%20%20%20%20East%20Toronto%2018%20%20%20%20%20%20%20%20%20%20%20Central%20Toronto%2019%20%20%20%20%20%20%20%20%20%20%20Central%20Toronto%2020%20%20%20%20%20%20%20%20%20%20%20Central%20Toronto%2021%20%20%20%20%20%20%20%20%20%20%20Central%20Toronto%2022%20%20%20%20%20%20%20%20%20%20%20%20%20%20West%20Toronto%2023%20%20%20%20%20%20%20%20%20%20%20Central%20Toronto%2024%20%20%20%20%20%20%20%20%20%20%20Central%20Toronto%2025%20%20%20%20%20%20%20%20%20%20%20%20%20%20West%20Toronto%2026%20%20%20%20%20%20%20%20%20%20%20Central%20Toronto%2027%20%20%20%20%20%20%20%20%20%20Downtown%20Toronto%2028%20%20%20%20%20%20%20%20%20%20%20%20%20%20West%20Toronto%2029%20%20%20%20%20%20%20%20%20%20%20Central%20Toronto%2030%20%20%20%20%20%20%20%20%20%20Downtown%20Toronto%2031%20%20%20%20%20%20%20%20%20%20%20Central%20Toronto%2032%20%20%20%20%20%20%20%20%20%20Downtown%20Toronto%2033%20%20%20%20%20%20%20%20%20%20Downtown%20Toronto%2034%20%20%20%20Downtown%20Toronto%20Stn%20A%2035%20%20%20%20%20%20%20%20%20%20Downtown%20Toronto%2036%20%20%20%20%20%20%20%20%20%20Downtown%20Toronto%2037%20%20%20%20%20%20%20%20%20%20Downtown%20Toronto%2038%20%20%20%20%20East%20Toronto%20Business%20Name%3A%20Borough%2C%20dtype%3A%20object%3C/div%3E%60%29%5B0%5D%3B%0A%20%20%20%20%20%20%20%20%20%20%20%20popup_c80e4d54ccee463abd636d3a722cda83.setContent%28html_cce5e89f04164f2fbb0d6f1c18c49439%29%3B%0A%20%20%20%20%20%20%20%20%0A%0A%20%20%20%20%20%20%20%20circle_marker_5904a6db5a1d4b24b1e70fdcbc518610.bindPopup%28popup_c80e4d54ccee463abd636d3a722cda83%29%0A%20%20%20%20%20%20%20%20%3B%0A%0A%20%20%20%20%20%20%20%20%0A%20%20%20%20%0A%20%20%20%20%0A%20%20%20%20%20%20%20%20%20%20%20%20var%20circle_marker_ec49bec74be641f98291aca1bd825371%20%3D%20L.circleMarker%28%0A%20%20%20%20%20%20%20%20%20%20%20%20%20%20%20%20%5B43.6795571%2C%20-79.352188%5D%2C%0A%20%20%20%20%20%20%20%20%20%20%20%20%20%20%20%20%7B%22bubblingMouseEvents%22%3A%20true%2C%20%22color%22%3A%20%22blue%22%2C%20%22dashArray%22%3A%20null%2C%20%22dashOffset%22%3A%20null%2C%20%22fill%22%3A%20true%2C%20%22fillColor%22%3A%20%22blue%22%2C%20%22fillOpacity%22%3A%200.4%2C%20%22fillRule%22%3A%20%22evenodd%22%2C%20%22lineCap%22%3A%20%22round%22%2C%20%22lineJoin%22%3A%20%22round%22%2C%20%22opacity%22%3A%201.0%2C%20%22radius%22%3A%205%2C%20%22stroke%22%3A%20true%2C%20%22weight%22%3A%203%7D%0A%20%20%20%20%20%20%20%20%20%20%20%20%29.addTo%28map_8530485182ab4fce80bb58b0080c8971%29%3B%0A%20%20%20%20%20%20%20%20%0A%20%20%20%20%0A%20%20%20%20%20%20%20%20var%20popup_2b0dd9e403de4ff0a0466390787cc374%20%3D%20L.popup%28%7B%22maxWidth%22%3A%20%22100%25%22%7D%29%3B%0A%0A%20%20%20%20%20%20%20%20%0A%20%20%20%20%20%20%20%20%20%20%20%20var%20html_14806660a7894dc090ebc04967b1bea0%20%3D%20%24%28%60%3Cdiv%20id%3D%22html_14806660a7894dc090ebc04967b1bea0%22%20style%3D%22width%3A%20100.0%25%3B%20height%3A%20100.0%25%3B%22%3E0%20%20%20%20%20%20%20%20%20%20%20Downtown%20Toronto%201%20%20%20%20%20%20%20%20%20%20%20Downtown%20Toronto%202%20%20%20%20%20%20%20%20%20%20%20Downtown%20Toronto%203%20%20%20%20%20%20%20%20%20%20%20%20%20%20%20East%20Toronto%204%20%20%20%20%20%20%20%20%20%20%20Downtown%20Toronto%205%20%20%20%20%20%20%20%20%20%20%20Downtown%20Toronto%206%20%20%20%20%20%20%20%20%20%20%20Downtown%20Toronto%207%20%20%20%20%20%20%20%20%20%20%20Downtown%20Toronto%208%20%20%20%20%20%20%20%20%20%20%20%20%20%20%20West%20Toronto%209%20%20%20%20%20East%20York/East%20Toronto%2010%20%20%20%20%20%20%20%20%20%20Downtown%20Toronto%2011%20%20%20%20%20%20%20%20%20%20%20%20%20%20West%20Toronto%2012%20%20%20%20%20%20%20%20%20%20%20%20%20%20East%20Toronto%2013%20%20%20%20%20%20%20%20%20%20Downtown%20Toronto%2014%20%20%20%20%20%20%20%20%20%20%20%20%20%20West%20Toronto%2015%20%20%20%20%20%20%20%20%20%20%20%20%20%20East%20Toronto%2016%20%20%20%20%20%20%20%20%20%20Downtown%20Toronto%2017%20%20%20%20%20%20%20%20%20%20%20%20%20%20East%20Toronto%2018%20%20%20%20%20%20%20%20%20%20%20Central%20Toronto%2019%20%20%20%20%20%20%20%20%20%20%20Central%20Toronto%2020%20%20%20%20%20%20%20%20%20%20%20Central%20Toronto%2021%20%20%20%20%20%20%20%20%20%20%20Central%20Toronto%2022%20%20%20%20%20%20%20%20%20%20%20%20%20%20West%20Toronto%2023%20%20%20%20%20%20%20%20%20%20%20Central%20Toronto%2024%20%20%20%20%20%20%20%20%20%20%20Central%20Toronto%2025%20%20%20%20%20%20%20%20%20%20%20%20%20%20West%20Toronto%2026%20%20%20%20%20%20%20%20%20%20%20Central%20Toronto%2027%20%20%20%20%20%20%20%20%20%20Downtown%20Toronto%2028%20%20%20%20%20%20%20%20%20%20%20%20%20%20West%20Toronto%2029%20%20%20%20%20%20%20%20%20%20%20Central%20Toronto%2030%20%20%20%20%20%20%20%20%20%20Downtown%20Toronto%2031%20%20%20%20%20%20%20%20%20%20%20Central%20Toronto%2032%20%20%20%20%20%20%20%20%20%20Downtown%20Toronto%2033%20%20%20%20%20%20%20%20%20%20Downtown%20Toronto%2034%20%20%20%20Downtown%20Toronto%20Stn%20A%2035%20%20%20%20%20%20%20%20%20%20Downtown%20Toronto%2036%20%20%20%20%20%20%20%20%20%20Downtown%20Toronto%2037%20%20%20%20%20%20%20%20%20%20Downtown%20Toronto%2038%20%20%20%20%20East%20Toronto%20Business%20Name%3A%20Borough%2C%20dtype%3A%20object%3C/div%3E%60%29%5B0%5D%3B%0A%20%20%20%20%20%20%20%20%20%20%20%20popup_2b0dd9e403de4ff0a0466390787cc374.setContent%28html_14806660a7894dc090ebc04967b1bea0%29%3B%0A%20%20%20%20%20%20%20%20%0A%0A%20%20%20%20%20%20%20%20circle_marker_ec49bec74be641f98291aca1bd825371.bindPopup%28popup_2b0dd9e403de4ff0a0466390787cc374%29%0A%20%20%20%20%20%20%20%20%3B%0A%0A%20%20%20%20%20%20%20%20%0A%20%20%20%20%0A%20%20%20%20%0A%20%20%20%20%20%20%20%20%20%20%20%20var%20circle_marker_a1f3b3eb3404426f818b7506d5875415%20%3D%20L.circleMarker%28%0A%20%20%20%20%20%20%20%20%20%20%20%20%20%20%20%20%5B43.6471768%2C%20-79.3815764%5D%2C%0A%20%20%20%20%20%20%20%20%20%20%20%20%20%20%20%20%7B%22bubblingMouseEvents%22%3A%20true%2C%20%22color%22%3A%20%22blue%22%2C%20%22dashArray%22%3A%20null%2C%20%22dashOffset%22%3A%20null%2C%20%22fill%22%3A%20true%2C%20%22fillColor%22%3A%20%22blue%22%2C%20%22fillOpacity%22%3A%200.4%2C%20%22fillRule%22%3A%20%22evenodd%22%2C%20%22lineCap%22%3A%20%22round%22%2C%20%22lineJoin%22%3A%20%22round%22%2C%20%22opacity%22%3A%201.0%2C%20%22radius%22%3A%205%2C%20%22stroke%22%3A%20true%2C%20%22weight%22%3A%203%7D%0A%20%20%20%20%20%20%20%20%20%20%20%20%29.addTo%28map_8530485182ab4fce80bb58b0080c8971%29%3B%0A%20%20%20%20%20%20%20%20%0A%20%20%20%20%0A%20%20%20%20%20%20%20%20var%20popup_85bd5e42bd3d401bab2da76e5f0fa491%20%3D%20L.popup%28%7B%22maxWidth%22%3A%20%22100%25%22%7D%29%3B%0A%0A%20%20%20%20%20%20%20%20%0A%20%20%20%20%20%20%20%20%20%20%20%20var%20html_5c11f749a14343568ab55c6ac4f14be3%20%3D%20%24%28%60%3Cdiv%20id%3D%22html_5c11f749a14343568ab55c6ac4f14be3%22%20style%3D%22width%3A%20100.0%25%3B%20height%3A%20100.0%25%3B%22%3E0%20%20%20%20%20%20%20%20%20%20%20Downtown%20Toronto%201%20%20%20%20%20%20%20%20%20%20%20Downtown%20Toronto%202%20%20%20%20%20%20%20%20%20%20%20Downtown%20Toronto%203%20%20%20%20%20%20%20%20%20%20%20%20%20%20%20East%20Toronto%204%20%20%20%20%20%20%20%20%20%20%20Downtown%20Toronto%205%20%20%20%20%20%20%20%20%20%20%20Downtown%20Toronto%206%20%20%20%20%20%20%20%20%20%20%20Downtown%20Toronto%207%20%20%20%20%20%20%20%20%20%20%20Downtown%20Toronto%208%20%20%20%20%20%20%20%20%20%20%20%20%20%20%20West%20Toronto%209%20%20%20%20%20East%20York/East%20Toronto%2010%20%20%20%20%20%20%20%20%20%20Downtown%20Toronto%2011%20%20%20%20%20%20%20%20%20%20%20%20%20%20West%20Toronto%2012%20%20%20%20%20%20%20%20%20%20%20%20%20%20East%20Toronto%2013%20%20%20%20%20%20%20%20%20%20Downtown%20Toronto%2014%20%20%20%20%20%20%20%20%20%20%20%20%20%20West%20Toronto%2015%20%20%20%20%20%20%20%20%20%20%20%20%20%20East%20Toronto%2016%20%20%20%20%20%20%20%20%20%20Downtown%20Toronto%2017%20%20%20%20%20%20%20%20%20%20%20%20%20%20East%20Toronto%2018%20%20%20%20%20%20%20%20%20%20%20Central%20Toronto%2019%20%20%20%20%20%20%20%20%20%20%20Central%20Toronto%2020%20%20%20%20%20%20%20%20%20%20%20Central%20Toronto%2021%20%20%20%20%20%20%20%20%20%20%20Central%20Toronto%2022%20%20%20%20%20%20%20%20%20%20%20%20%20%20West%20Toronto%2023%20%20%20%20%20%20%20%20%20%20%20Central%20Toronto%2024%20%20%20%20%20%20%20%20%20%20%20Central%20Toronto%2025%20%20%20%20%20%20%20%20%20%20%20%20%20%20West%20Toronto%2026%20%20%20%20%20%20%20%20%20%20%20Central%20Toronto%2027%20%20%20%20%20%20%20%20%20%20Downtown%20Toronto%2028%20%20%20%20%20%20%20%20%20%20%20%20%20%20West%20Toronto%2029%20%20%20%20%20%20%20%20%20%20%20Central%20Toronto%2030%20%20%20%20%20%20%20%20%20%20Downtown%20Toronto%2031%20%20%20%20%20%20%20%20%20%20%20Central%20Toronto%2032%20%20%20%20%20%20%20%20%20%20Downtown%20Toronto%2033%20%20%20%20%20%20%20%20%20%20Downtown%20Toronto%2034%20%20%20%20Downtown%20Toronto%20Stn%20A%2035%20%20%20%20%20%20%20%20%20%20Downtown%20Toronto%2036%20%20%20%20%20%20%20%20%20%20Downtown%20Toronto%2037%20%20%20%20%20%20%20%20%20%20Downtown%20Toronto%2038%20%20%20%20%20East%20Toronto%20Business%20Name%3A%20Borough%2C%20dtype%3A%20object%3C/div%3E%60%29%5B0%5D%3B%0A%20%20%20%20%20%20%20%20%20%20%20%20popup_85bd5e42bd3d401bab2da76e5f0fa491.setContent%28html_5c11f749a14343568ab55c6ac4f14be3%29%3B%0A%20%20%20%20%20%20%20%20%0A%0A%20%20%20%20%20%20%20%20circle_marker_a1f3b3eb3404426f818b7506d5875415.bindPopup%28popup_85bd5e42bd3d401bab2da76e5f0fa491%29%0A%20%20%20%20%20%20%20%20%3B%0A%0A%20%20%20%20%20%20%20%20%0A%20%20%20%20%0A%20%20%20%20%0A%20%20%20%20%20%20%20%20%20%20%20%20var%20circle_marker_2a2e203c937e4acca05d2da159c10046%20%3D%20L.circleMarker%28%0A%20%20%20%20%20%20%20%20%20%20%20%20%20%20%20%20%5B43.6368472%2C%20-79.4281914%5D%2C%0A%20%20%20%20%20%20%20%20%20%20%20%20%20%20%20%20%7B%22bubblingMouseEvents%22%3A%20true%2C%20%22color%22%3A%20%22blue%22%2C%20%22dashArray%22%3A%20null%2C%20%22dashOffset%22%3A%20null%2C%20%22fill%22%3A%20true%2C%20%22fillColor%22%3A%20%22blue%22%2C%20%22fillOpacity%22%3A%200.4%2C%20%22fillRule%22%3A%20%22evenodd%22%2C%20%22lineCap%22%3A%20%22round%22%2C%20%22lineJoin%22%3A%20%22round%22%2C%20%22opacity%22%3A%201.0%2C%20%22radius%22%3A%205%2C%20%22stroke%22%3A%20true%2C%20%22weight%22%3A%203%7D%0A%20%20%20%20%20%20%20%20%20%20%20%20%29.addTo%28map_8530485182ab4fce80bb58b0080c8971%29%3B%0A%20%20%20%20%20%20%20%20%0A%20%20%20%20%0A%20%20%20%20%20%20%20%20var%20popup_021217a0d594423487d80c8f545191f9%20%3D%20L.popup%28%7B%22maxWidth%22%3A%20%22100%25%22%7D%29%3B%0A%0A%20%20%20%20%20%20%20%20%0A%20%20%20%20%20%20%20%20%20%20%20%20var%20html_ac03f8cad1ec4144ae0a8b303417af24%20%3D%20%24%28%60%3Cdiv%20id%3D%22html_ac03f8cad1ec4144ae0a8b303417af24%22%20style%3D%22width%3A%20100.0%25%3B%20height%3A%20100.0%25%3B%22%3E0%20%20%20%20%20%20%20%20%20%20%20Downtown%20Toronto%201%20%20%20%20%20%20%20%20%20%20%20Downtown%20Toronto%202%20%20%20%20%20%20%20%20%20%20%20Downtown%20Toronto%203%20%20%20%20%20%20%20%20%20%20%20%20%20%20%20East%20Toronto%204%20%20%20%20%20%20%20%20%20%20%20Downtown%20Toronto%205%20%20%20%20%20%20%20%20%20%20%20Downtown%20Toronto%206%20%20%20%20%20%20%20%20%20%20%20Downtown%20Toronto%207%20%20%20%20%20%20%20%20%20%20%20Downtown%20Toronto%208%20%20%20%20%20%20%20%20%20%20%20%20%20%20%20West%20Toronto%209%20%20%20%20%20East%20York/East%20Toronto%2010%20%20%20%20%20%20%20%20%20%20Downtown%20Toronto%2011%20%20%20%20%20%20%20%20%20%20%20%20%20%20West%20Toronto%2012%20%20%20%20%20%20%20%20%20%20%20%20%20%20East%20Toronto%2013%20%20%20%20%20%20%20%20%20%20Downtown%20Toronto%2014%20%20%20%20%20%20%20%20%20%20%20%20%20%20West%20Toronto%2015%20%20%20%20%20%20%20%20%20%20%20%20%20%20East%20Toronto%2016%20%20%20%20%20%20%20%20%20%20Downtown%20Toronto%2017%20%20%20%20%20%20%20%20%20%20%20%20%20%20East%20Toronto%2018%20%20%20%20%20%20%20%20%20%20%20Central%20Toronto%2019%20%20%20%20%20%20%20%20%20%20%20Central%20Toronto%2020%20%20%20%20%20%20%20%20%20%20%20Central%20Toronto%2021%20%20%20%20%20%20%20%20%20%20%20Central%20Toronto%2022%20%20%20%20%20%20%20%20%20%20%20%20%20%20West%20Toronto%2023%20%20%20%20%20%20%20%20%20%20%20Central%20Toronto%2024%20%20%20%20%20%20%20%20%20%20%20Central%20Toronto%2025%20%20%20%20%20%20%20%20%20%20%20%20%20%20West%20Toronto%2026%20%20%20%20%20%20%20%20%20%20%20Central%20Toronto%2027%20%20%20%20%20%20%20%20%20%20Downtown%20Toronto%2028%20%20%20%20%20%20%20%20%20%20%20%20%20%20West%20Toronto%2029%20%20%20%20%20%20%20%20%20%20%20Central%20Toronto%2030%20%20%20%20%20%20%20%20%20%20Downtown%20Toronto%2031%20%20%20%20%20%20%20%20%20%20%20Central%20Toronto%2032%20%20%20%20%20%20%20%20%20%20Downtown%20Toronto%2033%20%20%20%20%20%20%20%20%20%20Downtown%20Toronto%2034%20%20%20%20Downtown%20Toronto%20Stn%20A%2035%20%20%20%20%20%20%20%20%20%20Downtown%20Toronto%2036%20%20%20%20%20%20%20%20%20%20Downtown%20Toronto%2037%20%20%20%20%20%20%20%20%20%20Downtown%20Toronto%2038%20%20%20%20%20East%20Toronto%20Business%20Name%3A%20Borough%2C%20dtype%3A%20object%3C/div%3E%60%29%5B0%5D%3B%0A%20%20%20%20%20%20%20%20%20%20%20%20popup_021217a0d594423487d80c8f545191f9.setContent%28html_ac03f8cad1ec4144ae0a8b303417af24%29%3B%0A%20%20%20%20%20%20%20%20%0A%0A%20%20%20%20%20%20%20%20circle_marker_2a2e203c937e4acca05d2da159c10046.bindPopup%28popup_021217a0d594423487d80c8f545191f9%29%0A%20%20%20%20%20%20%20%20%3B%0A%0A%20%20%20%20%20%20%20%20%0A%20%20%20%20%0A%20%20%20%20%0A%20%20%20%20%20%20%20%20%20%20%20%20var%20circle_marker_1f0ce92c3e254eb99dc361231d4a7014%20%3D%20L.circleMarker%28%0A%20%20%20%20%20%20%20%20%20%20%20%20%20%20%20%20%5B43.6689985%2C%20-79.3155716%5D%2C%0A%20%20%20%20%20%20%20%20%20%20%20%20%20%20%20%20%7B%22bubblingMouseEvents%22%3A%20true%2C%20%22color%22%3A%20%22blue%22%2C%20%22dashArray%22%3A%20null%2C%20%22dashOffset%22%3A%20null%2C%20%22fill%22%3A%20true%2C%20%22fillColor%22%3A%20%22blue%22%2C%20%22fillOpacity%22%3A%200.4%2C%20%22fillRule%22%3A%20%22evenodd%22%2C%20%22lineCap%22%3A%20%22round%22%2C%20%22lineJoin%22%3A%20%22round%22%2C%20%22opacity%22%3A%201.0%2C%20%22radius%22%3A%205%2C%20%22stroke%22%3A%20true%2C%20%22weight%22%3A%203%7D%0A%20%20%20%20%20%20%20%20%20%20%20%20%29.addTo%28map_8530485182ab4fce80bb58b0080c8971%29%3B%0A%20%20%20%20%20%20%20%20%0A%20%20%20%20%0A%20%20%20%20%20%20%20%20var%20popup_ac557bc69f4341348d3d0b69ec430146%20%3D%20L.popup%28%7B%22maxWidth%22%3A%20%22100%25%22%7D%29%3B%0A%0A%20%20%20%20%20%20%20%20%0A%20%20%20%20%20%20%20%20%20%20%20%20var%20html_6a16fc055236459ebad048db62abbeac%20%3D%20%24%28%60%3Cdiv%20id%3D%22html_6a16fc055236459ebad048db62abbeac%22%20style%3D%22width%3A%20100.0%25%3B%20height%3A%20100.0%25%3B%22%3E0%20%20%20%20%20%20%20%20%20%20%20Downtown%20Toronto%201%20%20%20%20%20%20%20%20%20%20%20Downtown%20Toronto%202%20%20%20%20%20%20%20%20%20%20%20Downtown%20Toronto%203%20%20%20%20%20%20%20%20%20%20%20%20%20%20%20East%20Toronto%204%20%20%20%20%20%20%20%20%20%20%20Downtown%20Toronto%205%20%20%20%20%20%20%20%20%20%20%20Downtown%20Toronto%206%20%20%20%20%20%20%20%20%20%20%20Downtown%20Toronto%207%20%20%20%20%20%20%20%20%20%20%20Downtown%20Toronto%208%20%20%20%20%20%20%20%20%20%20%20%20%20%20%20West%20Toronto%209%20%20%20%20%20East%20York/East%20Toronto%2010%20%20%20%20%20%20%20%20%20%20Downtown%20Toronto%2011%20%20%20%20%20%20%20%20%20%20%20%20%20%20West%20Toronto%2012%20%20%20%20%20%20%20%20%20%20%20%20%20%20East%20Toronto%2013%20%20%20%20%20%20%20%20%20%20Downtown%20Toronto%2014%20%20%20%20%20%20%20%20%20%20%20%20%20%20West%20Toronto%2015%20%20%20%20%20%20%20%20%20%20%20%20%20%20East%20Toronto%2016%20%20%20%20%20%20%20%20%20%20Downtown%20Toronto%2017%20%20%20%20%20%20%20%20%20%20%20%20%20%20East%20Toronto%2018%20%20%20%20%20%20%20%20%20%20%20Central%20Toronto%2019%20%20%20%20%20%20%20%20%20%20%20Central%20Toronto%2020%20%20%20%20%20%20%20%20%20%20%20Central%20Toronto%2021%20%20%20%20%20%20%20%20%20%20%20Central%20Toronto%2022%20%20%20%20%20%20%20%20%20%20%20%20%20%20West%20Toronto%2023%20%20%20%20%20%20%20%20%20%20%20Central%20Toronto%2024%20%20%20%20%20%20%20%20%20%20%20Central%20Toronto%2025%20%20%20%20%20%20%20%20%20%20%20%20%20%20West%20Toronto%2026%20%20%20%20%20%20%20%20%20%20%20Central%20Toronto%2027%20%20%20%20%20%20%20%20%20%20Downtown%20Toronto%2028%20%20%20%20%20%20%20%20%20%20%20%20%20%20West%20Toronto%2029%20%20%20%20%20%20%20%20%20%20%20Central%20Toronto%2030%20%20%20%20%20%20%20%20%20%20Downtown%20Toronto%2031%20%20%20%20%20%20%20%20%20%20%20Central%20Toronto%2032%20%20%20%20%20%20%20%20%20%20Downtown%20Toronto%2033%20%20%20%20%20%20%20%20%20%20Downtown%20Toronto%2034%20%20%20%20Downtown%20Toronto%20Stn%20A%2035%20%20%20%20%20%20%20%20%20%20Downtown%20Toronto%2036%20%20%20%20%20%20%20%20%20%20Downtown%20Toronto%2037%20%20%20%20%20%20%20%20%20%20Downtown%20Toronto%2038%20%20%20%20%20East%20Toronto%20Business%20Name%3A%20Borough%2C%20dtype%3A%20object%3C/div%3E%60%29%5B0%5D%3B%0A%20%20%20%20%20%20%20%20%20%20%20%20popup_ac557bc69f4341348d3d0b69ec430146.setContent%28html_6a16fc055236459ebad048db62abbeac%29%3B%0A%20%20%20%20%20%20%20%20%0A%0A%20%20%20%20%20%20%20%20circle_marker_1f0ce92c3e254eb99dc361231d4a7014.bindPopup%28popup_ac557bc69f4341348d3d0b69ec430146%29%0A%20%20%20%20%20%20%20%20%3B%0A%0A%20%20%20%20%20%20%20%20%0A%20%20%20%20%0A%20%20%20%20%0A%20%20%20%20%20%20%20%20%20%20%20%20var%20circle_marker_b65ed78e88cf47b9a4d0ade54c2ff9d6%20%3D%20L.circleMarker%28%0A%20%20%20%20%20%20%20%20%20%20%20%20%20%20%20%20%5B43.6481985%2C%20-79.3798169%5D%2C%0A%20%20%20%20%20%20%20%20%20%20%20%20%20%20%20%20%7B%22bubblingMouseEvents%22%3A%20true%2C%20%22color%22%3A%20%22blue%22%2C%20%22dashArray%22%3A%20null%2C%20%22dashOffset%22%3A%20null%2C%20%22fill%22%3A%20true%2C%20%22fillColor%22%3A%20%22blue%22%2C%20%22fillOpacity%22%3A%200.4%2C%20%22fillRule%22%3A%20%22evenodd%22%2C%20%22lineCap%22%3A%20%22round%22%2C%20%22lineJoin%22%3A%20%22round%22%2C%20%22opacity%22%3A%201.0%2C%20%22radius%22%3A%205%2C%20%22stroke%22%3A%20true%2C%20%22weight%22%3A%203%7D%0A%20%20%20%20%20%20%20%20%20%20%20%20%29.addTo%28map_8530485182ab4fce80bb58b0080c8971%29%3B%0A%20%20%20%20%20%20%20%20%0A%20%20%20%20%0A%20%20%20%20%20%20%20%20var%20popup_245c3298464f41d8ba873b9d75c74a5f%20%3D%20L.popup%28%7B%22maxWidth%22%3A%20%22100%25%22%7D%29%3B%0A%0A%20%20%20%20%20%20%20%20%0A%20%20%20%20%20%20%20%20%20%20%20%20var%20html_b353328cc8e54ff7aee2220903e6bcac%20%3D%20%24%28%60%3Cdiv%20id%3D%22html_b353328cc8e54ff7aee2220903e6bcac%22%20style%3D%22width%3A%20100.0%25%3B%20height%3A%20100.0%25%3B%22%3E0%20%20%20%20%20%20%20%20%20%20%20Downtown%20Toronto%201%20%20%20%20%20%20%20%20%20%20%20Downtown%20Toronto%202%20%20%20%20%20%20%20%20%20%20%20Downtown%20Toronto%203%20%20%20%20%20%20%20%20%20%20%20%20%20%20%20East%20Toronto%204%20%20%20%20%20%20%20%20%20%20%20Downtown%20Toronto%205%20%20%20%20%20%20%20%20%20%20%20Downtown%20Toronto%206%20%20%20%20%20%20%20%20%20%20%20Downtown%20Toronto%207%20%20%20%20%20%20%20%20%20%20%20Downtown%20Toronto%208%20%20%20%20%20%20%20%20%20%20%20%20%20%20%20West%20Toronto%209%20%20%20%20%20East%20York/East%20Toronto%2010%20%20%20%20%20%20%20%20%20%20Downtown%20Toronto%2011%20%20%20%20%20%20%20%20%20%20%20%20%20%20West%20Toronto%2012%20%20%20%20%20%20%20%20%20%20%20%20%20%20East%20Toronto%2013%20%20%20%20%20%20%20%20%20%20Downtown%20Toronto%2014%20%20%20%20%20%20%20%20%20%20%20%20%20%20West%20Toronto%2015%20%20%20%20%20%20%20%20%20%20%20%20%20%20East%20Toronto%2016%20%20%20%20%20%20%20%20%20%20Downtown%20Toronto%2017%20%20%20%20%20%20%20%20%20%20%20%20%20%20East%20Toronto%2018%20%20%20%20%20%20%20%20%20%20%20Central%20Toronto%2019%20%20%20%20%20%20%20%20%20%20%20Central%20Toronto%2020%20%20%20%20%20%20%20%20%20%20%20Central%20Toronto%2021%20%20%20%20%20%20%20%20%20%20%20Central%20Toronto%2022%20%20%20%20%20%20%20%20%20%20%20%20%20%20West%20Toronto%2023%20%20%20%20%20%20%20%20%20%20%20Central%20Toronto%2024%20%20%20%20%20%20%20%20%20%20%20Central%20Toronto%2025%20%20%20%20%20%20%20%20%20%20%20%20%20%20West%20Toronto%2026%20%20%20%20%20%20%20%20%20%20%20Central%20Toronto%2027%20%20%20%20%20%20%20%20%20%20Downtown%20Toronto%2028%20%20%20%20%20%20%20%20%20%20%20%20%20%20West%20Toronto%2029%20%20%20%20%20%20%20%20%20%20%20Central%20Toronto%2030%20%20%20%20%20%20%20%20%20%20Downtown%20Toronto%2031%20%20%20%20%20%20%20%20%20%20%20Central%20Toronto%2032%20%20%20%20%20%20%20%20%20%20Downtown%20Toronto%2033%20%20%20%20%20%20%20%20%20%20Downtown%20Toronto%2034%20%20%20%20Downtown%20Toronto%20Stn%20A%2035%20%20%20%20%20%20%20%20%20%20Downtown%20Toronto%2036%20%20%20%20%20%20%20%20%20%20Downtown%20Toronto%2037%20%20%20%20%20%20%20%20%20%20Downtown%20Toronto%2038%20%20%20%20%20East%20Toronto%20Business%20Name%3A%20Borough%2C%20dtype%3A%20object%3C/div%3E%60%29%5B0%5D%3B%0A%20%20%20%20%20%20%20%20%20%20%20%20popup_245c3298464f41d8ba873b9d75c74a5f.setContent%28html_b353328cc8e54ff7aee2220903e6bcac%29%3B%0A%20%20%20%20%20%20%20%20%0A%0A%20%20%20%20%20%20%20%20circle_marker_b65ed78e88cf47b9a4d0ade54c2ff9d6.bindPopup%28popup_245c3298464f41d8ba873b9d75c74a5f%29%0A%20%20%20%20%20%20%20%20%3B%0A%0A%20%20%20%20%20%20%20%20%0A%20%20%20%20%0A%20%20%20%20%0A%20%20%20%20%20%20%20%20%20%20%20%20var%20circle_marker_dadb42b64de84018beb0c775364aa875%20%3D%20L.circleMarker%28%0A%20%20%20%20%20%20%20%20%20%20%20%20%20%20%20%20%5B43.6595255%2C%20-79.340923%5D%2C%0A%20%20%20%20%20%20%20%20%20%20%20%20%20%20%20%20%7B%22bubblingMouseEvents%22%3A%20true%2C%20%22color%22%3A%20%22blue%22%2C%20%22dashArray%22%3A%20null%2C%20%22dashOffset%22%3A%20null%2C%20%22fill%22%3A%20true%2C%20%22fillColor%22%3A%20%22blue%22%2C%20%22fillOpacity%22%3A%200.4%2C%20%22fillRule%22%3A%20%22evenodd%22%2C%20%22lineCap%22%3A%20%22round%22%2C%20%22lineJoin%22%3A%20%22round%22%2C%20%22opacity%22%3A%201.0%2C%20%22radius%22%3A%205%2C%20%22stroke%22%3A%20true%2C%20%22weight%22%3A%203%7D%0A%20%20%20%20%20%20%20%20%20%20%20%20%29.addTo%28map_8530485182ab4fce80bb58b0080c8971%29%3B%0A%20%20%20%20%20%20%20%20%0A%20%20%20%20%0A%20%20%20%20%20%20%20%20var%20popup_d43e30e7508a49019f02ac91b4dd4869%20%3D%20L.popup%28%7B%22maxWidth%22%3A%20%22100%25%22%7D%29%3B%0A%0A%20%20%20%20%20%20%20%20%0A%20%20%20%20%20%20%20%20%20%20%20%20var%20html_8142990fe61648f2bc2597a508bd343c%20%3D%20%24%28%60%3Cdiv%20id%3D%22html_8142990fe61648f2bc2597a508bd343c%22%20style%3D%22width%3A%20100.0%25%3B%20height%3A%20100.0%25%3B%22%3E0%20%20%20%20%20%20%20%20%20%20%20Downtown%20Toronto%201%20%20%20%20%20%20%20%20%20%20%20Downtown%20Toronto%202%20%20%20%20%20%20%20%20%20%20%20Downtown%20Toronto%203%20%20%20%20%20%20%20%20%20%20%20%20%20%20%20East%20Toronto%204%20%20%20%20%20%20%20%20%20%20%20Downtown%20Toronto%205%20%20%20%20%20%20%20%20%20%20%20Downtown%20Toronto%206%20%20%20%20%20%20%20%20%20%20%20Downtown%20Toronto%207%20%20%20%20%20%20%20%20%20%20%20Downtown%20Toronto%208%20%20%20%20%20%20%20%20%20%20%20%20%20%20%20West%20Toronto%209%20%20%20%20%20East%20York/East%20Toronto%2010%20%20%20%20%20%20%20%20%20%20Downtown%20Toronto%2011%20%20%20%20%20%20%20%20%20%20%20%20%20%20West%20Toronto%2012%20%20%20%20%20%20%20%20%20%20%20%20%20%20East%20Toronto%2013%20%20%20%20%20%20%20%20%20%20Downtown%20Toronto%2014%20%20%20%20%20%20%20%20%20%20%20%20%20%20West%20Toronto%2015%20%20%20%20%20%20%20%20%20%20%20%20%20%20East%20Toronto%2016%20%20%20%20%20%20%20%20%20%20Downtown%20Toronto%2017%20%20%20%20%20%20%20%20%20%20%20%20%20%20East%20Toronto%2018%20%20%20%20%20%20%20%20%20%20%20Central%20Toronto%2019%20%20%20%20%20%20%20%20%20%20%20Central%20Toronto%2020%20%20%20%20%20%20%20%20%20%20%20Central%20Toronto%2021%20%20%20%20%20%20%20%20%20%20%20Central%20Toronto%2022%20%20%20%20%20%20%20%20%20%20%20%20%20%20West%20Toronto%2023%20%20%20%20%20%20%20%20%20%20%20Central%20Toronto%2024%20%20%20%20%20%20%20%20%20%20%20Central%20Toronto%2025%20%20%20%20%20%20%20%20%20%20%20%20%20%20West%20Toronto%2026%20%20%20%20%20%20%20%20%20%20%20Central%20Toronto%2027%20%20%20%20%20%20%20%20%20%20Downtown%20Toronto%2028%20%20%20%20%20%20%20%20%20%20%20%20%20%20West%20Toronto%2029%20%20%20%20%20%20%20%20%20%20%20Central%20Toronto%2030%20%20%20%20%20%20%20%20%20%20Downtown%20Toronto%2031%20%20%20%20%20%20%20%20%20%20%20Central%20Toronto%2032%20%20%20%20%20%20%20%20%20%20Downtown%20Toronto%2033%20%20%20%20%20%20%20%20%20%20Downtown%20Toronto%2034%20%20%20%20Downtown%20Toronto%20Stn%20A%2035%20%20%20%20%20%20%20%20%20%20Downtown%20Toronto%2036%20%20%20%20%20%20%20%20%20%20Downtown%20Toronto%2037%20%20%20%20%20%20%20%20%20%20Downtown%20Toronto%2038%20%20%20%20%20East%20Toronto%20Business%20Name%3A%20Borough%2C%20dtype%3A%20object%3C/div%3E%60%29%5B0%5D%3B%0A%20%20%20%20%20%20%20%20%20%20%20%20popup_d43e30e7508a49019f02ac91b4dd4869.setContent%28html_8142990fe61648f2bc2597a508bd343c%29%3B%0A%20%20%20%20%20%20%20%20%0A%0A%20%20%20%20%20%20%20%20circle_marker_dadb42b64de84018beb0c775364aa875.bindPopup%28popup_d43e30e7508a49019f02ac91b4dd4869%29%0A%20%20%20%20%20%20%20%20%3B%0A%0A%20%20%20%20%20%20%20%20%0A%20%20%20%20%0A%20%20%20%20%0A%20%20%20%20%20%20%20%20%20%20%20%20var%20circle_marker_8f2fda44fbf84038ac06fa714f12b0ea%20%3D%20L.circleMarker%28%0A%20%20%20%20%20%20%20%20%20%20%20%20%20%20%20%20%5B43.7280205%2C%20-79.3887901%5D%2C%0A%20%20%20%20%20%20%20%20%20%20%20%20%20%20%20%20%7B%22bubblingMouseEvents%22%3A%20true%2C%20%22color%22%3A%20%22blue%22%2C%20%22dashArray%22%3A%20null%2C%20%22dashOffset%22%3A%20null%2C%20%22fill%22%3A%20true%2C%20%22fillColor%22%3A%20%22blue%22%2C%20%22fillOpacity%22%3A%200.4%2C%20%22fillRule%22%3A%20%22evenodd%22%2C%20%22lineCap%22%3A%20%22round%22%2C%20%22lineJoin%22%3A%20%22round%22%2C%20%22opacity%22%3A%201.0%2C%20%22radius%22%3A%205%2C%20%22stroke%22%3A%20true%2C%20%22weight%22%3A%203%7D%0A%20%20%20%20%20%20%20%20%20%20%20%20%29.addTo%28map_8530485182ab4fce80bb58b0080c8971%29%3B%0A%20%20%20%20%20%20%20%20%0A%20%20%20%20%0A%20%20%20%20%20%20%20%20var%20popup_1e837e7834774acea4acd0897e565758%20%3D%20L.popup%28%7B%22maxWidth%22%3A%20%22100%25%22%7D%29%3B%0A%0A%20%20%20%20%20%20%20%20%0A%20%20%20%20%20%20%20%20%20%20%20%20var%20html_75f6017dcdc24600a23ed82a26999ad7%20%3D%20%24%28%60%3Cdiv%20id%3D%22html_75f6017dcdc24600a23ed82a26999ad7%22%20style%3D%22width%3A%20100.0%25%3B%20height%3A%20100.0%25%3B%22%3E0%20%20%20%20%20%20%20%20%20%20%20Downtown%20Toronto%201%20%20%20%20%20%20%20%20%20%20%20Downtown%20Toronto%202%20%20%20%20%20%20%20%20%20%20%20Downtown%20Toronto%203%20%20%20%20%20%20%20%20%20%20%20%20%20%20%20East%20Toronto%204%20%20%20%20%20%20%20%20%20%20%20Downtown%20Toronto%205%20%20%20%20%20%20%20%20%20%20%20Downtown%20Toronto%206%20%20%20%20%20%20%20%20%20%20%20Downtown%20Toronto%207%20%20%20%20%20%20%20%20%20%20%20Downtown%20Toronto%208%20%20%20%20%20%20%20%20%20%20%20%20%20%20%20West%20Toronto%209%20%20%20%20%20East%20York/East%20Toronto%2010%20%20%20%20%20%20%20%20%20%20Downtown%20Toronto%2011%20%20%20%20%20%20%20%20%20%20%20%20%20%20West%20Toronto%2012%20%20%20%20%20%20%20%20%20%20%20%20%20%20East%20Toronto%2013%20%20%20%20%20%20%20%20%20%20Downtown%20Toronto%2014%20%20%20%20%20%20%20%20%20%20%20%20%20%20West%20Toronto%2015%20%20%20%20%20%20%20%20%20%20%20%20%20%20East%20Toronto%2016%20%20%20%20%20%20%20%20%20%20Downtown%20Toronto%2017%20%20%20%20%20%20%20%20%20%20%20%20%20%20East%20Toronto%2018%20%20%20%20%20%20%20%20%20%20%20Central%20Toronto%2019%20%20%20%20%20%20%20%20%20%20%20Central%20Toronto%2020%20%20%20%20%20%20%20%20%20%20%20Central%20Toronto%2021%20%20%20%20%20%20%20%20%20%20%20Central%20Toronto%2022%20%20%20%20%20%20%20%20%20%20%20%20%20%20West%20Toronto%2023%20%20%20%20%20%20%20%20%20%20%20Central%20Toronto%2024%20%20%20%20%20%20%20%20%20%20%20Central%20Toronto%2025%20%20%20%20%20%20%20%20%20%20%20%20%20%20West%20Toronto%2026%20%20%20%20%20%20%20%20%20%20%20Central%20Toronto%2027%20%20%20%20%20%20%20%20%20%20Downtown%20Toronto%2028%20%20%20%20%20%20%20%20%20%20%20%20%20%20West%20Toronto%2029%20%20%20%20%20%20%20%20%20%20%20Central%20Toronto%2030%20%20%20%20%20%20%20%20%20%20Downtown%20Toronto%2031%20%20%20%20%20%20%20%20%20%20%20Central%20Toronto%2032%20%20%20%20%20%20%20%20%20%20Downtown%20Toronto%2033%20%20%20%20%20%20%20%20%20%20Downtown%20Toronto%2034%20%20%20%20Downtown%20Toronto%20Stn%20A%2035%20%20%20%20%20%20%20%20%20%20Downtown%20Toronto%2036%20%20%20%20%20%20%20%20%20%20Downtown%20Toronto%2037%20%20%20%20%20%20%20%20%20%20Downtown%20Toronto%2038%20%20%20%20%20East%20Toronto%20Business%20Name%3A%20Borough%2C%20dtype%3A%20object%3C/div%3E%60%29%5B0%5D%3B%0A%20%20%20%20%20%20%20%20%20%20%20%20popup_1e837e7834774acea4acd0897e565758.setContent%28html_75f6017dcdc24600a23ed82a26999ad7%29%3B%0A%20%20%20%20%20%20%20%20%0A%0A%20%20%20%20%20%20%20%20circle_marker_8f2fda44fbf84038ac06fa714f12b0ea.bindPopup%28popup_1e837e7834774acea4acd0897e565758%29%0A%20%20%20%20%20%20%20%20%3B%0A%0A%20%20%20%20%20%20%20%20%0A%20%20%20%20%0A%20%20%20%20%0A%20%20%20%20%20%20%20%20%20%20%20%20var%20circle_marker_420ddec05ca345e2b5822df8941e4fe6%20%3D%20L.circleMarker%28%0A%20%20%20%20%20%20%20%20%20%20%20%20%20%20%20%20%5B43.7116948%2C%20-79.4169356%5D%2C%0A%20%20%20%20%20%20%20%20%20%20%20%20%20%20%20%20%7B%22bubblingMouseEvents%22%3A%20true%2C%20%22color%22%3A%20%22blue%22%2C%20%22dashArray%22%3A%20null%2C%20%22dashOffset%22%3A%20null%2C%20%22fill%22%3A%20true%2C%20%22fillColor%22%3A%20%22blue%22%2C%20%22fillOpacity%22%3A%200.4%2C%20%22fillRule%22%3A%20%22evenodd%22%2C%20%22lineCap%22%3A%20%22round%22%2C%20%22lineJoin%22%3A%20%22round%22%2C%20%22opacity%22%3A%201.0%2C%20%22radius%22%3A%205%2C%20%22stroke%22%3A%20true%2C%20%22weight%22%3A%203%7D%0A%20%20%20%20%20%20%20%20%20%20%20%20%29.addTo%28map_8530485182ab4fce80bb58b0080c8971%29%3B%0A%20%20%20%20%20%20%20%20%0A%20%20%20%20%0A%20%20%20%20%20%20%20%20var%20popup_ec6b1903a0594bf196af9dcbc43212ad%20%3D%20L.popup%28%7B%22maxWidth%22%3A%20%22100%25%22%7D%29%3B%0A%0A%20%20%20%20%20%20%20%20%0A%20%20%20%20%20%20%20%20%20%20%20%20var%20html_e17c838fa5a4498e935caaafc8a3dd02%20%3D%20%24%28%60%3Cdiv%20id%3D%22html_e17c838fa5a4498e935caaafc8a3dd02%22%20style%3D%22width%3A%20100.0%25%3B%20height%3A%20100.0%25%3B%22%3E0%20%20%20%20%20%20%20%20%20%20%20Downtown%20Toronto%201%20%20%20%20%20%20%20%20%20%20%20Downtown%20Toronto%202%20%20%20%20%20%20%20%20%20%20%20Downtown%20Toronto%203%20%20%20%20%20%20%20%20%20%20%20%20%20%20%20East%20Toronto%204%20%20%20%20%20%20%20%20%20%20%20Downtown%20Toronto%205%20%20%20%20%20%20%20%20%20%20%20Downtown%20Toronto%206%20%20%20%20%20%20%20%20%20%20%20Downtown%20Toronto%207%20%20%20%20%20%20%20%20%20%20%20Downtown%20Toronto%208%20%20%20%20%20%20%20%20%20%20%20%20%20%20%20West%20Toronto%209%20%20%20%20%20East%20York/East%20Toronto%2010%20%20%20%20%20%20%20%20%20%20Downtown%20Toronto%2011%20%20%20%20%20%20%20%20%20%20%20%20%20%20West%20Toronto%2012%20%20%20%20%20%20%20%20%20%20%20%20%20%20East%20Toronto%2013%20%20%20%20%20%20%20%20%20%20Downtown%20Toronto%2014%20%20%20%20%20%20%20%20%20%20%20%20%20%20West%20Toronto%2015%20%20%20%20%20%20%20%20%20%20%20%20%20%20East%20Toronto%2016%20%20%20%20%20%20%20%20%20%20Downtown%20Toronto%2017%20%20%20%20%20%20%20%20%20%20%20%20%20%20East%20Toronto%2018%20%20%20%20%20%20%20%20%20%20%20Central%20Toronto%2019%20%20%20%20%20%20%20%20%20%20%20Central%20Toronto%2020%20%20%20%20%20%20%20%20%20%20%20Central%20Toronto%2021%20%20%20%20%20%20%20%20%20%20%20Central%20Toronto%2022%20%20%20%20%20%20%20%20%20%20%20%20%20%20West%20Toronto%2023%20%20%20%20%20%20%20%20%20%20%20Central%20Toronto%2024%20%20%20%20%20%20%20%20%20%20%20Central%20Toronto%2025%20%20%20%20%20%20%20%20%20%20%20%20%20%20West%20Toronto%2026%20%20%20%20%20%20%20%20%20%20%20Central%20Toronto%2027%20%20%20%20%20%20%20%20%20%20Downtown%20Toronto%2028%20%20%20%20%20%20%20%20%20%20%20%20%20%20West%20Toronto%2029%20%20%20%20%20%20%20%20%20%20%20Central%20Toronto%2030%20%20%20%20%20%20%20%20%20%20Downtown%20Toronto%2031%20%20%20%20%20%20%20%20%20%20%20Central%20Toronto%2032%20%20%20%20%20%20%20%20%20%20Downtown%20Toronto%2033%20%20%20%20%20%20%20%20%20%20Downtown%20Toronto%2034%20%20%20%20Downtown%20Toronto%20Stn%20A%2035%20%20%20%20%20%20%20%20%20%20Downtown%20Toronto%2036%20%20%20%20%20%20%20%20%20%20Downtown%20Toronto%2037%20%20%20%20%20%20%20%20%20%20Downtown%20Toronto%2038%20%20%20%20%20East%20Toronto%20Business%20Name%3A%20Borough%2C%20dtype%3A%20object%3C/div%3E%60%29%5B0%5D%3B%0A%20%20%20%20%20%20%20%20%20%20%20%20popup_ec6b1903a0594bf196af9dcbc43212ad.setContent%28html_e17c838fa5a4498e935caaafc8a3dd02%29%3B%0A%20%20%20%20%20%20%20%20%0A%0A%20%20%20%20%20%20%20%20circle_marker_420ddec05ca345e2b5822df8941e4fe6.bindPopup%28popup_ec6b1903a0594bf196af9dcbc43212ad%29%0A%20%20%20%20%20%20%20%20%3B%0A%0A%20%20%20%20%20%20%20%20%0A%20%20%20%20%0A%20%20%20%20%0A%20%20%20%20%20%20%20%20%20%20%20%20var%20circle_marker_5c73f45690c548f09efcf19b3e0c2654%20%3D%20L.circleMarker%28%0A%20%20%20%20%20%20%20%20%20%20%20%20%20%20%20%20%5B43.7127511%2C%20-79.3901975%5D%2C%0A%20%20%20%20%20%20%20%20%20%20%20%20%20%20%20%20%7B%22bubblingMouseEvents%22%3A%20true%2C%20%22color%22%3A%20%22blue%22%2C%20%22dashArray%22%3A%20null%2C%20%22dashOffset%22%3A%20null%2C%20%22fill%22%3A%20true%2C%20%22fillColor%22%3A%20%22blue%22%2C%20%22fillOpacity%22%3A%200.4%2C%20%22fillRule%22%3A%20%22evenodd%22%2C%20%22lineCap%22%3A%20%22round%22%2C%20%22lineJoin%22%3A%20%22round%22%2C%20%22opacity%22%3A%201.0%2C%20%22radius%22%3A%205%2C%20%22stroke%22%3A%20true%2C%20%22weight%22%3A%203%7D%0A%20%20%20%20%20%20%20%20%20%20%20%20%29.addTo%28map_8530485182ab4fce80bb58b0080c8971%29%3B%0A%20%20%20%20%20%20%20%20%0A%20%20%20%20%0A%20%20%20%20%20%20%20%20var%20popup_09c7d7620f024cd98e8103bcfe03c02f%20%3D%20L.popup%28%7B%22maxWidth%22%3A%20%22100%25%22%7D%29%3B%0A%0A%20%20%20%20%20%20%20%20%0A%20%20%20%20%20%20%20%20%20%20%20%20var%20html_c456dd47821749b59153bcb2099fbaca%20%3D%20%24%28%60%3Cdiv%20id%3D%22html_c456dd47821749b59153bcb2099fbaca%22%20style%3D%22width%3A%20100.0%25%3B%20height%3A%20100.0%25%3B%22%3E0%20%20%20%20%20%20%20%20%20%20%20Downtown%20Toronto%201%20%20%20%20%20%20%20%20%20%20%20Downtown%20Toronto%202%20%20%20%20%20%20%20%20%20%20%20Downtown%20Toronto%203%20%20%20%20%20%20%20%20%20%20%20%20%20%20%20East%20Toronto%204%20%20%20%20%20%20%20%20%20%20%20Downtown%20Toronto%205%20%20%20%20%20%20%20%20%20%20%20Downtown%20Toronto%206%20%20%20%20%20%20%20%20%20%20%20Downtown%20Toronto%207%20%20%20%20%20%20%20%20%20%20%20Downtown%20Toronto%208%20%20%20%20%20%20%20%20%20%20%20%20%20%20%20West%20Toronto%209%20%20%20%20%20East%20York/East%20Toronto%2010%20%20%20%20%20%20%20%20%20%20Downtown%20Toronto%2011%20%20%20%20%20%20%20%20%20%20%20%20%20%20West%20Toronto%2012%20%20%20%20%20%20%20%20%20%20%20%20%20%20East%20Toronto%2013%20%20%20%20%20%20%20%20%20%20Downtown%20Toronto%2014%20%20%20%20%20%20%20%20%20%20%20%20%20%20West%20Toronto%2015%20%20%20%20%20%20%20%20%20%20%20%20%20%20East%20Toronto%2016%20%20%20%20%20%20%20%20%20%20Downtown%20Toronto%2017%20%20%20%20%20%20%20%20%20%20%20%20%20%20East%20Toronto%2018%20%20%20%20%20%20%20%20%20%20%20Central%20Toronto%2019%20%20%20%20%20%20%20%20%20%20%20Central%20Toronto%2020%20%20%20%20%20%20%20%20%20%20%20Central%20Toronto%2021%20%20%20%20%20%20%20%20%20%20%20Central%20Toronto%2022%20%20%20%20%20%20%20%20%20%20%20%20%20%20West%20Toronto%2023%20%20%20%20%20%20%20%20%20%20%20Central%20Toronto%2024%20%20%20%20%20%20%20%20%20%20%20Central%20Toronto%2025%20%20%20%20%20%20%20%20%20%20%20%20%20%20West%20Toronto%2026%20%20%20%20%20%20%20%20%20%20%20Central%20Toronto%2027%20%20%20%20%20%20%20%20%20%20Downtown%20Toronto%2028%20%20%20%20%20%20%20%20%20%20%20%20%20%20West%20Toronto%2029%20%20%20%20%20%20%20%20%20%20%20Central%20Toronto%2030%20%20%20%20%20%20%20%20%20%20Downtown%20Toronto%2031%20%20%20%20%20%20%20%20%20%20%20Central%20Toronto%2032%20%20%20%20%20%20%20%20%20%20Downtown%20Toronto%2033%20%20%20%20%20%20%20%20%20%20Downtown%20Toronto%2034%20%20%20%20Downtown%20Toronto%20Stn%20A%2035%20%20%20%20%20%20%20%20%20%20Downtown%20Toronto%2036%20%20%20%20%20%20%20%20%20%20Downtown%20Toronto%2037%20%20%20%20%20%20%20%20%20%20Downtown%20Toronto%2038%20%20%20%20%20East%20Toronto%20Business%20Name%3A%20Borough%2C%20dtype%3A%20object%3C/div%3E%60%29%5B0%5D%3B%0A%20%20%20%20%20%20%20%20%20%20%20%20popup_09c7d7620f024cd98e8103bcfe03c02f.setContent%28html_c456dd47821749b59153bcb2099fbaca%29%3B%0A%20%20%20%20%20%20%20%20%0A%0A%20%20%20%20%20%20%20%20circle_marker_5c73f45690c548f09efcf19b3e0c2654.bindPopup%28popup_09c7d7620f024cd98e8103bcfe03c02f%29%0A%20%20%20%20%20%20%20%20%3B%0A%0A%20%20%20%20%20%20%20%20%0A%20%20%20%20%0A%20%20%20%20%0A%20%20%20%20%20%20%20%20%20%20%20%20var%20circle_marker_519376737b52469c8cc6e1f8a930f37a%20%3D%20L.circleMarker%28%0A%20%20%20%20%20%20%20%20%20%20%20%20%20%20%20%20%5B43.6969476%2C%20-79.4113072%5D%2C%0A%20%20%20%20%20%20%20%20%20%20%20%20%20%20%20%20%7B%22bubblingMouseEvents%22%3A%20true%2C%20%22color%22%3A%20%22blue%22%2C%20%22dashArray%22%3A%20null%2C%20%22dashOffset%22%3A%20null%2C%20%22fill%22%3A%20true%2C%20%22fillColor%22%3A%20%22blue%22%2C%20%22fillOpacity%22%3A%200.4%2C%20%22fillRule%22%3A%20%22evenodd%22%2C%20%22lineCap%22%3A%20%22round%22%2C%20%22lineJoin%22%3A%20%22round%22%2C%20%22opacity%22%3A%201.0%2C%20%22radius%22%3A%205%2C%20%22stroke%22%3A%20true%2C%20%22weight%22%3A%203%7D%0A%20%20%20%20%20%20%20%20%20%20%20%20%29.addTo%28map_8530485182ab4fce80bb58b0080c8971%29%3B%0A%20%20%20%20%20%20%20%20%0A%20%20%20%20%0A%20%20%20%20%20%20%20%20var%20popup_2e3de7a8ee4b41b29c652a3de195f9db%20%3D%20L.popup%28%7B%22maxWidth%22%3A%20%22100%25%22%7D%29%3B%0A%0A%20%20%20%20%20%20%20%20%0A%20%20%20%20%20%20%20%20%20%20%20%20var%20html_3915c1eb6813411b97c5259dfe7e756f%20%3D%20%24%28%60%3Cdiv%20id%3D%22html_3915c1eb6813411b97c5259dfe7e756f%22%20style%3D%22width%3A%20100.0%25%3B%20height%3A%20100.0%25%3B%22%3E0%20%20%20%20%20%20%20%20%20%20%20Downtown%20Toronto%201%20%20%20%20%20%20%20%20%20%20%20Downtown%20Toronto%202%20%20%20%20%20%20%20%20%20%20%20Downtown%20Toronto%203%20%20%20%20%20%20%20%20%20%20%20%20%20%20%20East%20Toronto%204%20%20%20%20%20%20%20%20%20%20%20Downtown%20Toronto%205%20%20%20%20%20%20%20%20%20%20%20Downtown%20Toronto%206%20%20%20%20%20%20%20%20%20%20%20Downtown%20Toronto%207%20%20%20%20%20%20%20%20%20%20%20Downtown%20Toronto%208%20%20%20%20%20%20%20%20%20%20%20%20%20%20%20West%20Toronto%209%20%20%20%20%20East%20York/East%20Toronto%2010%20%20%20%20%20%20%20%20%20%20Downtown%20Toronto%2011%20%20%20%20%20%20%20%20%20%20%20%20%20%20West%20Toronto%2012%20%20%20%20%20%20%20%20%20%20%20%20%20%20East%20Toronto%2013%20%20%20%20%20%20%20%20%20%20Downtown%20Toronto%2014%20%20%20%20%20%20%20%20%20%20%20%20%20%20West%20Toronto%2015%20%20%20%20%20%20%20%20%20%20%20%20%20%20East%20Toronto%2016%20%20%20%20%20%20%20%20%20%20Downtown%20Toronto%2017%20%20%20%20%20%20%20%20%20%20%20%20%20%20East%20Toronto%2018%20%20%20%20%20%20%20%20%20%20%20Central%20Toronto%2019%20%20%20%20%20%20%20%20%20%20%20Central%20Toronto%2020%20%20%20%20%20%20%20%20%20%20%20Central%20Toronto%2021%20%20%20%20%20%20%20%20%20%20%20Central%20Toronto%2022%20%20%20%20%20%20%20%20%20%20%20%20%20%20West%20Toronto%2023%20%20%20%20%20%20%20%20%20%20%20Central%20Toronto%2024%20%20%20%20%20%20%20%20%20%20%20Central%20Toronto%2025%20%20%20%20%20%20%20%20%20%20%20%20%20%20West%20Toronto%2026%20%20%20%20%20%20%20%20%20%20%20Central%20Toronto%2027%20%20%20%20%20%20%20%20%20%20Downtown%20Toronto%2028%20%20%20%20%20%20%20%20%20%20%20%20%20%20West%20Toronto%2029%20%20%20%20%20%20%20%20%20%20%20Central%20Toronto%2030%20%20%20%20%20%20%20%20%20%20Downtown%20Toronto%2031%20%20%20%20%20%20%20%20%20%20%20Central%20Toronto%2032%20%20%20%20%20%20%20%20%20%20Downtown%20Toronto%2033%20%20%20%20%20%20%20%20%20%20Downtown%20Toronto%2034%20%20%20%20Downtown%20Toronto%20Stn%20A%2035%20%20%20%20%20%20%20%20%20%20Downtown%20Toronto%2036%20%20%20%20%20%20%20%20%20%20Downtown%20Toronto%2037%20%20%20%20%20%20%20%20%20%20Downtown%20Toronto%2038%20%20%20%20%20East%20Toronto%20Business%20Name%3A%20Borough%2C%20dtype%3A%20object%3C/div%3E%60%29%5B0%5D%3B%0A%20%20%20%20%20%20%20%20%20%20%20%20popup_2e3de7a8ee4b41b29c652a3de195f9db.setContent%28html_3915c1eb6813411b97c5259dfe7e756f%29%3B%0A%20%20%20%20%20%20%20%20%0A%0A%20%20%20%20%20%20%20%20circle_marker_519376737b52469c8cc6e1f8a930f37a.bindPopup%28popup_2e3de7a8ee4b41b29c652a3de195f9db%29%0A%20%20%20%20%20%20%20%20%3B%0A%0A%20%20%20%20%20%20%20%20%0A%20%20%20%20%0A%20%20%20%20%0A%20%20%20%20%20%20%20%20%20%20%20%20var%20circle_marker_2171e9f8fa1d4306b7f6db702af07ea9%20%3D%20L.circleMarker%28%0A%20%20%20%20%20%20%20%20%20%20%20%20%20%20%20%20%5B43.6616083%2C%20-79.4647633%5D%2C%0A%20%20%20%20%20%20%20%20%20%20%20%20%20%20%20%20%7B%22bubblingMouseEvents%22%3A%20true%2C%20%22color%22%3A%20%22blue%22%2C%20%22dashArray%22%3A%20null%2C%20%22dashOffset%22%3A%20null%2C%20%22fill%22%3A%20true%2C%20%22fillColor%22%3A%20%22blue%22%2C%20%22fillOpacity%22%3A%200.4%2C%20%22fillRule%22%3A%20%22evenodd%22%2C%20%22lineCap%22%3A%20%22round%22%2C%20%22lineJoin%22%3A%20%22round%22%2C%20%22opacity%22%3A%201.0%2C%20%22radius%22%3A%205%2C%20%22stroke%22%3A%20true%2C%20%22weight%22%3A%203%7D%0A%20%20%20%20%20%20%20%20%20%20%20%20%29.addTo%28map_8530485182ab4fce80bb58b0080c8971%29%3B%0A%20%20%20%20%20%20%20%20%0A%20%20%20%20%0A%20%20%20%20%20%20%20%20var%20popup_b71d7cce226742f89373fa1241f55a95%20%3D%20L.popup%28%7B%22maxWidth%22%3A%20%22100%25%22%7D%29%3B%0A%0A%20%20%20%20%20%20%20%20%0A%20%20%20%20%20%20%20%20%20%20%20%20var%20html_22d1297187fe4e21888e7fd7492c689d%20%3D%20%24%28%60%3Cdiv%20id%3D%22html_22d1297187fe4e21888e7fd7492c689d%22%20style%3D%22width%3A%20100.0%25%3B%20height%3A%20100.0%25%3B%22%3E0%20%20%20%20%20%20%20%20%20%20%20Downtown%20Toronto%201%20%20%20%20%20%20%20%20%20%20%20Downtown%20Toronto%202%20%20%20%20%20%20%20%20%20%20%20Downtown%20Toronto%203%20%20%20%20%20%20%20%20%20%20%20%20%20%20%20East%20Toronto%204%20%20%20%20%20%20%20%20%20%20%20Downtown%20Toronto%205%20%20%20%20%20%20%20%20%20%20%20Downtown%20Toronto%206%20%20%20%20%20%20%20%20%20%20%20Downtown%20Toronto%207%20%20%20%20%20%20%20%20%20%20%20Downtown%20Toronto%208%20%20%20%20%20%20%20%20%20%20%20%20%20%20%20West%20Toronto%209%20%20%20%20%20East%20York/East%20Toronto%2010%20%20%20%20%20%20%20%20%20%20Downtown%20Toronto%2011%20%20%20%20%20%20%20%20%20%20%20%20%20%20West%20Toronto%2012%20%20%20%20%20%20%20%20%20%20%20%20%20%20East%20Toronto%2013%20%20%20%20%20%20%20%20%20%20Downtown%20Toronto%2014%20%20%20%20%20%20%20%20%20%20%20%20%20%20West%20Toronto%2015%20%20%20%20%20%20%20%20%20%20%20%20%20%20East%20Toronto%2016%20%20%20%20%20%20%20%20%20%20Downtown%20Toronto%2017%20%20%20%20%20%20%20%20%20%20%20%20%20%20East%20Toronto%2018%20%20%20%20%20%20%20%20%20%20%20Central%20Toronto%2019%20%20%20%20%20%20%20%20%20%20%20Central%20Toronto%2020%20%20%20%20%20%20%20%20%20%20%20Central%20Toronto%2021%20%20%20%20%20%20%20%20%20%20%20Central%20Toronto%2022%20%20%20%20%20%20%20%20%20%20%20%20%20%20West%20Toronto%2023%20%20%20%20%20%20%20%20%20%20%20Central%20Toronto%2024%20%20%20%20%20%20%20%20%20%20%20Central%20Toronto%2025%20%20%20%20%20%20%20%20%20%20%20%20%20%20West%20Toronto%2026%20%20%20%20%20%20%20%20%20%20%20Central%20Toronto%2027%20%20%20%20%20%20%20%20%20%20Downtown%20Toronto%2028%20%20%20%20%20%20%20%20%20%20%20%20%20%20West%20Toronto%2029%20%20%20%20%20%20%20%20%20%20%20Central%20Toronto%2030%20%20%20%20%20%20%20%20%20%20Downtown%20Toronto%2031%20%20%20%20%20%20%20%20%20%20%20Central%20Toronto%2032%20%20%20%20%20%20%20%20%20%20Downtown%20Toronto%2033%20%20%20%20%20%20%20%20%20%20Downtown%20Toronto%2034%20%20%20%20Downtown%20Toronto%20Stn%20A%2035%20%20%20%20%20%20%20%20%20%20Downtown%20Toronto%2036%20%20%20%20%20%20%20%20%20%20Downtown%20Toronto%2037%20%20%20%20%20%20%20%20%20%20Downtown%20Toronto%2038%20%20%20%20%20East%20Toronto%20Business%20Name%3A%20Borough%2C%20dtype%3A%20object%3C/div%3E%60%29%5B0%5D%3B%0A%20%20%20%20%20%20%20%20%20%20%20%20popup_b71d7cce226742f89373fa1241f55a95.setContent%28html_22d1297187fe4e21888e7fd7492c689d%29%3B%0A%20%20%20%20%20%20%20%20%0A%0A%20%20%20%20%20%20%20%20circle_marker_2171e9f8fa1d4306b7f6db702af07ea9.bindPopup%28popup_b71d7cce226742f89373fa1241f55a95%29%0A%20%20%20%20%20%20%20%20%3B%0A%0A%20%20%20%20%20%20%20%20%0A%20%20%20%20%0A%20%20%20%20%0A%20%20%20%20%20%20%20%20%20%20%20%20var%20circle_marker_070d859d0d834749a779e31494196112%20%3D%20L.circleMarker%28%0A%20%20%20%20%20%20%20%20%20%20%20%20%20%20%20%20%5B43.7153834%2C%20-79.4056784%5D%2C%0A%20%20%20%20%20%20%20%20%20%20%20%20%20%20%20%20%7B%22bubblingMouseEvents%22%3A%20true%2C%20%22color%22%3A%20%22blue%22%2C%20%22dashArray%22%3A%20null%2C%20%22dashOffset%22%3A%20null%2C%20%22fill%22%3A%20true%2C%20%22fillColor%22%3A%20%22blue%22%2C%20%22fillOpacity%22%3A%200.4%2C%20%22fillRule%22%3A%20%22evenodd%22%2C%20%22lineCap%22%3A%20%22round%22%2C%20%22lineJoin%22%3A%20%22round%22%2C%20%22opacity%22%3A%201.0%2C%20%22radius%22%3A%205%2C%20%22stroke%22%3A%20true%2C%20%22weight%22%3A%203%7D%0A%20%20%20%20%20%20%20%20%20%20%20%20%29.addTo%28map_8530485182ab4fce80bb58b0080c8971%29%3B%0A%20%20%20%20%20%20%20%20%0A%20%20%20%20%0A%20%20%20%20%20%20%20%20var%20popup_6055de1ed5294913bd6da265105d96b0%20%3D%20L.popup%28%7B%22maxWidth%22%3A%20%22100%25%22%7D%29%3B%0A%0A%20%20%20%20%20%20%20%20%0A%20%20%20%20%20%20%20%20%20%20%20%20var%20html_da94fccf38a54274a46103683fbe3e52%20%3D%20%24%28%60%3Cdiv%20id%3D%22html_da94fccf38a54274a46103683fbe3e52%22%20style%3D%22width%3A%20100.0%25%3B%20height%3A%20100.0%25%3B%22%3E0%20%20%20%20%20%20%20%20%20%20%20Downtown%20Toronto%201%20%20%20%20%20%20%20%20%20%20%20Downtown%20Toronto%202%20%20%20%20%20%20%20%20%20%20%20Downtown%20Toronto%203%20%20%20%20%20%20%20%20%20%20%20%20%20%20%20East%20Toronto%204%20%20%20%20%20%20%20%20%20%20%20Downtown%20Toronto%205%20%20%20%20%20%20%20%20%20%20%20Downtown%20Toronto%206%20%20%20%20%20%20%20%20%20%20%20Downtown%20Toronto%207%20%20%20%20%20%20%20%20%20%20%20Downtown%20Toronto%208%20%20%20%20%20%20%20%20%20%20%20%20%20%20%20West%20Toronto%209%20%20%20%20%20East%20York/East%20Toronto%2010%20%20%20%20%20%20%20%20%20%20Downtown%20Toronto%2011%20%20%20%20%20%20%20%20%20%20%20%20%20%20West%20Toronto%2012%20%20%20%20%20%20%20%20%20%20%20%20%20%20East%20Toronto%2013%20%20%20%20%20%20%20%20%20%20Downtown%20Toronto%2014%20%20%20%20%20%20%20%20%20%20%20%20%20%20West%20Toronto%2015%20%20%20%20%20%20%20%20%20%20%20%20%20%20East%20Toronto%2016%20%20%20%20%20%20%20%20%20%20Downtown%20Toronto%2017%20%20%20%20%20%20%20%20%20%20%20%20%20%20East%20Toronto%2018%20%20%20%20%20%20%20%20%20%20%20Central%20Toronto%2019%20%20%20%20%20%20%20%20%20%20%20Central%20Toronto%2020%20%20%20%20%20%20%20%20%20%20%20Central%20Toronto%2021%20%20%20%20%20%20%20%20%20%20%20Central%20Toronto%2022%20%20%20%20%20%20%20%20%20%20%20%20%20%20West%20Toronto%2023%20%20%20%20%20%20%20%20%20%20%20Central%20Toronto%2024%20%20%20%20%20%20%20%20%20%20%20Central%20Toronto%2025%20%20%20%20%20%20%20%20%20%20%20%20%20%20West%20Toronto%2026%20%20%20%20%20%20%20%20%20%20%20Central%20Toronto%2027%20%20%20%20%20%20%20%20%20%20Downtown%20Toronto%2028%20%20%20%20%20%20%20%20%20%20%20%20%20%20West%20Toronto%2029%20%20%20%20%20%20%20%20%20%20%20Central%20Toronto%2030%20%20%20%20%20%20%20%20%20%20Downtown%20Toronto%2031%20%20%20%20%20%20%20%20%20%20%20Central%20Toronto%2032%20%20%20%20%20%20%20%20%20%20Downtown%20Toronto%2033%20%20%20%20%20%20%20%20%20%20Downtown%20Toronto%2034%20%20%20%20Downtown%20Toronto%20Stn%20A%2035%20%20%20%20%20%20%20%20%20%20Downtown%20Toronto%2036%20%20%20%20%20%20%20%20%20%20Downtown%20Toronto%2037%20%20%20%20%20%20%20%20%20%20Downtown%20Toronto%2038%20%20%20%20%20East%20Toronto%20Business%20Name%3A%20Borough%2C%20dtype%3A%20object%3C/div%3E%60%29%5B0%5D%3B%0A%20%20%20%20%20%20%20%20%20%20%20%20popup_6055de1ed5294913bd6da265105d96b0.setContent%28html_da94fccf38a54274a46103683fbe3e52%29%3B%0A%20%20%20%20%20%20%20%20%0A%0A%20%20%20%20%20%20%20%20circle_marker_070d859d0d834749a779e31494196112.bindPopup%28popup_6055de1ed5294913bd6da265105d96b0%29%0A%20%20%20%20%20%20%20%20%3B%0A%0A%20%20%20%20%20%20%20%20%0A%20%20%20%20%0A%20%20%20%20%0A%20%20%20%20%20%20%20%20%20%20%20%20var%20circle_marker_3f13608cc4e84204853f272ec8b3597c%20%3D%20L.circleMarker%28%0A%20%20%20%20%20%20%20%20%20%20%20%20%20%20%20%20%5B43.6727097%2C%20-79.4056784%5D%2C%0A%20%20%20%20%20%20%20%20%20%20%20%20%20%20%20%20%7B%22bubblingMouseEvents%22%3A%20true%2C%20%22color%22%3A%20%22blue%22%2C%20%22dashArray%22%3A%20null%2C%20%22dashOffset%22%3A%20null%2C%20%22fill%22%3A%20true%2C%20%22fillColor%22%3A%20%22blue%22%2C%20%22fillOpacity%22%3A%200.4%2C%20%22fillRule%22%3A%20%22evenodd%22%2C%20%22lineCap%22%3A%20%22round%22%2C%20%22lineJoin%22%3A%20%22round%22%2C%20%22opacity%22%3A%201.0%2C%20%22radius%22%3A%205%2C%20%22stroke%22%3A%20true%2C%20%22weight%22%3A%203%7D%0A%20%20%20%20%20%20%20%20%20%20%20%20%29.addTo%28map_8530485182ab4fce80bb58b0080c8971%29%3B%0A%20%20%20%20%20%20%20%20%0A%20%20%20%20%0A%20%20%20%20%20%20%20%20var%20popup_45344c69a4eb4c89a43ab0a93ddf55e4%20%3D%20L.popup%28%7B%22maxWidth%22%3A%20%22100%25%22%7D%29%3B%0A%0A%20%20%20%20%20%20%20%20%0A%20%20%20%20%20%20%20%20%20%20%20%20var%20html_b6d866ee57d24f43afa214a6123fbe46%20%3D%20%24%28%60%3Cdiv%20id%3D%22html_b6d866ee57d24f43afa214a6123fbe46%22%20style%3D%22width%3A%20100.0%25%3B%20height%3A%20100.0%25%3B%22%3E0%20%20%20%20%20%20%20%20%20%20%20Downtown%20Toronto%201%20%20%20%20%20%20%20%20%20%20%20Downtown%20Toronto%202%20%20%20%20%20%20%20%20%20%20%20Downtown%20Toronto%203%20%20%20%20%20%20%20%20%20%20%20%20%20%20%20East%20Toronto%204%20%20%20%20%20%20%20%20%20%20%20Downtown%20Toronto%205%20%20%20%20%20%20%20%20%20%20%20Downtown%20Toronto%206%20%20%20%20%20%20%20%20%20%20%20Downtown%20Toronto%207%20%20%20%20%20%20%20%20%20%20%20Downtown%20Toronto%208%20%20%20%20%20%20%20%20%20%20%20%20%20%20%20West%20Toronto%209%20%20%20%20%20East%20York/East%20Toronto%2010%20%20%20%20%20%20%20%20%20%20Downtown%20Toronto%2011%20%20%20%20%20%20%20%20%20%20%20%20%20%20West%20Toronto%2012%20%20%20%20%20%20%20%20%20%20%20%20%20%20East%20Toronto%2013%20%20%20%20%20%20%20%20%20%20Downtown%20Toronto%2014%20%20%20%20%20%20%20%20%20%20%20%20%20%20West%20Toronto%2015%20%20%20%20%20%20%20%20%20%20%20%20%20%20East%20Toronto%2016%20%20%20%20%20%20%20%20%20%20Downtown%20Toronto%2017%20%20%20%20%20%20%20%20%20%20%20%20%20%20East%20Toronto%2018%20%20%20%20%20%20%20%20%20%20%20Central%20Toronto%2019%20%20%20%20%20%20%20%20%20%20%20Central%20Toronto%2020%20%20%20%20%20%20%20%20%20%20%20Central%20Toronto%2021%20%20%20%20%20%20%20%20%20%20%20Central%20Toronto%2022%20%20%20%20%20%20%20%20%20%20%20%20%20%20West%20Toronto%2023%20%20%20%20%20%20%20%20%20%20%20Central%20Toronto%2024%20%20%20%20%20%20%20%20%20%20%20Central%20Toronto%2025%20%20%20%20%20%20%20%20%20%20%20%20%20%20West%20Toronto%2026%20%20%20%20%20%20%20%20%20%20%20Central%20Toronto%2027%20%20%20%20%20%20%20%20%20%20Downtown%20Toronto%2028%20%20%20%20%20%20%20%20%20%20%20%20%20%20West%20Toronto%2029%20%20%20%20%20%20%20%20%20%20%20Central%20Toronto%2030%20%20%20%20%20%20%20%20%20%20Downtown%20Toronto%2031%20%20%20%20%20%20%20%20%20%20%20Central%20Toronto%2032%20%20%20%20%20%20%20%20%20%20Downtown%20Toronto%2033%20%20%20%20%20%20%20%20%20%20Downtown%20Toronto%2034%20%20%20%20Downtown%20Toronto%20Stn%20A%2035%20%20%20%20%20%20%20%20%20%20Downtown%20Toronto%2036%20%20%20%20%20%20%20%20%20%20Downtown%20Toronto%2037%20%20%20%20%20%20%20%20%20%20Downtown%20Toronto%2038%20%20%20%20%20East%20Toronto%20Business%20Name%3A%20Borough%2C%20dtype%3A%20object%3C/div%3E%60%29%5B0%5D%3B%0A%20%20%20%20%20%20%20%20%20%20%20%20popup_45344c69a4eb4c89a43ab0a93ddf55e4.setContent%28html_b6d866ee57d24f43afa214a6123fbe46%29%3B%0A%20%20%20%20%20%20%20%20%0A%0A%20%20%20%20%20%20%20%20circle_marker_3f13608cc4e84204853f272ec8b3597c.bindPopup%28popup_45344c69a4eb4c89a43ab0a93ddf55e4%29%0A%20%20%20%20%20%20%20%20%3B%0A%0A%20%20%20%20%20%20%20%20%0A%20%20%20%20%0A%20%20%20%20%0A%20%20%20%20%20%20%20%20%20%20%20%20var%20circle_marker_8a95d6d923ce4a94b1f6be87c9127b1a%20%3D%20L.circleMarker%28%0A%20%20%20%20%20%20%20%20%20%20%20%20%20%20%20%20%5B43.6489597%2C%20-79.456325%5D%2C%0A%20%20%20%20%20%20%20%20%20%20%20%20%20%20%20%20%7B%22bubblingMouseEvents%22%3A%20true%2C%20%22color%22%3A%20%22blue%22%2C%20%22dashArray%22%3A%20null%2C%20%22dashOffset%22%3A%20null%2C%20%22fill%22%3A%20true%2C%20%22fillColor%22%3A%20%22blue%22%2C%20%22fillOpacity%22%3A%200.4%2C%20%22fillRule%22%3A%20%22evenodd%22%2C%20%22lineCap%22%3A%20%22round%22%2C%20%22lineJoin%22%3A%20%22round%22%2C%20%22opacity%22%3A%201.0%2C%20%22radius%22%3A%205%2C%20%22stroke%22%3A%20true%2C%20%22weight%22%3A%203%7D%0A%20%20%20%20%20%20%20%20%20%20%20%20%29.addTo%28map_8530485182ab4fce80bb58b0080c8971%29%3B%0A%20%20%20%20%20%20%20%20%0A%20%20%20%20%0A%20%20%20%20%20%20%20%20var%20popup_c81f2b18b2de47edb6e51c768c3b9eab%20%3D%20L.popup%28%7B%22maxWidth%22%3A%20%22100%25%22%7D%29%3B%0A%0A%20%20%20%20%20%20%20%20%0A%20%20%20%20%20%20%20%20%20%20%20%20var%20html_bdfc2676f7564f3b809819e713d02554%20%3D%20%24%28%60%3Cdiv%20id%3D%22html_bdfc2676f7564f3b809819e713d02554%22%20style%3D%22width%3A%20100.0%25%3B%20height%3A%20100.0%25%3B%22%3E0%20%20%20%20%20%20%20%20%20%20%20Downtown%20Toronto%201%20%20%20%20%20%20%20%20%20%20%20Downtown%20Toronto%202%20%20%20%20%20%20%20%20%20%20%20Downtown%20Toronto%203%20%20%20%20%20%20%20%20%20%20%20%20%20%20%20East%20Toronto%204%20%20%20%20%20%20%20%20%20%20%20Downtown%20Toronto%205%20%20%20%20%20%20%20%20%20%20%20Downtown%20Toronto%206%20%20%20%20%20%20%20%20%20%20%20Downtown%20Toronto%207%20%20%20%20%20%20%20%20%20%20%20Downtown%20Toronto%208%20%20%20%20%20%20%20%20%20%20%20%20%20%20%20West%20Toronto%209%20%20%20%20%20East%20York/East%20Toronto%2010%20%20%20%20%20%20%20%20%20%20Downtown%20Toronto%2011%20%20%20%20%20%20%20%20%20%20%20%20%20%20West%20Toronto%2012%20%20%20%20%20%20%20%20%20%20%20%20%20%20East%20Toronto%2013%20%20%20%20%20%20%20%20%20%20Downtown%20Toronto%2014%20%20%20%20%20%20%20%20%20%20%20%20%20%20West%20Toronto%2015%20%20%20%20%20%20%20%20%20%20%20%20%20%20East%20Toronto%2016%20%20%20%20%20%20%20%20%20%20Downtown%20Toronto%2017%20%20%20%20%20%20%20%20%20%20%20%20%20%20East%20Toronto%2018%20%20%20%20%20%20%20%20%20%20%20Central%20Toronto%2019%20%20%20%20%20%20%20%20%20%20%20Central%20Toronto%2020%20%20%20%20%20%20%20%20%20%20%20Central%20Toronto%2021%20%20%20%20%20%20%20%20%20%20%20Central%20Toronto%2022%20%20%20%20%20%20%20%20%20%20%20%20%20%20West%20Toronto%2023%20%20%20%20%20%20%20%20%20%20%20Central%20Toronto%2024%20%20%20%20%20%20%20%20%20%20%20Central%20Toronto%2025%20%20%20%20%20%20%20%20%20%20%20%20%20%20West%20Toronto%2026%20%20%20%20%20%20%20%20%20%20%20Central%20Toronto%2027%20%20%20%20%20%20%20%20%20%20Downtown%20Toronto%2028%20%20%20%20%20%20%20%20%20%20%20%20%20%20West%20Toronto%2029%20%20%20%20%20%20%20%20%20%20%20Central%20Toronto%2030%20%20%20%20%20%20%20%20%20%20Downtown%20Toronto%2031%20%20%20%20%20%20%20%20%20%20%20Central%20Toronto%2032%20%20%20%20%20%20%20%20%20%20Downtown%20Toronto%2033%20%20%20%20%20%20%20%20%20%20Downtown%20Toronto%2034%20%20%20%20Downtown%20Toronto%20Stn%20A%2035%20%20%20%20%20%20%20%20%20%20Downtown%20Toronto%2036%20%20%20%20%20%20%20%20%20%20Downtown%20Toronto%2037%20%20%20%20%20%20%20%20%20%20Downtown%20Toronto%2038%20%20%20%20%20East%20Toronto%20Business%20Name%3A%20Borough%2C%20dtype%3A%20object%3C/div%3E%60%29%5B0%5D%3B%0A%20%20%20%20%20%20%20%20%20%20%20%20popup_c81f2b18b2de47edb6e51c768c3b9eab.setContent%28html_bdfc2676f7564f3b809819e713d02554%29%3B%0A%20%20%20%20%20%20%20%20%0A%0A%20%20%20%20%20%20%20%20circle_marker_8a95d6d923ce4a94b1f6be87c9127b1a.bindPopup%28popup_c81f2b18b2de47edb6e51c768c3b9eab%29%0A%20%20%20%20%20%20%20%20%3B%0A%0A%20%20%20%20%20%20%20%20%0A%20%20%20%20%0A%20%20%20%20%0A%20%20%20%20%20%20%20%20%20%20%20%20var%20circle_marker_d67378c8d402464f965fcfb9ffab24a4%20%3D%20L.circleMarker%28%0A%20%20%20%20%20%20%20%20%20%20%20%20%20%20%20%20%5B43.7043244%2C%20-79.3887901%5D%2C%0A%20%20%20%20%20%20%20%20%20%20%20%20%20%20%20%20%7B%22bubblingMouseEvents%22%3A%20true%2C%20%22color%22%3A%20%22blue%22%2C%20%22dashArray%22%3A%20null%2C%20%22dashOffset%22%3A%20null%2C%20%22fill%22%3A%20true%2C%20%22fillColor%22%3A%20%22blue%22%2C%20%22fillOpacity%22%3A%200.4%2C%20%22fillRule%22%3A%20%22evenodd%22%2C%20%22lineCap%22%3A%20%22round%22%2C%20%22lineJoin%22%3A%20%22round%22%2C%20%22opacity%22%3A%201.0%2C%20%22radius%22%3A%205%2C%20%22stroke%22%3A%20true%2C%20%22weight%22%3A%203%7D%0A%20%20%20%20%20%20%20%20%20%20%20%20%29.addTo%28map_8530485182ab4fce80bb58b0080c8971%29%3B%0A%20%20%20%20%20%20%20%20%0A%20%20%20%20%0A%20%20%20%20%20%20%20%20var%20popup_82bd60b05c7e40f4912737ec4a3cb168%20%3D%20L.popup%28%7B%22maxWidth%22%3A%20%22100%25%22%7D%29%3B%0A%0A%20%20%20%20%20%20%20%20%0A%20%20%20%20%20%20%20%20%20%20%20%20var%20html_d13c881286ce4e3cb1b540be27c28a98%20%3D%20%24%28%60%3Cdiv%20id%3D%22html_d13c881286ce4e3cb1b540be27c28a98%22%20style%3D%22width%3A%20100.0%25%3B%20height%3A%20100.0%25%3B%22%3E0%20%20%20%20%20%20%20%20%20%20%20Downtown%20Toronto%201%20%20%20%20%20%20%20%20%20%20%20Downtown%20Toronto%202%20%20%20%20%20%20%20%20%20%20%20Downtown%20Toronto%203%20%20%20%20%20%20%20%20%20%20%20%20%20%20%20East%20Toronto%204%20%20%20%20%20%20%20%20%20%20%20Downtown%20Toronto%205%20%20%20%20%20%20%20%20%20%20%20Downtown%20Toronto%206%20%20%20%20%20%20%20%20%20%20%20Downtown%20Toronto%207%20%20%20%20%20%20%20%20%20%20%20Downtown%20Toronto%208%20%20%20%20%20%20%20%20%20%20%20%20%20%20%20West%20Toronto%209%20%20%20%20%20East%20York/East%20Toronto%2010%20%20%20%20%20%20%20%20%20%20Downtown%20Toronto%2011%20%20%20%20%20%20%20%20%20%20%20%20%20%20West%20Toronto%2012%20%20%20%20%20%20%20%20%20%20%20%20%20%20East%20Toronto%2013%20%20%20%20%20%20%20%20%20%20Downtown%20Toronto%2014%20%20%20%20%20%20%20%20%20%20%20%20%20%20West%20Toronto%2015%20%20%20%20%20%20%20%20%20%20%20%20%20%20East%20Toronto%2016%20%20%20%20%20%20%20%20%20%20Downtown%20Toronto%2017%20%20%20%20%20%20%20%20%20%20%20%20%20%20East%20Toronto%2018%20%20%20%20%20%20%20%20%20%20%20Central%20Toronto%2019%20%20%20%20%20%20%20%20%20%20%20Central%20Toronto%2020%20%20%20%20%20%20%20%20%20%20%20Central%20Toronto%2021%20%20%20%20%20%20%20%20%20%20%20Central%20Toronto%2022%20%20%20%20%20%20%20%20%20%20%20%20%20%20West%20Toronto%2023%20%20%20%20%20%20%20%20%20%20%20Central%20Toronto%2024%20%20%20%20%20%20%20%20%20%20%20Central%20Toronto%2025%20%20%20%20%20%20%20%20%20%20%20%20%20%20West%20Toronto%2026%20%20%20%20%20%20%20%20%20%20%20Central%20Toronto%2027%20%20%20%20%20%20%20%20%20%20Downtown%20Toronto%2028%20%20%20%20%20%20%20%20%20%20%20%20%20%20West%20Toronto%2029%20%20%20%20%20%20%20%20%20%20%20Central%20Toronto%2030%20%20%20%20%20%20%20%20%20%20Downtown%20Toronto%2031%20%20%20%20%20%20%20%20%20%20%20Central%20Toronto%2032%20%20%20%20%20%20%20%20%20%20Downtown%20Toronto%2033%20%20%20%20%20%20%20%20%20%20Downtown%20Toronto%2034%20%20%20%20Downtown%20Toronto%20Stn%20A%2035%20%20%20%20%20%20%20%20%20%20Downtown%20Toronto%2036%20%20%20%20%20%20%20%20%20%20Downtown%20Toronto%2037%20%20%20%20%20%20%20%20%20%20Downtown%20Toronto%2038%20%20%20%20%20East%20Toronto%20Business%20Name%3A%20Borough%2C%20dtype%3A%20object%3C/div%3E%60%29%5B0%5D%3B%0A%20%20%20%20%20%20%20%20%20%20%20%20popup_82bd60b05c7e40f4912737ec4a3cb168.setContent%28html_d13c881286ce4e3cb1b540be27c28a98%29%3B%0A%20%20%20%20%20%20%20%20%0A%0A%20%20%20%20%20%20%20%20circle_marker_d67378c8d402464f965fcfb9ffab24a4.bindPopup%28popup_82bd60b05c7e40f4912737ec4a3cb168%29%0A%20%20%20%20%20%20%20%20%3B%0A%0A%20%20%20%20%20%20%20%20%0A%20%20%20%20%0A%20%20%20%20%0A%20%20%20%20%20%20%20%20%20%20%20%20var%20circle_marker_7722131c8c804887bbce262ccf7e6ada%20%3D%20L.circleMarker%28%0A%20%20%20%20%20%20%20%20%20%20%20%20%20%20%20%20%5B43.6626956%2C%20-79.4000493%5D%2C%0A%20%20%20%20%20%20%20%20%20%20%20%20%20%20%20%20%7B%22bubblingMouseEvents%22%3A%20true%2C%20%22color%22%3A%20%22blue%22%2C%20%22dashArray%22%3A%20null%2C%20%22dashOffset%22%3A%20null%2C%20%22fill%22%3A%20true%2C%20%22fillColor%22%3A%20%22blue%22%2C%20%22fillOpacity%22%3A%200.4%2C%20%22fillRule%22%3A%20%22evenodd%22%2C%20%22lineCap%22%3A%20%22round%22%2C%20%22lineJoin%22%3A%20%22round%22%2C%20%22opacity%22%3A%201.0%2C%20%22radius%22%3A%205%2C%20%22stroke%22%3A%20true%2C%20%22weight%22%3A%203%7D%0A%20%20%20%20%20%20%20%20%20%20%20%20%29.addTo%28map_8530485182ab4fce80bb58b0080c8971%29%3B%0A%20%20%20%20%20%20%20%20%0A%20%20%20%20%0A%20%20%20%20%20%20%20%20var%20popup_1ccf97a8938e4a96ae6816d24b030a4c%20%3D%20L.popup%28%7B%22maxWidth%22%3A%20%22100%25%22%7D%29%3B%0A%0A%20%20%20%20%20%20%20%20%0A%20%20%20%20%20%20%20%20%20%20%20%20var%20html_07aac5eeef044edcbcf3c87a6d601928%20%3D%20%24%28%60%3Cdiv%20id%3D%22html_07aac5eeef044edcbcf3c87a6d601928%22%20style%3D%22width%3A%20100.0%25%3B%20height%3A%20100.0%25%3B%22%3E0%20%20%20%20%20%20%20%20%20%20%20Downtown%20Toronto%201%20%20%20%20%20%20%20%20%20%20%20Downtown%20Toronto%202%20%20%20%20%20%20%20%20%20%20%20Downtown%20Toronto%203%20%20%20%20%20%20%20%20%20%20%20%20%20%20%20East%20Toronto%204%20%20%20%20%20%20%20%20%20%20%20Downtown%20Toronto%205%20%20%20%20%20%20%20%20%20%20%20Downtown%20Toronto%206%20%20%20%20%20%20%20%20%20%20%20Downtown%20Toronto%207%20%20%20%20%20%20%20%20%20%20%20Downtown%20Toronto%208%20%20%20%20%20%20%20%20%20%20%20%20%20%20%20West%20Toronto%209%20%20%20%20%20East%20York/East%20Toronto%2010%20%20%20%20%20%20%20%20%20%20Downtown%20Toronto%2011%20%20%20%20%20%20%20%20%20%20%20%20%20%20West%20Toronto%2012%20%20%20%20%20%20%20%20%20%20%20%20%20%20East%20Toronto%2013%20%20%20%20%20%20%20%20%20%20Downtown%20Toronto%2014%20%20%20%20%20%20%20%20%20%20%20%20%20%20West%20Toronto%2015%20%20%20%20%20%20%20%20%20%20%20%20%20%20East%20Toronto%2016%20%20%20%20%20%20%20%20%20%20Downtown%20Toronto%2017%20%20%20%20%20%20%20%20%20%20%20%20%20%20East%20Toronto%2018%20%20%20%20%20%20%20%20%20%20%20Central%20Toronto%2019%20%20%20%20%20%20%20%20%20%20%20Central%20Toronto%2020%20%20%20%20%20%20%20%20%20%20%20Central%20Toronto%2021%20%20%20%20%20%20%20%20%20%20%20Central%20Toronto%2022%20%20%20%20%20%20%20%20%20%20%20%20%20%20West%20Toronto%2023%20%20%20%20%20%20%20%20%20%20%20Central%20Toronto%2024%20%20%20%20%20%20%20%20%20%20%20Central%20Toronto%2025%20%20%20%20%20%20%20%20%20%20%20%20%20%20West%20Toronto%2026%20%20%20%20%20%20%20%20%20%20%20Central%20Toronto%2027%20%20%20%20%20%20%20%20%20%20Downtown%20Toronto%2028%20%20%20%20%20%20%20%20%20%20%20%20%20%20West%20Toronto%2029%20%20%20%20%20%20%20%20%20%20%20Central%20Toronto%2030%20%20%20%20%20%20%20%20%20%20Downtown%20Toronto%2031%20%20%20%20%20%20%20%20%20%20%20Central%20Toronto%2032%20%20%20%20%20%20%20%20%20%20Downtown%20Toronto%2033%20%20%20%20%20%20%20%20%20%20Downtown%20Toronto%2034%20%20%20%20Downtown%20Toronto%20Stn%20A%2035%20%20%20%20%20%20%20%20%20%20Downtown%20Toronto%2036%20%20%20%20%20%20%20%20%20%20Downtown%20Toronto%2037%20%20%20%20%20%20%20%20%20%20Downtown%20Toronto%2038%20%20%20%20%20East%20Toronto%20Business%20Name%3A%20Borough%2C%20dtype%3A%20object%3C/div%3E%60%29%5B0%5D%3B%0A%20%20%20%20%20%20%20%20%20%20%20%20popup_1ccf97a8938e4a96ae6816d24b030a4c.setContent%28html_07aac5eeef044edcbcf3c87a6d601928%29%3B%0A%20%20%20%20%20%20%20%20%0A%0A%20%20%20%20%20%20%20%20circle_marker_7722131c8c804887bbce262ccf7e6ada.bindPopup%28popup_1ccf97a8938e4a96ae6816d24b030a4c%29%0A%20%20%20%20%20%20%20%20%3B%0A%0A%20%20%20%20%20%20%20%20%0A%20%20%20%20%0A%20%20%20%20%0A%20%20%20%20%20%20%20%20%20%20%20%20var%20circle_marker_6a8a9651b67c4e398f318b129c091cec%20%3D%20L.circleMarker%28%0A%20%20%20%20%20%20%20%20%20%20%20%20%20%20%20%20%5B43.6515706%2C%20-79.4844499%5D%2C%0A%20%20%20%20%20%20%20%20%20%20%20%20%20%20%20%20%7B%22bubblingMouseEvents%22%3A%20true%2C%20%22color%22%3A%20%22blue%22%2C%20%22dashArray%22%3A%20null%2C%20%22dashOffset%22%3A%20null%2C%20%22fill%22%3A%20true%2C%20%22fillColor%22%3A%20%22blue%22%2C%20%22fillOpacity%22%3A%200.4%2C%20%22fillRule%22%3A%20%22evenodd%22%2C%20%22lineCap%22%3A%20%22round%22%2C%20%22lineJoin%22%3A%20%22round%22%2C%20%22opacity%22%3A%201.0%2C%20%22radius%22%3A%205%2C%20%22stroke%22%3A%20true%2C%20%22weight%22%3A%203%7D%0A%20%20%20%20%20%20%20%20%20%20%20%20%29.addTo%28map_8530485182ab4fce80bb58b0080c8971%29%3B%0A%20%20%20%20%20%20%20%20%0A%20%20%20%20%0A%20%20%20%20%20%20%20%20var%20popup_6182a2e3ec0041ba8d2252cbfe01fe55%20%3D%20L.popup%28%7B%22maxWidth%22%3A%20%22100%25%22%7D%29%3B%0A%0A%20%20%20%20%20%20%20%20%0A%20%20%20%20%20%20%20%20%20%20%20%20var%20html_806abc051cf34fdca96152b9f6dcf669%20%3D%20%24%28%60%3Cdiv%20id%3D%22html_806abc051cf34fdca96152b9f6dcf669%22%20style%3D%22width%3A%20100.0%25%3B%20height%3A%20100.0%25%3B%22%3E0%20%20%20%20%20%20%20%20%20%20%20Downtown%20Toronto%201%20%20%20%20%20%20%20%20%20%20%20Downtown%20Toronto%202%20%20%20%20%20%20%20%20%20%20%20Downtown%20Toronto%203%20%20%20%20%20%20%20%20%20%20%20%20%20%20%20East%20Toronto%204%20%20%20%20%20%20%20%20%20%20%20Downtown%20Toronto%205%20%20%20%20%20%20%20%20%20%20%20Downtown%20Toronto%206%20%20%20%20%20%20%20%20%20%20%20Downtown%20Toronto%207%20%20%20%20%20%20%20%20%20%20%20Downtown%20Toronto%208%20%20%20%20%20%20%20%20%20%20%20%20%20%20%20West%20Toronto%209%20%20%20%20%20East%20York/East%20Toronto%2010%20%20%20%20%20%20%20%20%20%20Downtown%20Toronto%2011%20%20%20%20%20%20%20%20%20%20%20%20%20%20West%20Toronto%2012%20%20%20%20%20%20%20%20%20%20%20%20%20%20East%20Toronto%2013%20%20%20%20%20%20%20%20%20%20Downtown%20Toronto%2014%20%20%20%20%20%20%20%20%20%20%20%20%20%20West%20Toronto%2015%20%20%20%20%20%20%20%20%20%20%20%20%20%20East%20Toronto%2016%20%20%20%20%20%20%20%20%20%20Downtown%20Toronto%2017%20%20%20%20%20%20%20%20%20%20%20%20%20%20East%20Toronto%2018%20%20%20%20%20%20%20%20%20%20%20Central%20Toronto%2019%20%20%20%20%20%20%20%20%20%20%20Central%20Toronto%2020%20%20%20%20%20%20%20%20%20%20%20Central%20Toronto%2021%20%20%20%20%20%20%20%20%20%20%20Central%20Toronto%2022%20%20%20%20%20%20%20%20%20%20%20%20%20%20West%20Toronto%2023%20%20%20%20%20%20%20%20%20%20%20Central%20Toronto%2024%20%20%20%20%20%20%20%20%20%20%20Central%20Toronto%2025%20%20%20%20%20%20%20%20%20%20%20%20%20%20West%20Toronto%2026%20%20%20%20%20%20%20%20%20%20%20Central%20Toronto%2027%20%20%20%20%20%20%20%20%20%20Downtown%20Toronto%2028%20%20%20%20%20%20%20%20%20%20%20%20%20%20West%20Toronto%2029%20%20%20%20%20%20%20%20%20%20%20Central%20Toronto%2030%20%20%20%20%20%20%20%20%20%20Downtown%20Toronto%2031%20%20%20%20%20%20%20%20%20%20%20Central%20Toronto%2032%20%20%20%20%20%20%20%20%20%20Downtown%20Toronto%2033%20%20%20%20%20%20%20%20%20%20Downtown%20Toronto%2034%20%20%20%20Downtown%20Toronto%20Stn%20A%2035%20%20%20%20%20%20%20%20%20%20Downtown%20Toronto%2036%20%20%20%20%20%20%20%20%20%20Downtown%20Toronto%2037%20%20%20%20%20%20%20%20%20%20Downtown%20Toronto%2038%20%20%20%20%20East%20Toronto%20Business%20Name%3A%20Borough%2C%20dtype%3A%20object%3C/div%3E%60%29%5B0%5D%3B%0A%20%20%20%20%20%20%20%20%20%20%20%20popup_6182a2e3ec0041ba8d2252cbfe01fe55.setContent%28html_806abc051cf34fdca96152b9f6dcf669%29%3B%0A%20%20%20%20%20%20%20%20%0A%0A%20%20%20%20%20%20%20%20circle_marker_6a8a9651b67c4e398f318b129c091cec.bindPopup%28popup_6182a2e3ec0041ba8d2252cbfe01fe55%29%0A%20%20%20%20%20%20%20%20%3B%0A%0A%20%20%20%20%20%20%20%20%0A%20%20%20%20%0A%20%20%20%20%0A%20%20%20%20%20%20%20%20%20%20%20%20var%20circle_marker_6004fd1a108e492cb163bc76c8c05ac1%20%3D%20L.circleMarker%28%0A%20%20%20%20%20%20%20%20%20%20%20%20%20%20%20%20%5B43.6895743%2C%20-79.3831599%5D%2C%0A%20%20%20%20%20%20%20%20%20%20%20%20%20%20%20%20%7B%22bubblingMouseEvents%22%3A%20true%2C%20%22color%22%3A%20%22blue%22%2C%20%22dashArray%22%3A%20null%2C%20%22dashOffset%22%3A%20null%2C%20%22fill%22%3A%20true%2C%20%22fillColor%22%3A%20%22blue%22%2C%20%22fillOpacity%22%3A%200.4%2C%20%22fillRule%22%3A%20%22evenodd%22%2C%20%22lineCap%22%3A%20%22round%22%2C%20%22lineJoin%22%3A%20%22round%22%2C%20%22opacity%22%3A%201.0%2C%20%22radius%22%3A%205%2C%20%22stroke%22%3A%20true%2C%20%22weight%22%3A%203%7D%0A%20%20%20%20%20%20%20%20%20%20%20%20%29.addTo%28map_8530485182ab4fce80bb58b0080c8971%29%3B%0A%20%20%20%20%20%20%20%20%0A%20%20%20%20%0A%20%20%20%20%20%20%20%20var%20popup_50b5c9b0d20b4ac89ebff71c0085b05c%20%3D%20L.popup%28%7B%22maxWidth%22%3A%20%22100%25%22%7D%29%3B%0A%0A%20%20%20%20%20%20%20%20%0A%20%20%20%20%20%20%20%20%20%20%20%20var%20html_5fe0657b6b984f889fce43f52fe251e3%20%3D%20%24%28%60%3Cdiv%20id%3D%22html_5fe0657b6b984f889fce43f52fe251e3%22%20style%3D%22width%3A%20100.0%25%3B%20height%3A%20100.0%25%3B%22%3E0%20%20%20%20%20%20%20%20%20%20%20Downtown%20Toronto%201%20%20%20%20%20%20%20%20%20%20%20Downtown%20Toronto%202%20%20%20%20%20%20%20%20%20%20%20Downtown%20Toronto%203%20%20%20%20%20%20%20%20%20%20%20%20%20%20%20East%20Toronto%204%20%20%20%20%20%20%20%20%20%20%20Downtown%20Toronto%205%20%20%20%20%20%20%20%20%20%20%20Downtown%20Toronto%206%20%20%20%20%20%20%20%20%20%20%20Downtown%20Toronto%207%20%20%20%20%20%20%20%20%20%20%20Downtown%20Toronto%208%20%20%20%20%20%20%20%20%20%20%20%20%20%20%20West%20Toronto%209%20%20%20%20%20East%20York/East%20Toronto%2010%20%20%20%20%20%20%20%20%20%20Downtown%20Toronto%2011%20%20%20%20%20%20%20%20%20%20%20%20%20%20West%20Toronto%2012%20%20%20%20%20%20%20%20%20%20%20%20%20%20East%20Toronto%2013%20%20%20%20%20%20%20%20%20%20Downtown%20Toronto%2014%20%20%20%20%20%20%20%20%20%20%20%20%20%20West%20Toronto%2015%20%20%20%20%20%20%20%20%20%20%20%20%20%20East%20Toronto%2016%20%20%20%20%20%20%20%20%20%20Downtown%20Toronto%2017%20%20%20%20%20%20%20%20%20%20%20%20%20%20East%20Toronto%2018%20%20%20%20%20%20%20%20%20%20%20Central%20Toronto%2019%20%20%20%20%20%20%20%20%20%20%20Central%20Toronto%2020%20%20%20%20%20%20%20%20%20%20%20Central%20Toronto%2021%20%20%20%20%20%20%20%20%20%20%20Central%20Toronto%2022%20%20%20%20%20%20%20%20%20%20%20%20%20%20West%20Toronto%2023%20%20%20%20%20%20%20%20%20%20%20Central%20Toronto%2024%20%20%20%20%20%20%20%20%20%20%20Central%20Toronto%2025%20%20%20%20%20%20%20%20%20%20%20%20%20%20West%20Toronto%2026%20%20%20%20%20%20%20%20%20%20%20Central%20Toronto%2027%20%20%20%20%20%20%20%20%20%20Downtown%20Toronto%2028%20%20%20%20%20%20%20%20%20%20%20%20%20%20West%20Toronto%2029%20%20%20%20%20%20%20%20%20%20%20Central%20Toronto%2030%20%20%20%20%20%20%20%20%20%20Downtown%20Toronto%2031%20%20%20%20%20%20%20%20%20%20%20Central%20Toronto%2032%20%20%20%20%20%20%20%20%20%20Downtown%20Toronto%2033%20%20%20%20%20%20%20%20%20%20Downtown%20Toronto%2034%20%20%20%20Downtown%20Toronto%20Stn%20A%2035%20%20%20%20%20%20%20%20%20%20Downtown%20Toronto%2036%20%20%20%20%20%20%20%20%20%20Downtown%20Toronto%2037%20%20%20%20%20%20%20%20%20%20Downtown%20Toronto%2038%20%20%20%20%20East%20Toronto%20Business%20Name%3A%20Borough%2C%20dtype%3A%20object%3C/div%3E%60%29%5B0%5D%3B%0A%20%20%20%20%20%20%20%20%20%20%20%20popup_50b5c9b0d20b4ac89ebff71c0085b05c.setContent%28html_5fe0657b6b984f889fce43f52fe251e3%29%3B%0A%20%20%20%20%20%20%20%20%0A%0A%20%20%20%20%20%20%20%20circle_marker_6004fd1a108e492cb163bc76c8c05ac1.bindPopup%28popup_50b5c9b0d20b4ac89ebff71c0085b05c%29%0A%20%20%20%20%20%20%20%20%3B%0A%0A%20%20%20%20%20%20%20%20%0A%20%20%20%20%0A%20%20%20%20%0A%20%20%20%20%20%20%20%20%20%20%20%20var%20circle_marker_150fac3fa20a4692ad0ced554d7285bd%20%3D%20L.circleMarker%28%0A%20%20%20%20%20%20%20%20%20%20%20%20%20%20%20%20%5B43.6532057%2C%20-79.4000493%5D%2C%0A%20%20%20%20%20%20%20%20%20%20%20%20%20%20%20%20%7B%22bubblingMouseEvents%22%3A%20true%2C%20%22color%22%3A%20%22blue%22%2C%20%22dashArray%22%3A%20null%2C%20%22dashOffset%22%3A%20null%2C%20%22fill%22%3A%20true%2C%20%22fillColor%22%3A%20%22blue%22%2C%20%22fillOpacity%22%3A%200.4%2C%20%22fillRule%22%3A%20%22evenodd%22%2C%20%22lineCap%22%3A%20%22round%22%2C%20%22lineJoin%22%3A%20%22round%22%2C%20%22opacity%22%3A%201.0%2C%20%22radius%22%3A%205%2C%20%22stroke%22%3A%20true%2C%20%22weight%22%3A%203%7D%0A%20%20%20%20%20%20%20%20%20%20%20%20%29.addTo%28map_8530485182ab4fce80bb58b0080c8971%29%3B%0A%20%20%20%20%20%20%20%20%0A%20%20%20%20%0A%20%20%20%20%20%20%20%20var%20popup_15df71ea809846a6b3253c2bd5582f16%20%3D%20L.popup%28%7B%22maxWidth%22%3A%20%22100%25%22%7D%29%3B%0A%0A%20%20%20%20%20%20%20%20%0A%20%20%20%20%20%20%20%20%20%20%20%20var%20html_5a935bcaa2a145f0a6a2508fcfc68dcd%20%3D%20%24%28%60%3Cdiv%20id%3D%22html_5a935bcaa2a145f0a6a2508fcfc68dcd%22%20style%3D%22width%3A%20100.0%25%3B%20height%3A%20100.0%25%3B%22%3E0%20%20%20%20%20%20%20%20%20%20%20Downtown%20Toronto%201%20%20%20%20%20%20%20%20%20%20%20Downtown%20Toronto%202%20%20%20%20%20%20%20%20%20%20%20Downtown%20Toronto%203%20%20%20%20%20%20%20%20%20%20%20%20%20%20%20East%20Toronto%204%20%20%20%20%20%20%20%20%20%20%20Downtown%20Toronto%205%20%20%20%20%20%20%20%20%20%20%20Downtown%20Toronto%206%20%20%20%20%20%20%20%20%20%20%20Downtown%20Toronto%207%20%20%20%20%20%20%20%20%20%20%20Downtown%20Toronto%208%20%20%20%20%20%20%20%20%20%20%20%20%20%20%20West%20Toronto%209%20%20%20%20%20East%20York/East%20Toronto%2010%20%20%20%20%20%20%20%20%20%20Downtown%20Toronto%2011%20%20%20%20%20%20%20%20%20%20%20%20%20%20West%20Toronto%2012%20%20%20%20%20%20%20%20%20%20%20%20%20%20East%20Toronto%2013%20%20%20%20%20%20%20%20%20%20Downtown%20Toronto%2014%20%20%20%20%20%20%20%20%20%20%20%20%20%20West%20Toronto%2015%20%20%20%20%20%20%20%20%20%20%20%20%20%20East%20Toronto%2016%20%20%20%20%20%20%20%20%20%20Downtown%20Toronto%2017%20%20%20%20%20%20%20%20%20%20%20%20%20%20East%20Toronto%2018%20%20%20%20%20%20%20%20%20%20%20Central%20Toronto%2019%20%20%20%20%20%20%20%20%20%20%20Central%20Toronto%2020%20%20%20%20%20%20%20%20%20%20%20Central%20Toronto%2021%20%20%20%20%20%20%20%20%20%20%20Central%20Toronto%2022%20%20%20%20%20%20%20%20%20%20%20%20%20%20West%20Toronto%2023%20%20%20%20%20%20%20%20%20%20%20Central%20Toronto%2024%20%20%20%20%20%20%20%20%20%20%20Central%20Toronto%2025%20%20%20%20%20%20%20%20%20%20%20%20%20%20West%20Toronto%2026%20%20%20%20%20%20%20%20%20%20%20Central%20Toronto%2027%20%20%20%20%20%20%20%20%20%20Downtown%20Toronto%2028%20%20%20%20%20%20%20%20%20%20%20%20%20%20West%20Toronto%2029%20%20%20%20%20%20%20%20%20%20%20Central%20Toronto%2030%20%20%20%20%20%20%20%20%20%20Downtown%20Toronto%2031%20%20%20%20%20%20%20%20%20%20%20Central%20Toronto%2032%20%20%20%20%20%20%20%20%20%20Downtown%20Toronto%2033%20%20%20%20%20%20%20%20%20%20Downtown%20Toronto%2034%20%20%20%20Downtown%20Toronto%20Stn%20A%2035%20%20%20%20%20%20%20%20%20%20Downtown%20Toronto%2036%20%20%20%20%20%20%20%20%20%20Downtown%20Toronto%2037%20%20%20%20%20%20%20%20%20%20Downtown%20Toronto%2038%20%20%20%20%20East%20Toronto%20Business%20Name%3A%20Borough%2C%20dtype%3A%20object%3C/div%3E%60%29%5B0%5D%3B%0A%20%20%20%20%20%20%20%20%20%20%20%20popup_15df71ea809846a6b3253c2bd5582f16.setContent%28html_5a935bcaa2a145f0a6a2508fcfc68dcd%29%3B%0A%20%20%20%20%20%20%20%20%0A%0A%20%20%20%20%20%20%20%20circle_marker_150fac3fa20a4692ad0ced554d7285bd.bindPopup%28popup_15df71ea809846a6b3253c2bd5582f16%29%0A%20%20%20%20%20%20%20%20%3B%0A%0A%20%20%20%20%20%20%20%20%0A%20%20%20%20%0A%20%20%20%20%0A%20%20%20%20%20%20%20%20%20%20%20%20var%20circle_marker_03c96a8a06114e86a09cb38b7e25936f%20%3D%20L.circleMarker%28%0A%20%20%20%20%20%20%20%20%20%20%20%20%20%20%20%20%5B43.6864123%2C%20-79.4000493%5D%2C%0A%20%20%20%20%20%20%20%20%20%20%20%20%20%20%20%20%7B%22bubblingMouseEvents%22%3A%20true%2C%20%22color%22%3A%20%22blue%22%2C%20%22dashArray%22%3A%20null%2C%20%22dashOffset%22%3A%20null%2C%20%22fill%22%3A%20true%2C%20%22fillColor%22%3A%20%22blue%22%2C%20%22fillOpacity%22%3A%200.4%2C%20%22fillRule%22%3A%20%22evenodd%22%2C%20%22lineCap%22%3A%20%22round%22%2C%20%22lineJoin%22%3A%20%22round%22%2C%20%22opacity%22%3A%201.0%2C%20%22radius%22%3A%205%2C%20%22stroke%22%3A%20true%2C%20%22weight%22%3A%203%7D%0A%20%20%20%20%20%20%20%20%20%20%20%20%29.addTo%28map_8530485182ab4fce80bb58b0080c8971%29%3B%0A%20%20%20%20%20%20%20%20%0A%20%20%20%20%0A%20%20%20%20%20%20%20%20var%20popup_6510fac32d4b4351aa9075e841a0154a%20%3D%20L.popup%28%7B%22maxWidth%22%3A%20%22100%25%22%7D%29%3B%0A%0A%20%20%20%20%20%20%20%20%0A%20%20%20%20%20%20%20%20%20%20%20%20var%20html_fbac495d67704b79a23685e124c64ee4%20%3D%20%24%28%60%3Cdiv%20id%3D%22html_fbac495d67704b79a23685e124c64ee4%22%20style%3D%22width%3A%20100.0%25%3B%20height%3A%20100.0%25%3B%22%3E0%20%20%20%20%20%20%20%20%20%20%20Downtown%20Toronto%201%20%20%20%20%20%20%20%20%20%20%20Downtown%20Toronto%202%20%20%20%20%20%20%20%20%20%20%20Downtown%20Toronto%203%20%20%20%20%20%20%20%20%20%20%20%20%20%20%20East%20Toronto%204%20%20%20%20%20%20%20%20%20%20%20Downtown%20Toronto%205%20%20%20%20%20%20%20%20%20%20%20Downtown%20Toronto%206%20%20%20%20%20%20%20%20%20%20%20Downtown%20Toronto%207%20%20%20%20%20%20%20%20%20%20%20Downtown%20Toronto%208%20%20%20%20%20%20%20%20%20%20%20%20%20%20%20West%20Toronto%209%20%20%20%20%20East%20York/East%20Toronto%2010%20%20%20%20%20%20%20%20%20%20Downtown%20Toronto%2011%20%20%20%20%20%20%20%20%20%20%20%20%20%20West%20Toronto%2012%20%20%20%20%20%20%20%20%20%20%20%20%20%20East%20Toronto%2013%20%20%20%20%20%20%20%20%20%20Downtown%20Toronto%2014%20%20%20%20%20%20%20%20%20%20%20%20%20%20West%20Toronto%2015%20%20%20%20%20%20%20%20%20%20%20%20%20%20East%20Toronto%2016%20%20%20%20%20%20%20%20%20%20Downtown%20Toronto%2017%20%20%20%20%20%20%20%20%20%20%20%20%20%20East%20Toronto%2018%20%20%20%20%20%20%20%20%20%20%20Central%20Toronto%2019%20%20%20%20%20%20%20%20%20%20%20Central%20Toronto%2020%20%20%20%20%20%20%20%20%20%20%20Central%20Toronto%2021%20%20%20%20%20%20%20%20%20%20%20Central%20Toronto%2022%20%20%20%20%20%20%20%20%20%20%20%20%20%20West%20Toronto%2023%20%20%20%20%20%20%20%20%20%20%20Central%20Toronto%2024%20%20%20%20%20%20%20%20%20%20%20Central%20Toronto%2025%20%20%20%20%20%20%20%20%20%20%20%20%20%20West%20Toronto%2026%20%20%20%20%20%20%20%20%20%20%20Central%20Toronto%2027%20%20%20%20%20%20%20%20%20%20Downtown%20Toronto%2028%20%20%20%20%20%20%20%20%20%20%20%20%20%20West%20Toronto%2029%20%20%20%20%20%20%20%20%20%20%20Central%20Toronto%2030%20%20%20%20%20%20%20%20%20%20Downtown%20Toronto%2031%20%20%20%20%20%20%20%20%20%20%20Central%20Toronto%2032%20%20%20%20%20%20%20%20%20%20Downtown%20Toronto%2033%20%20%20%20%20%20%20%20%20%20Downtown%20Toronto%2034%20%20%20%20Downtown%20Toronto%20Stn%20A%2035%20%20%20%20%20%20%20%20%20%20Downtown%20Toronto%2036%20%20%20%20%20%20%20%20%20%20Downtown%20Toronto%2037%20%20%20%20%20%20%20%20%20%20Downtown%20Toronto%2038%20%20%20%20%20East%20Toronto%20Business%20Name%3A%20Borough%2C%20dtype%3A%20object%3C/div%3E%60%29%5B0%5D%3B%0A%20%20%20%20%20%20%20%20%20%20%20%20popup_6510fac32d4b4351aa9075e841a0154a.setContent%28html_fbac495d67704b79a23685e124c64ee4%29%3B%0A%20%20%20%20%20%20%20%20%0A%0A%20%20%20%20%20%20%20%20circle_marker_03c96a8a06114e86a09cb38b7e25936f.bindPopup%28popup_6510fac32d4b4351aa9075e841a0154a%29%0A%20%20%20%20%20%20%20%20%3B%0A%0A%20%20%20%20%20%20%20%20%0A%20%20%20%20%0A%20%20%20%20%0A%20%20%20%20%20%20%20%20%20%20%20%20var%20circle_marker_05e078de7cbd4c30bdbb001ef69e1e35%20%3D%20L.circleMarker%28%0A%20%20%20%20%20%20%20%20%20%20%20%20%20%20%20%20%5B43.6289467%2C%20-79.3944199%5D%2C%0A%20%20%20%20%20%20%20%20%20%20%20%20%20%20%20%20%7B%22bubblingMouseEvents%22%3A%20true%2C%20%22color%22%3A%20%22blue%22%2C%20%22dashArray%22%3A%20null%2C%20%22dashOffset%22%3A%20null%2C%20%22fill%22%3A%20true%2C%20%22fillColor%22%3A%20%22blue%22%2C%20%22fillOpacity%22%3A%200.4%2C%20%22fillRule%22%3A%20%22evenodd%22%2C%20%22lineCap%22%3A%20%22round%22%2C%20%22lineJoin%22%3A%20%22round%22%2C%20%22opacity%22%3A%201.0%2C%20%22radius%22%3A%205%2C%20%22stroke%22%3A%20true%2C%20%22weight%22%3A%203%7D%0A%20%20%20%20%20%20%20%20%20%20%20%20%29.addTo%28map_8530485182ab4fce80bb58b0080c8971%29%3B%0A%20%20%20%20%20%20%20%20%0A%20%20%20%20%0A%20%20%20%20%20%20%20%20var%20popup_e29a56b9c25b4cf29d2eca55f4a07676%20%3D%20L.popup%28%7B%22maxWidth%22%3A%20%22100%25%22%7D%29%3B%0A%0A%20%20%20%20%20%20%20%20%0A%20%20%20%20%20%20%20%20%20%20%20%20var%20html_a61685ad0a0347c4aee88a836b9f2446%20%3D%20%24%28%60%3Cdiv%20id%3D%22html_a61685ad0a0347c4aee88a836b9f2446%22%20style%3D%22width%3A%20100.0%25%3B%20height%3A%20100.0%25%3B%22%3E0%20%20%20%20%20%20%20%20%20%20%20Downtown%20Toronto%201%20%20%20%20%20%20%20%20%20%20%20Downtown%20Toronto%202%20%20%20%20%20%20%20%20%20%20%20Downtown%20Toronto%203%20%20%20%20%20%20%20%20%20%20%20%20%20%20%20East%20Toronto%204%20%20%20%20%20%20%20%20%20%20%20Downtown%20Toronto%205%20%20%20%20%20%20%20%20%20%20%20Downtown%20Toronto%206%20%20%20%20%20%20%20%20%20%20%20Downtown%20Toronto%207%20%20%20%20%20%20%20%20%20%20%20Downtown%20Toronto%208%20%20%20%20%20%20%20%20%20%20%20%20%20%20%20West%20Toronto%209%20%20%20%20%20East%20York/East%20Toronto%2010%20%20%20%20%20%20%20%20%20%20Downtown%20Toronto%2011%20%20%20%20%20%20%20%20%20%20%20%20%20%20West%20Toronto%2012%20%20%20%20%20%20%20%20%20%20%20%20%20%20East%20Toronto%2013%20%20%20%20%20%20%20%20%20%20Downtown%20Toronto%2014%20%20%20%20%20%20%20%20%20%20%20%20%20%20West%20Toronto%2015%20%20%20%20%20%20%20%20%20%20%20%20%20%20East%20Toronto%2016%20%20%20%20%20%20%20%20%20%20Downtown%20Toronto%2017%20%20%20%20%20%20%20%20%20%20%20%20%20%20East%20Toronto%2018%20%20%20%20%20%20%20%20%20%20%20Central%20Toronto%2019%20%20%20%20%20%20%20%20%20%20%20Central%20Toronto%2020%20%20%20%20%20%20%20%20%20%20%20Central%20Toronto%2021%20%20%20%20%20%20%20%20%20%20%20Central%20Toronto%2022%20%20%20%20%20%20%20%20%20%20%20%20%20%20West%20Toronto%2023%20%20%20%20%20%20%20%20%20%20%20Central%20Toronto%2024%20%20%20%20%20%20%20%20%20%20%20Central%20Toronto%2025%20%20%20%20%20%20%20%20%20%20%20%20%20%20West%20Toronto%2026%20%20%20%20%20%20%20%20%20%20%20Central%20Toronto%2027%20%20%20%20%20%20%20%20%20%20Downtown%20Toronto%2028%20%20%20%20%20%20%20%20%20%20%20%20%20%20West%20Toronto%2029%20%20%20%20%20%20%20%20%20%20%20Central%20Toronto%2030%20%20%20%20%20%20%20%20%20%20Downtown%20Toronto%2031%20%20%20%20%20%20%20%20%20%20%20Central%20Toronto%2032%20%20%20%20%20%20%20%20%20%20Downtown%20Toronto%2033%20%20%20%20%20%20%20%20%20%20Downtown%20Toronto%2034%20%20%20%20Downtown%20Toronto%20Stn%20A%2035%20%20%20%20%20%20%20%20%20%20Downtown%20Toronto%2036%20%20%20%20%20%20%20%20%20%20Downtown%20Toronto%2037%20%20%20%20%20%20%20%20%20%20Downtown%20Toronto%2038%20%20%20%20%20East%20Toronto%20Business%20Name%3A%20Borough%2C%20dtype%3A%20object%3C/div%3E%60%29%5B0%5D%3B%0A%20%20%20%20%20%20%20%20%20%20%20%20popup_e29a56b9c25b4cf29d2eca55f4a07676.setContent%28html_a61685ad0a0347c4aee88a836b9f2446%29%3B%0A%20%20%20%20%20%20%20%20%0A%0A%20%20%20%20%20%20%20%20circle_marker_05e078de7cbd4c30bdbb001ef69e1e35.bindPopup%28popup_e29a56b9c25b4cf29d2eca55f4a07676%29%0A%20%20%20%20%20%20%20%20%3B%0A%0A%20%20%20%20%20%20%20%20%0A%20%20%20%20%0A%20%20%20%20%0A%20%20%20%20%20%20%20%20%20%20%20%20var%20circle_marker_377d9b00d67f4b8a919dd0764c48d5ce%20%3D%20L.circleMarker%28%0A%20%20%20%20%20%20%20%20%20%20%20%20%20%20%20%20%5B43.6795626%2C%20-79.3775294%5D%2C%0A%20%20%20%20%20%20%20%20%20%20%20%20%20%20%20%20%7B%22bubblingMouseEvents%22%3A%20true%2C%20%22color%22%3A%20%22blue%22%2C%20%22dashArray%22%3A%20null%2C%20%22dashOffset%22%3A%20null%2C%20%22fill%22%3A%20true%2C%20%22fillColor%22%3A%20%22blue%22%2C%20%22fillOpacity%22%3A%200.4%2C%20%22fillRule%22%3A%20%22evenodd%22%2C%20%22lineCap%22%3A%20%22round%22%2C%20%22lineJoin%22%3A%20%22round%22%2C%20%22opacity%22%3A%201.0%2C%20%22radius%22%3A%205%2C%20%22stroke%22%3A%20true%2C%20%22weight%22%3A%203%7D%0A%20%20%20%20%20%20%20%20%20%20%20%20%29.addTo%28map_8530485182ab4fce80bb58b0080c8971%29%3B%0A%20%20%20%20%20%20%20%20%0A%20%20%20%20%0A%20%20%20%20%20%20%20%20var%20popup_8cdd3335f3c746d6a21d763df850c28d%20%3D%20L.popup%28%7B%22maxWidth%22%3A%20%22100%25%22%7D%29%3B%0A%0A%20%20%20%20%20%20%20%20%0A%20%20%20%20%20%20%20%20%20%20%20%20var%20html_0981f41f7ce84de4a8eaf6076b8ffa4a%20%3D%20%24%28%60%3Cdiv%20id%3D%22html_0981f41f7ce84de4a8eaf6076b8ffa4a%22%20style%3D%22width%3A%20100.0%25%3B%20height%3A%20100.0%25%3B%22%3E0%20%20%20%20%20%20%20%20%20%20%20Downtown%20Toronto%201%20%20%20%20%20%20%20%20%20%20%20Downtown%20Toronto%202%20%20%20%20%20%20%20%20%20%20%20Downtown%20Toronto%203%20%20%20%20%20%20%20%20%20%20%20%20%20%20%20East%20Toronto%204%20%20%20%20%20%20%20%20%20%20%20Downtown%20Toronto%205%20%20%20%20%20%20%20%20%20%20%20Downtown%20Toronto%206%20%20%20%20%20%20%20%20%20%20%20Downtown%20Toronto%207%20%20%20%20%20%20%20%20%20%20%20Downtown%20Toronto%208%20%20%20%20%20%20%20%20%20%20%20%20%20%20%20West%20Toronto%209%20%20%20%20%20East%20York/East%20Toronto%2010%20%20%20%20%20%20%20%20%20%20Downtown%20Toronto%2011%20%20%20%20%20%20%20%20%20%20%20%20%20%20West%20Toronto%2012%20%20%20%20%20%20%20%20%20%20%20%20%20%20East%20Toronto%2013%20%20%20%20%20%20%20%20%20%20Downtown%20Toronto%2014%20%20%20%20%20%20%20%20%20%20%20%20%20%20West%20Toronto%2015%20%20%20%20%20%20%20%20%20%20%20%20%20%20East%20Toronto%2016%20%20%20%20%20%20%20%20%20%20Downtown%20Toronto%2017%20%20%20%20%20%20%20%20%20%20%20%20%20%20East%20Toronto%2018%20%20%20%20%20%20%20%20%20%20%20Central%20Toronto%2019%20%20%20%20%20%20%20%20%20%20%20Central%20Toronto%2020%20%20%20%20%20%20%20%20%20%20%20Central%20Toronto%2021%20%20%20%20%20%20%20%20%20%20%20Central%20Toronto%2022%20%20%20%20%20%20%20%20%20%20%20%20%20%20West%20Toronto%2023%20%20%20%20%20%20%20%20%20%20%20Central%20Toronto%2024%20%20%20%20%20%20%20%20%20%20%20Central%20Toronto%2025%20%20%20%20%20%20%20%20%20%20%20%20%20%20West%20Toronto%2026%20%20%20%20%20%20%20%20%20%20%20Central%20Toronto%2027%20%20%20%20%20%20%20%20%20%20Downtown%20Toronto%2028%20%20%20%20%20%20%20%20%20%20%20%20%20%20West%20Toronto%2029%20%20%20%20%20%20%20%20%20%20%20Central%20Toronto%2030%20%20%20%20%20%20%20%20%20%20Downtown%20Toronto%2031%20%20%20%20%20%20%20%20%20%20%20Central%20Toronto%2032%20%20%20%20%20%20%20%20%20%20Downtown%20Toronto%2033%20%20%20%20%20%20%20%20%20%20Downtown%20Toronto%2034%20%20%20%20Downtown%20Toronto%20Stn%20A%2035%20%20%20%20%20%20%20%20%20%20Downtown%20Toronto%2036%20%20%20%20%20%20%20%20%20%20Downtown%20Toronto%2037%20%20%20%20%20%20%20%20%20%20Downtown%20Toronto%2038%20%20%20%20%20East%20Toronto%20Business%20Name%3A%20Borough%2C%20dtype%3A%20object%3C/div%3E%60%29%5B0%5D%3B%0A%20%20%20%20%20%20%20%20%20%20%20%20popup_8cdd3335f3c746d6a21d763df850c28d.setContent%28html_0981f41f7ce84de4a8eaf6076b8ffa4a%29%3B%0A%20%20%20%20%20%20%20%20%0A%0A%20%20%20%20%20%20%20%20circle_marker_377d9b00d67f4b8a919dd0764c48d5ce.bindPopup%28popup_8cdd3335f3c746d6a21d763df850c28d%29%0A%20%20%20%20%20%20%20%20%3B%0A%0A%20%20%20%20%20%20%20%20%0A%20%20%20%20%0A%20%20%20%20%0A%20%20%20%20%20%20%20%20%20%20%20%20var%20circle_marker_0e83bbd5273144d9b3e744aa522ea84a%20%3D%20L.circleMarker%28%0A%20%20%20%20%20%20%20%20%20%20%20%20%20%20%20%20%5B43.6464352%2C%20-79.374846%5D%2C%0A%20%20%20%20%20%20%20%20%20%20%20%20%20%20%20%20%7B%22bubblingMouseEvents%22%3A%20true%2C%20%22color%22%3A%20%22blue%22%2C%20%22dashArray%22%3A%20null%2C%20%22dashOffset%22%3A%20null%2C%20%22fill%22%3A%20true%2C%20%22fillColor%22%3A%20%22blue%22%2C%20%22fillOpacity%22%3A%200.4%2C%20%22fillRule%22%3A%20%22evenodd%22%2C%20%22lineCap%22%3A%20%22round%22%2C%20%22lineJoin%22%3A%20%22round%22%2C%20%22opacity%22%3A%201.0%2C%20%22radius%22%3A%205%2C%20%22stroke%22%3A%20true%2C%20%22weight%22%3A%203%7D%0A%20%20%20%20%20%20%20%20%20%20%20%20%29.addTo%28map_8530485182ab4fce80bb58b0080c8971%29%3B%0A%20%20%20%20%20%20%20%20%0A%20%20%20%20%0A%20%20%20%20%20%20%20%20var%20popup_a44c22601c5e404e8c3c1174161e238d%20%3D%20L.popup%28%7B%22maxWidth%22%3A%20%22100%25%22%7D%29%3B%0A%0A%20%20%20%20%20%20%20%20%0A%20%20%20%20%20%20%20%20%20%20%20%20var%20html_b1cbd463dbea4b2d86fa94e5ce577879%20%3D%20%24%28%60%3Cdiv%20id%3D%22html_b1cbd463dbea4b2d86fa94e5ce577879%22%20style%3D%22width%3A%20100.0%25%3B%20height%3A%20100.0%25%3B%22%3E0%20%20%20%20%20%20%20%20%20%20%20Downtown%20Toronto%201%20%20%20%20%20%20%20%20%20%20%20Downtown%20Toronto%202%20%20%20%20%20%20%20%20%20%20%20Downtown%20Toronto%203%20%20%20%20%20%20%20%20%20%20%20%20%20%20%20East%20Toronto%204%20%20%20%20%20%20%20%20%20%20%20Downtown%20Toronto%205%20%20%20%20%20%20%20%20%20%20%20Downtown%20Toronto%206%20%20%20%20%20%20%20%20%20%20%20Downtown%20Toronto%207%20%20%20%20%20%20%20%20%20%20%20Downtown%20Toronto%208%20%20%20%20%20%20%20%20%20%20%20%20%20%20%20West%20Toronto%209%20%20%20%20%20East%20York/East%20Toronto%2010%20%20%20%20%20%20%20%20%20%20Downtown%20Toronto%2011%20%20%20%20%20%20%20%20%20%20%20%20%20%20West%20Toronto%2012%20%20%20%20%20%20%20%20%20%20%20%20%20%20East%20Toronto%2013%20%20%20%20%20%20%20%20%20%20Downtown%20Toronto%2014%20%20%20%20%20%20%20%20%20%20%20%20%20%20West%20Toronto%2015%20%20%20%20%20%20%20%20%20%20%20%20%20%20East%20Toronto%2016%20%20%20%20%20%20%20%20%20%20Downtown%20Toronto%2017%20%20%20%20%20%20%20%20%20%20%20%20%20%20East%20Toronto%2018%20%20%20%20%20%20%20%20%20%20%20Central%20Toronto%2019%20%20%20%20%20%20%20%20%20%20%20Central%20Toronto%2020%20%20%20%20%20%20%20%20%20%20%20Central%20Toronto%2021%20%20%20%20%20%20%20%20%20%20%20Central%20Toronto%2022%20%20%20%20%20%20%20%20%20%20%20%20%20%20West%20Toronto%2023%20%20%20%20%20%20%20%20%20%20%20Central%20Toronto%2024%20%20%20%20%20%20%20%20%20%20%20Central%20Toronto%2025%20%20%20%20%20%20%20%20%20%20%20%20%20%20West%20Toronto%2026%20%20%20%20%20%20%20%20%20%20%20Central%20Toronto%2027%20%20%20%20%20%20%20%20%20%20Downtown%20Toronto%2028%20%20%20%20%20%20%20%20%20%20%20%20%20%20West%20Toronto%2029%20%20%20%20%20%20%20%20%20%20%20Central%20Toronto%2030%20%20%20%20%20%20%20%20%20%20Downtown%20Toronto%2031%20%20%20%20%20%20%20%20%20%20%20Central%20Toronto%2032%20%20%20%20%20%20%20%20%20%20Downtown%20Toronto%2033%20%20%20%20%20%20%20%20%20%20Downtown%20Toronto%2034%20%20%20%20Downtown%20Toronto%20Stn%20A%2035%20%20%20%20%20%20%20%20%20%20Downtown%20Toronto%2036%20%20%20%20%20%20%20%20%20%20Downtown%20Toronto%2037%20%20%20%20%20%20%20%20%20%20Downtown%20Toronto%2038%20%20%20%20%20East%20Toronto%20Business%20Name%3A%20Borough%2C%20dtype%3A%20object%3C/div%3E%60%29%5B0%5D%3B%0A%20%20%20%20%20%20%20%20%20%20%20%20popup_a44c22601c5e404e8c3c1174161e238d.setContent%28html_b1cbd463dbea4b2d86fa94e5ce577879%29%3B%0A%20%20%20%20%20%20%20%20%0A%0A%20%20%20%20%20%20%20%20circle_marker_0e83bbd5273144d9b3e744aa522ea84a.bindPopup%28popup_a44c22601c5e404e8c3c1174161e238d%29%0A%20%20%20%20%20%20%20%20%3B%0A%0A%20%20%20%20%20%20%20%20%0A%20%20%20%20%0A%20%20%20%20%0A%20%20%20%20%20%20%20%20%20%20%20%20var%20circle_marker_1756a8ec2ddc4184893ab1f2fc21982c%20%3D%20L.circleMarker%28%0A%20%20%20%20%20%20%20%20%20%20%20%20%20%20%20%20%5B43.667967%2C%20-79.3676753%5D%2C%0A%20%20%20%20%20%20%20%20%20%20%20%20%20%20%20%20%7B%22bubblingMouseEvents%22%3A%20true%2C%20%22color%22%3A%20%22blue%22%2C%20%22dashArray%22%3A%20null%2C%20%22dashOffset%22%3A%20null%2C%20%22fill%22%3A%20true%2C%20%22fillColor%22%3A%20%22blue%22%2C%20%22fillOpacity%22%3A%200.4%2C%20%22fillRule%22%3A%20%22evenodd%22%2C%20%22lineCap%22%3A%20%22round%22%2C%20%22lineJoin%22%3A%20%22round%22%2C%20%22opacity%22%3A%201.0%2C%20%22radius%22%3A%205%2C%20%22stroke%22%3A%20true%2C%20%22weight%22%3A%203%7D%0A%20%20%20%20%20%20%20%20%20%20%20%20%29.addTo%28map_8530485182ab4fce80bb58b0080c8971%29%3B%0A%20%20%20%20%20%20%20%20%0A%20%20%20%20%0A%20%20%20%20%20%20%20%20var%20popup_697086fd81a14d97a627b4aacf1e435f%20%3D%20L.popup%28%7B%22maxWidth%22%3A%20%22100%25%22%7D%29%3B%0A%0A%20%20%20%20%20%20%20%20%0A%20%20%20%20%20%20%20%20%20%20%20%20var%20html_9dfa1ff2bc9342348fc55d4d4de82805%20%3D%20%24%28%60%3Cdiv%20id%3D%22html_9dfa1ff2bc9342348fc55d4d4de82805%22%20style%3D%22width%3A%20100.0%25%3B%20height%3A%20100.0%25%3B%22%3E0%20%20%20%20%20%20%20%20%20%20%20Downtown%20Toronto%201%20%20%20%20%20%20%20%20%20%20%20Downtown%20Toronto%202%20%20%20%20%20%20%20%20%20%20%20Downtown%20Toronto%203%20%20%20%20%20%20%20%20%20%20%20%20%20%20%20East%20Toronto%204%20%20%20%20%20%20%20%20%20%20%20Downtown%20Toronto%205%20%20%20%20%20%20%20%20%20%20%20Downtown%20Toronto%206%20%20%20%20%20%20%20%20%20%20%20Downtown%20Toronto%207%20%20%20%20%20%20%20%20%20%20%20Downtown%20Toronto%208%20%20%20%20%20%20%20%20%20%20%20%20%20%20%20West%20Toronto%209%20%20%20%20%20East%20York/East%20Toronto%2010%20%20%20%20%20%20%20%20%20%20Downtown%20Toronto%2011%20%20%20%20%20%20%20%20%20%20%20%20%20%20West%20Toronto%2012%20%20%20%20%20%20%20%20%20%20%20%20%20%20East%20Toronto%2013%20%20%20%20%20%20%20%20%20%20Downtown%20Toronto%2014%20%20%20%20%20%20%20%20%20%20%20%20%20%20West%20Toronto%2015%20%20%20%20%20%20%20%20%20%20%20%20%20%20East%20Toronto%2016%20%20%20%20%20%20%20%20%20%20Downtown%20Toronto%2017%20%20%20%20%20%20%20%20%20%20%20%20%20%20East%20Toronto%2018%20%20%20%20%20%20%20%20%20%20%20Central%20Toronto%2019%20%20%20%20%20%20%20%20%20%20%20Central%20Toronto%2020%20%20%20%20%20%20%20%20%20%20%20Central%20Toronto%2021%20%20%20%20%20%20%20%20%20%20%20Central%20Toronto%2022%20%20%20%20%20%20%20%20%20%20%20%20%20%20West%20Toronto%2023%20%20%20%20%20%20%20%20%20%20%20Central%20Toronto%2024%20%20%20%20%20%20%20%20%20%20%20Central%20Toronto%2025%20%20%20%20%20%20%20%20%20%20%20%20%20%20West%20Toronto%2026%20%20%20%20%20%20%20%20%20%20%20Central%20Toronto%2027%20%20%20%20%20%20%20%20%20%20Downtown%20Toronto%2028%20%20%20%20%20%20%20%20%20%20%20%20%20%20West%20Toronto%2029%20%20%20%20%20%20%20%20%20%20%20Central%20Toronto%2030%20%20%20%20%20%20%20%20%20%20Downtown%20Toronto%2031%20%20%20%20%20%20%20%20%20%20%20Central%20Toronto%2032%20%20%20%20%20%20%20%20%20%20Downtown%20Toronto%2033%20%20%20%20%20%20%20%20%20%20Downtown%20Toronto%2034%20%20%20%20Downtown%20Toronto%20Stn%20A%2035%20%20%20%20%20%20%20%20%20%20Downtown%20Toronto%2036%20%20%20%20%20%20%20%20%20%20Downtown%20Toronto%2037%20%20%20%20%20%20%20%20%20%20Downtown%20Toronto%2038%20%20%20%20%20East%20Toronto%20Business%20Name%3A%20Borough%2C%20dtype%3A%20object%3C/div%3E%60%29%5B0%5D%3B%0A%20%20%20%20%20%20%20%20%20%20%20%20popup_697086fd81a14d97a627b4aacf1e435f.setContent%28html_9dfa1ff2bc9342348fc55d4d4de82805%29%3B%0A%20%20%20%20%20%20%20%20%0A%0A%20%20%20%20%20%20%20%20circle_marker_1756a8ec2ddc4184893ab1f2fc21982c.bindPopup%28popup_697086fd81a14d97a627b4aacf1e435f%29%0A%20%20%20%20%20%20%20%20%3B%0A%0A%20%20%20%20%20%20%20%20%0A%20%20%20%20%0A%20%20%20%20%0A%20%20%20%20%20%20%20%20%20%20%20%20var%20circle_marker_598799b619754fa7b96c5929f9690f59%20%3D%20L.circleMarker%28%0A%20%20%20%20%20%20%20%20%20%20%20%20%20%20%20%20%5B43.6484292%2C%20-79.3822802%5D%2C%0A%20%20%20%20%20%20%20%20%20%20%20%20%20%20%20%20%7B%22bubblingMouseEvents%22%3A%20true%2C%20%22color%22%3A%20%22blue%22%2C%20%22dashArray%22%3A%20null%2C%20%22dashOffset%22%3A%20null%2C%20%22fill%22%3A%20true%2C%20%22fillColor%22%3A%20%22blue%22%2C%20%22fillOpacity%22%3A%200.4%2C%20%22fillRule%22%3A%20%22evenodd%22%2C%20%22lineCap%22%3A%20%22round%22%2C%20%22lineJoin%22%3A%20%22round%22%2C%20%22opacity%22%3A%201.0%2C%20%22radius%22%3A%205%2C%20%22stroke%22%3A%20true%2C%20%22weight%22%3A%203%7D%0A%20%20%20%20%20%20%20%20%20%20%20%20%29.addTo%28map_8530485182ab4fce80bb58b0080c8971%29%3B%0A%20%20%20%20%20%20%20%20%0A%20%20%20%20%0A%20%20%20%20%20%20%20%20var%20popup_fc42ee1a610b4e1c9a1e73b2a7b48008%20%3D%20L.popup%28%7B%22maxWidth%22%3A%20%22100%25%22%7D%29%3B%0A%0A%20%20%20%20%20%20%20%20%0A%20%20%20%20%20%20%20%20%20%20%20%20var%20html_01f0e331be68451a8e9d43de58b25421%20%3D%20%24%28%60%3Cdiv%20id%3D%22html_01f0e331be68451a8e9d43de58b25421%22%20style%3D%22width%3A%20100.0%25%3B%20height%3A%20100.0%25%3B%22%3E0%20%20%20%20%20%20%20%20%20%20%20Downtown%20Toronto%201%20%20%20%20%20%20%20%20%20%20%20Downtown%20Toronto%202%20%20%20%20%20%20%20%20%20%20%20Downtown%20Toronto%203%20%20%20%20%20%20%20%20%20%20%20%20%20%20%20East%20Toronto%204%20%20%20%20%20%20%20%20%20%20%20Downtown%20Toronto%205%20%20%20%20%20%20%20%20%20%20%20Downtown%20Toronto%206%20%20%20%20%20%20%20%20%20%20%20Downtown%20Toronto%207%20%20%20%20%20%20%20%20%20%20%20Downtown%20Toronto%208%20%20%20%20%20%20%20%20%20%20%20%20%20%20%20West%20Toronto%209%20%20%20%20%20East%20York/East%20Toronto%2010%20%20%20%20%20%20%20%20%20%20Downtown%20Toronto%2011%20%20%20%20%20%20%20%20%20%20%20%20%20%20West%20Toronto%2012%20%20%20%20%20%20%20%20%20%20%20%20%20%20East%20Toronto%2013%20%20%20%20%20%20%20%20%20%20Downtown%20Toronto%2014%20%20%20%20%20%20%20%20%20%20%20%20%20%20West%20Toronto%2015%20%20%20%20%20%20%20%20%20%20%20%20%20%20East%20Toronto%2016%20%20%20%20%20%20%20%20%20%20Downtown%20Toronto%2017%20%20%20%20%20%20%20%20%20%20%20%20%20%20East%20Toronto%2018%20%20%20%20%20%20%20%20%20%20%20Central%20Toronto%2019%20%20%20%20%20%20%20%20%20%20%20Central%20Toronto%2020%20%20%20%20%20%20%20%20%20%20%20Central%20Toronto%2021%20%20%20%20%20%20%20%20%20%20%20Central%20Toronto%2022%20%20%20%20%20%20%20%20%20%20%20%20%20%20West%20Toronto%2023%20%20%20%20%20%20%20%20%20%20%20Central%20Toronto%2024%20%20%20%20%20%20%20%20%20%20%20Central%20Toronto%2025%20%20%20%20%20%20%20%20%20%20%20%20%20%20West%20Toronto%2026%20%20%20%20%20%20%20%20%20%20%20Central%20Toronto%2027%20%20%20%20%20%20%20%20%20%20Downtown%20Toronto%2028%20%20%20%20%20%20%20%20%20%20%20%20%20%20West%20Toronto%2029%20%20%20%20%20%20%20%20%20%20%20Central%20Toronto%2030%20%20%20%20%20%20%20%20%20%20Downtown%20Toronto%2031%20%20%20%20%20%20%20%20%20%20%20Central%20Toronto%2032%20%20%20%20%20%20%20%20%20%20Downtown%20Toronto%2033%20%20%20%20%20%20%20%20%20%20Downtown%20Toronto%2034%20%20%20%20Downtown%20Toronto%20Stn%20A%2035%20%20%20%20%20%20%20%20%20%20Downtown%20Toronto%2036%20%20%20%20%20%20%20%20%20%20Downtown%20Toronto%2037%20%20%20%20%20%20%20%20%20%20Downtown%20Toronto%2038%20%20%20%20%20East%20Toronto%20Business%20Name%3A%20Borough%2C%20dtype%3A%20object%3C/div%3E%60%29%5B0%5D%3B%0A%20%20%20%20%20%20%20%20%20%20%20%20popup_fc42ee1a610b4e1c9a1e73b2a7b48008.setContent%28html_01f0e331be68451a8e9d43de58b25421%29%3B%0A%20%20%20%20%20%20%20%20%0A%0A%20%20%20%20%20%20%20%20circle_marker_598799b619754fa7b96c5929f9690f59.bindPopup%28popup_fc42ee1a610b4e1c9a1e73b2a7b48008%29%0A%20%20%20%20%20%20%20%20%3B%0A%0A%20%20%20%20%20%20%20%20%0A%20%20%20%20%0A%20%20%20%20%0A%20%20%20%20%20%20%20%20%20%20%20%20var%20circle_marker_138fda7e00dc4dff806ad452e31c6a9f%20%3D%20L.circleMarker%28%0A%20%20%20%20%20%20%20%20%20%20%20%20%20%20%20%20%5B43.6658599%2C%20-79.3831599%5D%2C%0A%20%20%20%20%20%20%20%20%20%20%20%20%20%20%20%20%7B%22bubblingMouseEvents%22%3A%20true%2C%20%22color%22%3A%20%22blue%22%2C%20%22dashArray%22%3A%20null%2C%20%22dashOffset%22%3A%20null%2C%20%22fill%22%3A%20true%2C%20%22fillColor%22%3A%20%22blue%22%2C%20%22fillOpacity%22%3A%200.4%2C%20%22fillRule%22%3A%20%22evenodd%22%2C%20%22lineCap%22%3A%20%22round%22%2C%20%22lineJoin%22%3A%20%22round%22%2C%20%22opacity%22%3A%201.0%2C%20%22radius%22%3A%205%2C%20%22stroke%22%3A%20true%2C%20%22weight%22%3A%203%7D%0A%20%20%20%20%20%20%20%20%20%20%20%20%29.addTo%28map_8530485182ab4fce80bb58b0080c8971%29%3B%0A%20%20%20%20%20%20%20%20%0A%20%20%20%20%0A%20%20%20%20%20%20%20%20var%20popup_c892aad2a33f44988e96a562c6b5c4c2%20%3D%20L.popup%28%7B%22maxWidth%22%3A%20%22100%25%22%7D%29%3B%0A%0A%20%20%20%20%20%20%20%20%0A%20%20%20%20%20%20%20%20%20%20%20%20var%20html_61c6933166f84f11bcd26ad2ab55edc4%20%3D%20%24%28%60%3Cdiv%20id%3D%22html_61c6933166f84f11bcd26ad2ab55edc4%22%20style%3D%22width%3A%20100.0%25%3B%20height%3A%20100.0%25%3B%22%3E0%20%20%20%20%20%20%20%20%20%20%20Downtown%20Toronto%201%20%20%20%20%20%20%20%20%20%20%20Downtown%20Toronto%202%20%20%20%20%20%20%20%20%20%20%20Downtown%20Toronto%203%20%20%20%20%20%20%20%20%20%20%20%20%20%20%20East%20Toronto%204%20%20%20%20%20%20%20%20%20%20%20Downtown%20Toronto%205%20%20%20%20%20%20%20%20%20%20%20Downtown%20Toronto%206%20%20%20%20%20%20%20%20%20%20%20Downtown%20Toronto%207%20%20%20%20%20%20%20%20%20%20%20Downtown%20Toronto%208%20%20%20%20%20%20%20%20%20%20%20%20%20%20%20West%20Toronto%209%20%20%20%20%20East%20York/East%20Toronto%2010%20%20%20%20%20%20%20%20%20%20Downtown%20Toronto%2011%20%20%20%20%20%20%20%20%20%20%20%20%20%20West%20Toronto%2012%20%20%20%20%20%20%20%20%20%20%20%20%20%20East%20Toronto%2013%20%20%20%20%20%20%20%20%20%20Downtown%20Toronto%2014%20%20%20%20%20%20%20%20%20%20%20%20%20%20West%20Toronto%2015%20%20%20%20%20%20%20%20%20%20%20%20%20%20East%20Toronto%2016%20%20%20%20%20%20%20%20%20%20Downtown%20Toronto%2017%20%20%20%20%20%20%20%20%20%20%20%20%20%20East%20Toronto%2018%20%20%20%20%20%20%20%20%20%20%20Central%20Toronto%2019%20%20%20%20%20%20%20%20%20%20%20Central%20Toronto%2020%20%20%20%20%20%20%20%20%20%20%20Central%20Toronto%2021%20%20%20%20%20%20%20%20%20%20%20Central%20Toronto%2022%20%20%20%20%20%20%20%20%20%20%20%20%20%20West%20Toronto%2023%20%20%20%20%20%20%20%20%20%20%20Central%20Toronto%2024%20%20%20%20%20%20%20%20%20%20%20Central%20Toronto%2025%20%20%20%20%20%20%20%20%20%20%20%20%20%20West%20Toronto%2026%20%20%20%20%20%20%20%20%20%20%20Central%20Toronto%2027%20%20%20%20%20%20%20%20%20%20Downtown%20Toronto%2028%20%20%20%20%20%20%20%20%20%20%20%20%20%20West%20Toronto%2029%20%20%20%20%20%20%20%20%20%20%20Central%20Toronto%2030%20%20%20%20%20%20%20%20%20%20Downtown%20Toronto%2031%20%20%20%20%20%20%20%20%20%20%20Central%20Toronto%2032%20%20%20%20%20%20%20%20%20%20Downtown%20Toronto%2033%20%20%20%20%20%20%20%20%20%20Downtown%20Toronto%2034%20%20%20%20Downtown%20Toronto%20Stn%20A%2035%20%20%20%20%20%20%20%20%20%20Downtown%20Toronto%2036%20%20%20%20%20%20%20%20%20%20Downtown%20Toronto%2037%20%20%20%20%20%20%20%20%20%20Downtown%20Toronto%2038%20%20%20%20%20East%20Toronto%20Business%20Name%3A%20Borough%2C%20dtype%3A%20object%3C/div%3E%60%29%5B0%5D%3B%0A%20%20%20%20%20%20%20%20%20%20%20%20popup_c892aad2a33f44988e96a562c6b5c4c2.setContent%28html_61c6933166f84f11bcd26ad2ab55edc4%29%3B%0A%20%20%20%20%20%20%20%20%0A%0A%20%20%20%20%20%20%20%20circle_marker_138fda7e00dc4dff806ad452e31c6a9f.bindPopup%28popup_c892aad2a33f44988e96a562c6b5c4c2%29%0A%20%20%20%20%20%20%20%20%3B%0A%0A%20%20%20%20%20%20%20%20%0A%20%20%20%20%0A%20%20%20%20%0A%20%20%20%20%20%20%20%20%20%20%20%20var%20circle_marker_d99c54fc209648ab86f791f077130ba2%20%3D%20L.circleMarker%28%0A%20%20%20%20%20%20%20%20%20%20%20%20%20%20%20%20%5B43.6627439%2C%20-79.321558%5D%2C%0A%20%20%20%20%20%20%20%20%20%20%20%20%20%20%20%20%7B%22bubblingMouseEvents%22%3A%20true%2C%20%22color%22%3A%20%22blue%22%2C%20%22dashArray%22%3A%20null%2C%20%22dashOffset%22%3A%20null%2C%20%22fill%22%3A%20true%2C%20%22fillColor%22%3A%20%22blue%22%2C%20%22fillOpacity%22%3A%200.4%2C%20%22fillRule%22%3A%20%22evenodd%22%2C%20%22lineCap%22%3A%20%22round%22%2C%20%22lineJoin%22%3A%20%22round%22%2C%20%22opacity%22%3A%201.0%2C%20%22radius%22%3A%205%2C%20%22stroke%22%3A%20true%2C%20%22weight%22%3A%203%7D%0A%20%20%20%20%20%20%20%20%20%20%20%20%29.addTo%28map_8530485182ab4fce80bb58b0080c8971%29%3B%0A%20%20%20%20%20%20%20%20%0A%20%20%20%20%0A%20%20%20%20%20%20%20%20var%20popup_be72ce71ff9540268b5a07b0295f652f%20%3D%20L.popup%28%7B%22maxWidth%22%3A%20%22100%25%22%7D%29%3B%0A%0A%20%20%20%20%20%20%20%20%0A%20%20%20%20%20%20%20%20%20%20%20%20var%20html_6ba2d05d9a3449a58ee2aab51ccdab4a%20%3D%20%24%28%60%3Cdiv%20id%3D%22html_6ba2d05d9a3449a58ee2aab51ccdab4a%22%20style%3D%22width%3A%20100.0%25%3B%20height%3A%20100.0%25%3B%22%3E0%20%20%20%20%20%20%20%20%20%20%20Downtown%20Toronto%201%20%20%20%20%20%20%20%20%20%20%20Downtown%20Toronto%202%20%20%20%20%20%20%20%20%20%20%20Downtown%20Toronto%203%20%20%20%20%20%20%20%20%20%20%20%20%20%20%20East%20Toronto%204%20%20%20%20%20%20%20%20%20%20%20Downtown%20Toronto%205%20%20%20%20%20%20%20%20%20%20%20Downtown%20Toronto%206%20%20%20%20%20%20%20%20%20%20%20Downtown%20Toronto%207%20%20%20%20%20%20%20%20%20%20%20Downtown%20Toronto%208%20%20%20%20%20%20%20%20%20%20%20%20%20%20%20West%20Toronto%209%20%20%20%20%20East%20York/East%20Toronto%2010%20%20%20%20%20%20%20%20%20%20Downtown%20Toronto%2011%20%20%20%20%20%20%20%20%20%20%20%20%20%20West%20Toronto%2012%20%20%20%20%20%20%20%20%20%20%20%20%20%20East%20Toronto%2013%20%20%20%20%20%20%20%20%20%20Downtown%20Toronto%2014%20%20%20%20%20%20%20%20%20%20%20%20%20%20West%20Toronto%2015%20%20%20%20%20%20%20%20%20%20%20%20%20%20East%20Toronto%2016%20%20%20%20%20%20%20%20%20%20Downtown%20Toronto%2017%20%20%20%20%20%20%20%20%20%20%20%20%20%20East%20Toronto%2018%20%20%20%20%20%20%20%20%20%20%20Central%20Toronto%2019%20%20%20%20%20%20%20%20%20%20%20Central%20Toronto%2020%20%20%20%20%20%20%20%20%20%20%20Central%20Toronto%2021%20%20%20%20%20%20%20%20%20%20%20Central%20Toronto%2022%20%20%20%20%20%20%20%20%20%20%20%20%20%20West%20Toronto%2023%20%20%20%20%20%20%20%20%20%20%20Central%20Toronto%2024%20%20%20%20%20%20%20%20%20%20%20Central%20Toronto%2025%20%20%20%20%20%20%20%20%20%20%20%20%20%20West%20Toronto%2026%20%20%20%20%20%20%20%20%20%20%20Central%20Toronto%2027%20%20%20%20%20%20%20%20%20%20Downtown%20Toronto%2028%20%20%20%20%20%20%20%20%20%20%20%20%20%20West%20Toronto%2029%20%20%20%20%20%20%20%20%20%20%20Central%20Toronto%2030%20%20%20%20%20%20%20%20%20%20Downtown%20Toronto%2031%20%20%20%20%20%20%20%20%20%20%20Central%20Toronto%2032%20%20%20%20%20%20%20%20%20%20Downtown%20Toronto%2033%20%20%20%20%20%20%20%20%20%20Downtown%20Toronto%2034%20%20%20%20Downtown%20Toronto%20Stn%20A%2035%20%20%20%20%20%20%20%20%20%20Downtown%20Toronto%2036%20%20%20%20%20%20%20%20%20%20Downtown%20Toronto%2037%20%20%20%20%20%20%20%20%20%20Downtown%20Toronto%2038%20%20%20%20%20East%20Toronto%20Business%20Name%3A%20Borough%2C%20dtype%3A%20object%3C/div%3E%60%29%5B0%5D%3B%0A%20%20%20%20%20%20%20%20%20%20%20%20popup_be72ce71ff9540268b5a07b0295f652f.setContent%28html_6ba2d05d9a3449a58ee2aab51ccdab4a%29%3B%0A%20%20%20%20%20%20%20%20%0A%0A%20%20%20%20%20%20%20%20circle_marker_d99c54fc209648ab86f791f077130ba2.bindPopup%28popup_be72ce71ff9540268b5a07b0295f652f%29%0A%20%20%20%20%20%20%20%20%3B%0A%0A%20%20%20%20%20%20%20%20%0A%20%20%20%20%0A%3C/script%3E onload=\"this.contentDocument.open();this.contentDocument.write(    decodeURIComponent(this.getAttribute('data-html')));this.contentDocument.close();\" allowfullscreen webkitallowfullscreen mozallowfullscreen></iframe></div></div>"
      ],
      "text/plain": [
       "<folium.folium.Map at 0x2039cb6adf0>"
      ]
     },
     "execution_count": 53,
     "metadata": {},
     "output_type": "execute_result"
    }
   ],
   "source": [
    "map_toronto"
   ]
  },
  {
   "cell_type": "code",
   "execution_count": null,
   "id": "9094a2c1-cab4-474e-9216-014d0cc1515e",
   "metadata": {},
   "outputs": [],
   "source": []
  }
 ],
 "metadata": {
  "kernelspec": {
   "display_name": "Python 3",
   "language": "python",
   "name": "python3"
  },
  "language_info": {
   "codemirror_mode": {
    "name": "ipython",
    "version": 3
   },
   "file_extension": ".py",
   "mimetype": "text/x-python",
   "name": "python",
   "nbconvert_exporter": "python",
   "pygments_lexer": "ipython3",
   "version": "3.9.5"
  }
 },
 "nbformat": 4,
 "nbformat_minor": 5
}
